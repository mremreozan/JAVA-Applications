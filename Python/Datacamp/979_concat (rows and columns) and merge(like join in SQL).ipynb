{
 "cells": [
  {
   "cell_type": "code",
   "execution_count": 1,
   "metadata": {},
   "outputs": [],
   "source": [
    "import pandas as pd\n",
    "uber = pd.read_csv(\"Datasets/nyc_uber_2014.csv\")"
   ]
  },
  {
   "cell_type": "code",
   "execution_count": 16,
   "metadata": {},
   "outputs": [],
   "source": [
    "uber1 = uber[uber['Date/Time']=='4/1/2014']\n",
    "uber2 = uber[uber['Date/Time']=='5/1/2014']\n",
    "uber3 = uber[uber['Date/Time']=='6/1/2014']"
   ]
  },
  {
   "cell_type": "code",
   "execution_count": 21,
   "metadata": {},
   "outputs": [
    {
     "name": "stdout",
     "output_type": "stream",
     "text": [
      "(297, 5)\n",
      "   Unnamed: 0 Date/Time      Lat      Lon    Base\n",
      "0           0  4/1/2014  40.7690 -73.9549  B02512\n",
      "1           1  4/1/2014  40.7267 -74.0345  B02512\n",
      "2           2  4/1/2014  40.7316 -73.9873  B02512\n",
      "3           3  4/1/2014  40.7588 -73.9776  B02512\n",
      "4           4  4/1/2014  40.7594 -73.9722  B02512\n"
     ]
    }
   ],
   "source": [
    "# Concatenate uber1, uber2, and uber3: row_concat\n",
    "row_concat = pd.concat([uber1, uber2, uber3])\n",
    "\n",
    "# Print the shape of row_concat\n",
    "print(row_concat.shape)\n",
    "\n",
    "# Print the head of row_concat\n",
    "print(row_concat.head())"
   ]
  },
  {
   "cell_type": "code",
   "execution_count": 36,
   "metadata": {},
   "outputs": [
    {
     "name": "stdout",
     "output_type": "stream",
     "text": [
      "       Date  Day  type_country  counts\n",
      "0  1/5/2015  289  Cases_Guinea  2776.0\n",
      "1  1/4/2015  288  Cases_Guinea  2775.0\n",
      "    type country\n",
      "0  Cases  Guinea\n",
      "1  Cases  Guinea\n",
      "         Date  Day  type_country  counts   type country\n",
      "0    1/5/2015  289  Cases_Guinea  2776.0  Cases  Guinea\n",
      "1    1/4/2015  288  Cases_Guinea  2775.0  Cases  Guinea\n",
      "2    1/3/2015  287  Cases_Guinea  2769.0  Cases  Guinea\n",
      "3    1/2/2015  286  Cases_Guinea     NaN  Cases  Guinea\n",
      "4  12/31/2014  284  Cases_Guinea  2730.0  Cases  Guinea\n"
     ]
    }
   ],
   "source": [
    "# combine columns of two dataframe \n",
    "ebola = pd.read_csv('Datasets/ebola.csv')\n",
    "\n",
    "# Melt ebola: ebola_melt\n",
    "ebola_melt = pd.melt(ebola, id_vars=['Date', 'Day'], var_name='type_country', value_name='counts')\n",
    "\n",
    "print(ebola_melt.head(2))\n",
    "\n",
    "# create a new dataframe called ebola2\n",
    "index = range(ebola_melt.shape[0])\n",
    "columns = ['str_split', 'type', 'country']\n",
    "ebola2 = pd.DataFrame(index=index, columns=columns)\n",
    "ebola2.head()\n",
    "\n",
    "# Create the 'str_split' column\n",
    "ebola2['str_split'] = ebola_melt.type_country.str.split('_')\n",
    "\n",
    "# Create the 'type' column\n",
    "ebola2['type'] = ebola2.str_split.str.get(0)\n",
    "\n",
    "# Create the 'country' column\n",
    "ebola2['country'] = ebola2.str_split.str.get(1)\n",
    "\n",
    "# delete str_split column\n",
    "ebola2.drop(columns='str_split', inplace=True)\n",
    " \n",
    "print(ebola2.head(2))\n",
    "\n",
    "# Concatenate ebola_melt and status_country column-wise: ebola_tidy\n",
    "ebola_tidy = pd.concat([ebola_melt, ebola2], axis=1)\n",
    "\n",
    "# Print the head of ebola_tidy\n",
    "print(ebola_tidy.head())"
   ]
  },
  {
   "cell_type": "code",
   "execution_count": 37,
   "metadata": {},
   "outputs": [
    {
     "name": "stdout",
     "output_type": "stream",
     "text": [
      "['Datasets\\\\airquality.csv', 'Datasets\\\\BRICS.csv', 'Datasets\\\\cars.csv', 'Datasets\\\\digits.csv', 'Datasets\\\\dob_job_application_filings_subset.csv', 'Datasets\\\\ebola.csv', 'Datasets\\\\gapminder.csv', 'Datasets\\\\gapminder2.csv', 'Datasets\\\\nyc_uber_2014.csv', 'Datasets\\\\tb.csv', 'Datasets\\\\tips.csv', 'Datasets\\\\titanic.csv', 'Datasets\\\\tweets.csv', 'Datasets\\\\winequality-red.csv', 'Datasets\\\\world_dev_ind.csv']\n",
      "  Unnamed: 0       country    capital    area  population\n",
      "0         BR        Brazil   Brasilia   8.516      200.40\n",
      "1         RU        Russia     Moscow  17.100      143.50\n",
      "2         IN         India  New Delhi   3.286     1252.00\n",
      "3         CH         China    Beijing   9.597     1357.00\n",
      "4         SA  South Africa   Pretoria   1.221       52.98\n"
     ]
    }
   ],
   "source": [
    "# Import necessary modules\n",
    "import glob\n",
    "import pandas as pd\n",
    "\n",
    "# Write the pattern: pattern\n",
    "pattern = 'Datasets/*.csv'\n",
    "\n",
    "# Save all file matches: csv_files\n",
    "csv_files = glob.glob(pattern)\n",
    "\n",
    "# Print the file names\n",
    "print(csv_files)\n",
    "\n",
    "# Load the second file into a DataFrame: csv2\n",
    "csv2 = pd.read_csv(csv_files[1])\n",
    "\n",
    "# Print the head of csv2\n",
    "print(csv2.head())"
   ]
  },
  {
   "cell_type": "code",
   "execution_count": 39,
   "metadata": {},
   "outputs": [
    {
     "name": "stderr",
     "output_type": "stream",
     "text": [
      "C:\\Anaconda3\\lib\\site-packages\\ipykernel_launcher.py:14: FutureWarning: Sorting because non-concatenation axis is not aligned. A future version\n",
      "of pandas will change to not sort by default.\n",
      "\n",
      "To accept the future behavior, pass 'sort=False'.\n",
      "\n",
      "To retain the current behavior and silence the warning, pass 'sort=True'.\n",
      "\n",
      "  \n"
     ]
    },
    {
     "name": "stdout",
     "output_type": "stream",
     "text": [
      "(30860, 1194)\n",
      "   0.0  0.0.1  0.0.10  0.0.100  0.0.101  0.0.102  0.0.103  0.0.104  0.0.105  \\\n",
      "0  NaN    NaN     NaN      NaN      NaN      NaN      NaN      NaN      NaN   \n",
      "\n",
      "   0.0.106  ...  smoker  source  text  time  timestamp_ms  tip  total_bill  \\\n",
      "0      NaN  ...     NaN     NaN   NaN   NaN           NaN  NaN         NaN   \n",
      "\n",
      "   truncated  user  year  \n",
      "0        NaN   NaN   NaN  \n",
      "\n",
      "[1 rows x 1194 columns]\n"
     ]
    }
   ],
   "source": [
    "# Create an empty list: frames\n",
    "frames = []\n",
    "\n",
    "#  Iterate over csv_files\n",
    "for csv in csv_files:\n",
    "\n",
    "    #  Read csv into a DataFrame: df\n",
    "    df = pd.read_csv(csv)\n",
    "    \n",
    "    # Append df to frames\n",
    "    frames.append(df)\n",
    "\n",
    "# Concatenate frames into a single DataFrame: uber\n",
    "allcsv = pd.concat(frames)\n",
    "    \n",
    "# Print the shape of uber\n",
    "print(allcsv.shape)\n",
    "\n",
    "# Print the head of uber\n",
    "print(allcsv.head(1))"
   ]
  },
  {
   "cell_type": "code",
   "execution_count": 42,
   "metadata": {},
   "outputs": [
    {
     "name": "stdout",
     "output_type": "stream",
     "text": [
      "   Unnamed: 0_x   name    lat    long  Unnamed: 0_y  ident   site       dated\n",
      "0             0   DR-1 -49.85 -128.57             0    619   DR-1  1927-02-08\n",
      "1             0   DR-1 -49.85 -128.57             7    844   DR-1  1932-03-22\n",
      "2             1   DR-3 -47.15 -126.72             1    734   DR-3  1939-01-07\n",
      "3             1   DR-3 -47.15 -126.72             3    735   DR-3  1930-01-12\n",
      "4             1   DR-3 -47.15 -126.72             4    751   DR-3  1930-02-26\n",
      "5             1   DR-3 -47.15 -126.72             5    752   DR-3         NaN\n",
      "6             2  MSK-4 -48.87 -123.40             2    837  MSK-4  1932-01-14\n",
      "7             2  MSK-4 -48.87 -123.40             6    837  MSK-4  1932-01-14\n"
     ]
    }
   ],
   "source": [
    "site = pd.read_csv('Datasets/site.csv')\n",
    "visited = pd.read_csv('Datasets/visited.csv')\n",
    "\n",
    "# Merge the DataFrames: o2o\n",
    "o2o = pd.merge(left=site, right=visited, left_on='name', right_on='site')\n",
    "\n",
    "# Print o2o\n",
    "print(o2o)"
   ]
  },
  {
   "cell_type": "code",
   "execution_count": null,
   "metadata": {},
   "outputs": [],
   "source": []
  }
 ],
 "metadata": {
  "kernelspec": {
   "display_name": "Python 3",
   "language": "python",
   "name": "python3"
  },
  "language_info": {
   "codemirror_mode": {
    "name": "ipython",
    "version": 3
   },
   "file_extension": ".py",
   "mimetype": "text/x-python",
   "name": "python",
   "nbconvert_exporter": "python",
   "pygments_lexer": "ipython3",
   "version": "3.7.3"
  }
 },
 "nbformat": 4,
 "nbformat_minor": 2
}
