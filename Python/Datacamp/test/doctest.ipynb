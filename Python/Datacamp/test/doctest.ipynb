{
 "cells": [
  {
   "cell_type": "code",
   "execution_count": 3,
   "metadata": {},
   "outputs": [],
   "source": [
    "from collections import Counter\n",
    "import sys\n",
    "sys.path.append(\"..\")\n",
    "import oop_package as oop\n",
    "import doctest"
   ]
  },
  {
   "cell_type": "markdown",
   "metadata": {},
   "source": [
    "## DocTest"
   ]
  },
  {
   "cell_type": "code",
   "execution_count": 25,
   "metadata": {},
   "outputs": [
    {
     "data": {
      "text/plain": [
       "TestResults(failed=0, attempted=3)"
      ]
     },
     "execution_count": 25,
     "metadata": {},
     "output_type": "execute_result"
    }
   ],
   "source": [
    "def sum_counters(counters):\n",
    "    \"\"\"Aggregate collections.Counter objects by summing counts\n",
    "\n",
    "    :param counters: list/tuple of counters to sum\n",
    "    :return: aggregated counters with counts summed\n",
    "\n",
    "    >>> d1 = oop.Document('1 2 fizz 4 buzz fizz 7 8')\n",
    "    >>> d2 = oop.Document('fizz buzz 11 fizz 13 14')\n",
    "    >>> sum_counters([d1.word_counts, d2.word_counts])\n",
    "    Counter({'fizz': 4, 'buzz': 2, '1': 1, '2': 1, '4': 1, '7': 1, '8': 1, '11': 1, '13': 1, '14': 1})\n",
    "    \"\"\"\n",
    "    return sum(counters, Counter())\n",
    "doctest.testmod()"
   ]
  },
  {
   "cell_type": "code",
   "execution_count": 19,
   "metadata": {},
   "outputs": [
    {
     "name": "stdout",
     "output_type": "stream",
     "text": [
      "Counter({'fizz': 2, '1': 1, '2': 1, '4': 1, 'buzz': 1, '7': 1, '8': 1})\n",
      "Counter({'fizz': 2, 'buzz': 1, '11': 1, '13': 1, '14': 1})\n",
      "Counter({'fizz': 4, 'buzz': 2, '1': 1, '2': 1, '4': 1, '7': 1, '8': 1, '11': 1, '13': 1, '14': 1})\n"
     ]
    }
   ],
   "source": [
    "d1 = oop.Document('1 2 fizz 4 buzz fizz 7 8')\n",
    "print(d1.word_counts)\n",
    "d2 = oop.Document('fizz buzz 11 fizz 13 14')\n",
    "print(d2.word_counts)\n",
    "print(sum_counters([d1.word_counts, d2.word_counts]))"
   ]
  }
 ],
 "metadata": {
  "kernelspec": {
   "display_name": "Python 3",
   "language": "python",
   "name": "python3"
  },
  "language_info": {
   "codemirror_mode": {
    "name": "ipython",
    "version": 3
   },
   "file_extension": ".py",
   "mimetype": "text/x-python",
   "name": "python",
   "nbconvert_exporter": "python",
   "pygments_lexer": "ipython3",
   "version": "3.7.3"
  }
 },
 "nbformat": 4,
 "nbformat_minor": 2
}
