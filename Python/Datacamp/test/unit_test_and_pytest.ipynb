{
 "cells": [
  {
   "cell_type": "markdown",
   "metadata": {},
   "source": [
    "keyword: unit test, pytest, assert"
   ]
  },
  {
   "cell_type": "code",
   "execution_count": 7,
   "metadata": {},
   "outputs": [
    {
     "name": "stdout",
     "output_type": "stream",
     "text": [
      "============================= test session starts =============================\n",
      "platform win32 -- Python 3.7.3, pytest-5.0.1, py-1.8.0, pluggy-0.12.0\n",
      "rootdir: C:\\Users\\dogan\\Documents\\JAVA-Applications\\Python\\Datacamp\n",
      "plugins: arraydiff-0.3, doctestplus-0.3.0, openfiles-0.3.2, remotedata-0.3.1\n",
      "collected 1 item\n",
      "\n",
      "test_social_media.py .                                                   [100%]\n",
      "\n",
      "============================== warnings summary ===============================\n",
      "C:\\Anaconda3\\lib\\site-packages\\parso\\python\\tree.py:46\n",
      "  C:\\Anaconda3\\lib\\site-packages\\parso\\python\\tree.py:46: DeprecationWarning: Using or importing the ABCs from 'collections' instead of from 'collections.abc' is deprecated, and in 3.8 it will stop working\n",
      "    from collections import Mapping\n",
      "\n",
      "-- Docs: https://docs.pytest.org/en/latest/warnings.html\n",
      "==================== 1 passed, 1 warnings in 2.51 seconds =====================\n"
     ]
    }
   ],
   "source": [
    "!pytest test_social_media.py"
   ]
  },
  {
   "cell_type": "markdown",
   "metadata": {},
   "source": [
    "### Point (.) after \"test_social_media.py\" means function passed. If it is failure, it is written \"F\".  "
   ]
  },
  {
   "cell_type": "code",
   "execution_count": 12,
   "metadata": {},
   "outputs": [
    {
     "name": "stdout",
     "output_type": "stream",
     "text": [
      "============================= test session starts =============================\n",
      "platform win32 -- Python 3.7.3, pytest-5.0.1, py-1.8.0, pluggy-0.12.0\n",
      "rootdir: C:\\Users\\dogan\\Documents\\JAVA-Applications\\Python\\Datacamp\n",
      "plugins: arraydiff-0.3, doctestplus-0.3.0, openfiles-0.3.2, remotedata-0.3.1\n",
      "collected 2 items\n",
      "\n",
      "pytest_function.py F.                                                    [100%]\n",
      "\n",
      "================================== FAILURES ===================================\n",
      "_____________________________ test_convert_to_int _____________________________\n",
      "\n",
      "    def test_convert_to_int():\n",
      "      # Complete the assert statement\n",
      ">     assert funcs.convert_to_int(\"2,081\") == 2081\n",
      "E     AssertionError: assert '2081' == 2081\n",
      "E      +  where '2081' = <function convert_to_int at 0x000002AA3C2A8620>('2,081')\n",
      "E      +    where <function convert_to_int at 0x000002AA3C2A8620> = funcs.convert_to_int\n",
      "\n",
      "pytest_function.py:12: AssertionError\n",
      "===================== 1 failed, 1 passed in 0.22 seconds ======================\n"
     ]
    }
   ],
   "source": [
    "!pytest pytest_function.py"
   ]
  },
  {
   "cell_type": "markdown",
   "metadata": {},
   "source": [
    "### convert_to_int(\"2,081\") is expected to return the integer 2081, but it is actually returning the string \"2081\"."
   ]
  },
  {
   "cell_type": "code",
   "execution_count": 16,
   "metadata": {},
   "outputs": [],
   "source": [
    "%pycat pytest_function.py  # to see content of the function"
   ]
  },
  {
   "cell_type": "code",
   "execution_count": null,
   "metadata": {},
   "outputs": [],
   "source": []
  }
 ],
 "metadata": {
  "kernelspec": {
   "display_name": "Python 3",
   "language": "python",
   "name": "python3"
  },
  "language_info": {
   "codemirror_mode": {
    "name": "ipython",
    "version": 3
   },
   "file_extension": ".py",
   "mimetype": "text/x-python",
   "name": "python",
   "nbconvert_exporter": "python",
   "pygments_lexer": "ipython3",
   "version": "3.7.3"
  }
 },
 "nbformat": 4,
 "nbformat_minor": 2
}
