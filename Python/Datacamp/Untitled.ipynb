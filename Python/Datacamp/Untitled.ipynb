{
 "cells": [
  {
   "cell_type": "code",
   "execution_count": 3,
   "metadata": {},
   "outputs": [
    {
     "name": "stdout",
     "output_type": "stream",
     "text": [
      "<class 'zip'>\n",
      "<class 'dict'>\n",
      "<class 'pandas.core.frame.DataFrame'>\n",
      "          Country  Medal_Number\n",
      "0   United States          1118\n",
      "1    Soviet Union           473\n",
      "2  United Kingdom           273\n"
     ]
    }
   ],
   "source": [
    "import pandas as pd\n",
    "label = ['Country', 'Medal_Number']\n",
    "countries = ['United States', 'Soviet Union', 'United Kingdom']\n",
    "medal_number = [1118, 473, 273]\n",
    "dict_values = [countries, medal_number]\n",
    "zip_dict = zip(label, dict_values)\n",
    "dict_df = dict(zip_dict)\n",
    "df = pd.DataFrame(dict_df)\n",
    "print(type(zip_dict))\n",
    "print(type(dict_df))\n",
    "print(type(df))\n",
    "print(df)"
   ]
  },
  {
   "cell_type": "code",
   "execution_count": 5,
   "metadata": {},
   "outputs": [
    {
     "name": "stdout",
     "output_type": "stream",
     "text": [
      "      state     city\n",
      "0  istanbul  kadikoy\n",
      "1  istanbul  uskudar\n",
      "2  istanbul  maltepe\n"
     ]
    }
   ],
   "source": [
    "state = 'istanbul'\n",
    "cities = ['kadikoy', 'uskudar', 'maltepe']\n",
    "data = {'state':state, 'city':cities}\n",
    "df = pd.DataFrame(data)\n",
    "print(df)"
   ]
  },
  {
   "cell_type": "code",
   "execution_count": 13,
   "metadata": {},
   "outputs": [
    {
     "name": "stdout",
     "output_type": "stream",
     "text": [
      "Index(['The following stock data was collect on 2016-AUG-25 from an unknown source'], dtype='object')\n",
      "                                              The following stock data was collect on 2016-AUG-25 from an unknown source\n",
      "These kind of ocmments are not very useful                                             are they?                        \n",
      "probably should just throw this line away too     but not the next since those are column labels                        \n",
      "Index(['name', 'Jan', 'Feb', 'Mar', 'Apr', 'May', 'Jun', 'Jul', 'Aug', 'Sep',\n",
      "       'Oct', 'Nov', 'Dec'],\n",
      "      dtype='object')\n",
      "   name     Jan     Feb     Mar     Apr     May     Jun     Jul     Aug  \\\n",
      "0   IBM  156.08  160.01  159.81  165.22  172.25  167.15  164.75  152.77   \n",
      "1  MSFT   45.51   43.08   42.13   43.47   47.53   45.96   45.61   45.51   \n",
      "\n",
      "      Sep     Oct     Nov     Dec  \n",
      "0  145.36  146.11  137.21  137.96  \n",
      "1   43.56   48.70   53.88   55.40  \n"
     ]
    }
   ],
   "source": [
    "dfmessy = pd.read_csv('Datasets/messy_stock_data.tsv')\n",
    "print(dfmessy.columns)\n",
    "print(dfmessy.head(2))\n",
    "# This file has three aspects that may cause trouble: \n",
    "#    multiple header lines,  ----> we want to select thiord header\n",
    "#    comment records (rows) interleaved throughout the data rows,   ---> we want to remove comment records starting with '#'\n",
    "#    space delimiters instead of commas.\n",
    "dfmessy2 = pd.read_csv('Datasets/messy_stock_data.tsv', delimiter=' ', header=3, comment='#')\n",
    "print(dfmessy2.columns)\n",
    "print(dfmessy2.head(2))"
   ]
  },
  {
   "cell_type": "code",
   "execution_count": null,
   "metadata": {},
   "outputs": [],
   "source": [
    "# Prepare a format string: time_format\n",
    "time_format='%Y-%m-%d %H:%M'\n",
    "\n",
    "# Convert date_list into a datetime object: my_datetimes\n",
    "my_datetimes = pd.to_datetime(date_list, format=time_format)  \n",
    "\n",
    "# Construct a pandas Series using temperature_list and my_datetimes: time_series\n",
    "time_series = pd.Series(temperature_list, index=my_datetimes)"
   ]
  }
 ],
 "metadata": {
  "kernelspec": {
   "display_name": "Python 3",
   "language": "python",
   "name": "python3"
  },
  "language_info": {
   "codemirror_mode": {
    "name": "ipython",
    "version": 3
   },
   "file_extension": ".py",
   "mimetype": "text/x-python",
   "name": "python",
   "nbconvert_exporter": "python",
   "pygments_lexer": "ipython3",
   "version": "3.7.3"
  }
 },
 "nbformat": 4,
 "nbformat_minor": 2
}
