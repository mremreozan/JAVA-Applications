{
 "cells": [
  {
   "cell_type": "code",
   "execution_count": 75,
   "metadata": {},
   "outputs": [],
   "source": [
    "import pandas as pd\n",
    "import numpy as np\n",
    "import h5py\n",
    "import matplotlib.pyplot as plt"
   ]
  },
  {
   "cell_type": "markdown",
   "metadata": {},
   "source": [
    "## 1) Import hdf5 file "
   ]
  },
  {
   "cell_type": "code",
   "execution_count": 76,
   "metadata": {},
   "outputs": [
    {
     "name": "stdout",
     "output_type": "stream",
     "text": [
      "gss\n",
      "axis0\n",
      "axis1\n",
      "block0_items\n",
      "block0_values\n",
      "block1_items\n",
      "block1_values\n",
      "(10,)\n",
      "(62466, 10)\n"
     ]
    }
   ],
   "source": [
    "# Assign filename: file\n",
    "file = 'Datasets/gss.hdf5'\n",
    "\n",
    "# Load file: data\n",
    "data = h5py.File(file, 'r')\n",
    "\n",
    "# Print the keys of the file\n",
    "# Print the names of the groups in the HDF5 file\n",
    "for key in data.keys():\n",
    "    print(key)\n",
    "\n",
    "# Get the HDF5 group: group\n",
    "group = data['gss']\n",
    "\n",
    "# Check out keys of group\n",
    "for key in group.keys():\n",
    "    print(key)             \n",
    "    \n",
    "# Set variable equal to time series data: strain\n",
    "axis1 = np.append(data['gss']['block0_items'], data['gss']['block1_items'])\n",
    "print(axis1.shape)\n",
    "\n",
    "axis01 = data['gss']['block0_values']\n",
    "axis02 = data['gss']['block1_values']\n",
    "axis0 = np.concatenate((axis01, axis02), axis=1)\n",
    "print(axis0.shape)"
   ]
  },
  {
   "cell_type": "code",
   "execution_count": 77,
   "metadata": {},
   "outputs": [
    {
     "data": {
      "text/html": [
       "<div>\n",
       "<style scoped>\n",
       "    .dataframe tbody tr th:only-of-type {\n",
       "        vertical-align: middle;\n",
       "    }\n",
       "\n",
       "    .dataframe tbody tr th {\n",
       "        vertical-align: top;\n",
       "    }\n",
       "\n",
       "    .dataframe thead th {\n",
       "        text-align: right;\n",
       "    }\n",
       "</style>\n",
       "<table border=\"1\" class=\"dataframe\">\n",
       "  <thead>\n",
       "    <tr style=\"text-align: right;\">\n",
       "      <th></th>\n",
       "      <th>b'age'</th>\n",
       "      <th>b'cohort'</th>\n",
       "      <th>b'educ'</th>\n",
       "      <th>b'realinc'</th>\n",
       "      <th>b'gunlaw'</th>\n",
       "      <th>b'grass'</th>\n",
       "      <th>b'wtssall'</th>\n",
       "      <th>b'year'</th>\n",
       "      <th>b'sex'</th>\n",
       "      <th>b'race'</th>\n",
       "    </tr>\n",
       "  </thead>\n",
       "  <tbody>\n",
       "    <tr>\n",
       "      <th>0</th>\n",
       "      <td>26.0</td>\n",
       "      <td>1946.0</td>\n",
       "      <td>18.0</td>\n",
       "      <td>13537.0</td>\n",
       "      <td>2.0</td>\n",
       "      <td>NaN</td>\n",
       "      <td>0.8893</td>\n",
       "      <td>1972.0</td>\n",
       "      <td>1.0</td>\n",
       "      <td>1.0</td>\n",
       "    </tr>\n",
       "    <tr>\n",
       "      <th>1</th>\n",
       "      <td>38.0</td>\n",
       "      <td>1934.0</td>\n",
       "      <td>12.0</td>\n",
       "      <td>18951.0</td>\n",
       "      <td>1.0</td>\n",
       "      <td>NaN</td>\n",
       "      <td>0.4446</td>\n",
       "      <td>1972.0</td>\n",
       "      <td>2.0</td>\n",
       "      <td>1.0</td>\n",
       "    </tr>\n",
       "  </tbody>\n",
       "</table>\n",
       "</div>"
      ],
      "text/plain": [
       "   b'age'  b'cohort'  b'educ'  b'realinc'  b'gunlaw'  b'grass'  b'wtssall'  \\\n",
       "0    26.0     1946.0     18.0     13537.0        2.0       NaN      0.8893   \n",
       "1    38.0     1934.0     12.0     18951.0        1.0       NaN      0.4446   \n",
       "\n",
       "   b'year'  b'sex'  b'race'  \n",
       "0   1972.0     1.0      1.0  \n",
       "1   1972.0     2.0      1.0  "
      ]
     },
     "execution_count": 77,
     "metadata": {},
     "output_type": "execute_result"
    }
   ],
   "source": [
    "gss = pd.DataFrame(axis0, columns=axis1)\n",
    "gss.head(2)"
   ]
  },
  {
   "cell_type": "code",
   "execution_count": 78,
   "metadata": {},
   "outputs": [],
   "source": [
    "col = []\n",
    "for i, val in enumerate(gss.columns):\n",
    "    col.append(val.decode('utf8'))\n",
    "gss.columns = col"
   ]
  },
  {
   "cell_type": "code",
   "execution_count": 79,
   "metadata": {},
   "outputs": [
    {
     "data": {
      "text/html": [
       "<div>\n",
       "<style scoped>\n",
       "    .dataframe tbody tr th:only-of-type {\n",
       "        vertical-align: middle;\n",
       "    }\n",
       "\n",
       "    .dataframe tbody tr th {\n",
       "        vertical-align: top;\n",
       "    }\n",
       "\n",
       "    .dataframe thead th {\n",
       "        text-align: right;\n",
       "    }\n",
       "</style>\n",
       "<table border=\"1\" class=\"dataframe\">\n",
       "  <thead>\n",
       "    <tr style=\"text-align: right;\">\n",
       "      <th></th>\n",
       "      <th>age</th>\n",
       "      <th>cohort</th>\n",
       "      <th>educ</th>\n",
       "      <th>realinc</th>\n",
       "      <th>gunlaw</th>\n",
       "      <th>grass</th>\n",
       "      <th>wtssall</th>\n",
       "      <th>year</th>\n",
       "      <th>sex</th>\n",
       "      <th>race</th>\n",
       "    </tr>\n",
       "  </thead>\n",
       "  <tbody>\n",
       "    <tr>\n",
       "      <th>0</th>\n",
       "      <td>26.0</td>\n",
       "      <td>1946.0</td>\n",
       "      <td>18.0</td>\n",
       "      <td>13537.0</td>\n",
       "      <td>2.0</td>\n",
       "      <td>NaN</td>\n",
       "      <td>0.8893</td>\n",
       "      <td>1972.0</td>\n",
       "      <td>1.0</td>\n",
       "      <td>1.0</td>\n",
       "    </tr>\n",
       "    <tr>\n",
       "      <th>1</th>\n",
       "      <td>38.0</td>\n",
       "      <td>1934.0</td>\n",
       "      <td>12.0</td>\n",
       "      <td>18951.0</td>\n",
       "      <td>1.0</td>\n",
       "      <td>NaN</td>\n",
       "      <td>0.4446</td>\n",
       "      <td>1972.0</td>\n",
       "      <td>2.0</td>\n",
       "      <td>1.0</td>\n",
       "    </tr>\n",
       "  </tbody>\n",
       "</table>\n",
       "</div>"
      ],
      "text/plain": [
       "    age  cohort  educ  realinc  gunlaw  grass  wtssall    year  sex  race\n",
       "0  26.0  1946.0  18.0  13537.0     2.0    NaN   0.8893  1972.0  1.0   1.0\n",
       "1  38.0  1934.0  12.0  18951.0     1.0    NaN   0.4446  1972.0  2.0   1.0"
      ]
     },
     "execution_count": 79,
     "metadata": {},
     "output_type": "execute_result"
    }
   ],
   "source": [
    "gss.head(2)"
   ]
  },
  {
   "cell_type": "markdown",
   "metadata": {},
   "source": [
    "## 2) PMF function - Probability Mass Function"
   ]
  },
  {
   "cell_type": "code",
   "execution_count": 111,
   "metadata": {},
   "outputs": [],
   "source": [
    "def pmf(series):\n",
    "    total = np.sum(gss.age.value_counts())\n",
    "    pmf_value = gss.age.value_counts() / total\n",
    "    return pmf_value\n",
    "\n",
    "pmf_age = pmf(gss.age)"
   ]
  },
  {
   "cell_type": "code",
   "execution_count": 115,
   "metadata": {},
   "outputs": [
    {
     "data": {
      "image/png": "[encoded data removed]",
      "text/plain": [
       "<Figure size 432x288 with 1 Axes>"
      ]
     },
     "metadata": {
      "needs_background": "light"
     },
     "output_type": "display_data"
    }
   ],
   "source": [
    "plt.bar(pmf_age.index, pmf_age)\n",
    "plt.xlabel('age')\n",
    "plt.ylabel('pmf')\n",
    "plt.show()"
   ]
  },
  {
   "cell_type": "markdown",
   "metadata": {},
   "source": [
    "## 3) ECDF (Evauated Cumulative Distribution Function)"
   ]
  },
  {
   "cell_type": "code",
   "execution_count": 118,
   "metadata": {},
   "outputs": [],
   "source": [
    "def ecdf(data):\n",
    "    \"\"\"Compute ECDF for a one-dimensional array of measurements.\"\"\"\n",
    "    # Number of data points: n\n",
    "    n = len(data)\n",
    "\n",
    "    # x-data for the ECDF: x\n",
    "    x = np.sort(data)\n",
    "\n",
    "    # y-data for the ECDF: y\n",
    "    y = np.arange(1, n+1) / n\n",
    "\n",
    "    return x, y"
   ]
  },
  {
   "cell_type": "code",
   "execution_count": 127,
   "metadata": {},
   "outputs": [
    {
     "data": {
      "image/png": "[encoded data removed]",
      "text/plain": [
       "<Figure size 432x288 with 1 Axes>"
      ]
     },
     "metadata": {
      "needs_background": "light"
     },
     "output_type": "display_data"
    }
   ],
   "source": [
    "# Compute ECDF for versicolor data: x_vers, y_vers\n",
    "x_vers, y_vers = ecdf(gss.age)\n",
    "\n",
    "# Generate plot\n",
    "plt.plot(x_vers, y_vers)\n",
    "\n",
    "# Label the axes\n",
    "plt.xlabel('ages')\n",
    "plt.ylabel('ECDF')\n",
    "\n",
    "# Display the plot\n",
    "plt.show()"
   ]
  },
  {
   "cell_type": "code",
   "execution_count": null,
   "metadata": {},
   "outputs": [],
   "source": []
  }
 ],
 "metadata": {
  "kernelspec": {
   "display_name": "Python 3",
   "language": "python",
   "name": "python3"
  },
  "language_info": {
   "codemirror_mode": {
    "name": "ipython",
    "version": 3
   },
   "file_extension": ".py",
   "mimetype": "text/x-python",
   "name": "python",
   "nbconvert_exporter": "python",
   "pygments_lexer": "ipython3",
   "version": "3.7.5"
  }
 },
 "nbformat": 4,
 "nbformat_minor": 4
}
