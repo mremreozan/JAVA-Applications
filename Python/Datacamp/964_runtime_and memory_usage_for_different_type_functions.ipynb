{
 "cells": [
  {
   "cell_type": "markdown",
   "metadata": {},
   "source": [
    "## %timeit  (to gather runtime for a single line of code)"
   ]
  },
  {
   "cell_type": "code",
   "execution_count": 35,
   "metadata": {},
   "outputs": [
    {
     "name": "stdout",
     "output_type": "stream",
     "text": [
      "1.68 µs ± 345 ns per loop (mean ± std. dev. of 7 runs, 1000000 loops each)\n",
      "[1, 3, 5, 7, 9, 11]\n",
      "1.16 µs ± 124 ns per loop (mean ± std. dev. of 7 runs, 1000000 loops each)\n",
      "[1, 3, 5, 7, 9, 11]\n"
     ]
    }
   ],
   "source": [
    "# Create a range object that goes from 0 to 5\n",
    "nums = range(1,12,2)\n",
    "nums_list = list(nums)\n",
    "%timeit nums_list = list(range(1,12,2))\n",
    "print(nums_list)\n",
    "\n",
    "# *************************\n",
    "# Create a new list of odd numbers from 1 to 11 by unpacking a range object\n",
    "nums_list2 = [*range(1,12,2)]\n",
    "%timeit nums_list2 = [*range(1,12,2)]\n",
    "print(nums_list2)"
   ]
  },
  {
   "cell_type": "markdown",
   "metadata": {},
   "source": [
    "## list VS numpy array"
   ]
  },
  {
   "cell_type": "code",
   "execution_count": 25,
   "metadata": {},
   "outputs": [
    {
     "name": "stdout",
     "output_type": "stream",
     "text": [
      "949 ns ± 82 ns per loop (mean ± std. dev. of 7 runs, 1000000 loops each)\n",
      "[0, 1, 2, 3, 4]\n",
      "22.2 µs ± 1.71 µs per loop (mean ± std. dev. of 7 runs, 10000 loops each)\n",
      "[0 1 2 3 4]\n"
     ]
    }
   ],
   "source": [
    "import numpy as np\n",
    "\n",
    "nums= [*range(5)]\n",
    "%timeit nums= [*range(5)]\n",
    "print(nums)\n",
    "#***********************************\n",
    "nums_np = np.array(range(5))\n",
    "%timeit nums_np = np.array(range(5))\n",
    "print(nums_np)"
   ]
  },
  {
   "cell_type": "code",
   "execution_count": 27,
   "metadata": {},
   "outputs": [
    {
     "name": "stdout",
     "output_type": "stream",
     "text": [
      "5.67 µs ± 871 ns per loop (mean ± std. dev. of 7 runs, 100000 loops each)\n",
      "[0, 1, 4, 9, 16]\n",
      "3.98 µs ± 499 ns per loop (mean ± std. dev. of 7 runs, 100000 loops each)\n",
      "[ 0  1  4  9 16]\n"
     ]
    }
   ],
   "source": [
    "nums_pow = [num**2 for num in nums]\n",
    "%timeit nums_pow = [num**2 for num in nums]\n",
    "print(nums_pow)\n",
    "#************************************\n",
    "nums_np_pow = nums_np ** 2\n",
    "%timeit nums_np_pow = nums_np ** 2\n",
    "print(nums_np_pow)"
   ]
  },
  {
   "cell_type": "markdown",
   "metadata": {},
   "source": [
    "#### As you above, list may be faster than np.array about consisting list, but in operational transactions, np.array is faster than list."
   ]
  },
  {
   "cell_type": "code",
   "execution_count": 30,
   "metadata": {},
   "outputs": [
    {
     "name": "stdout",
     "output_type": "stream",
     "text": [
      "178 ns ± 19 ns per loop (mean ± std. dev. of 7 runs, 1000000 loops each)\n",
      "2\n",
      "359 ns ± 3.01 ns per loop (mean ± std. dev. of 7 runs, 1000000 loops each)\n",
      "2\n",
      "107 ns ± 0.553 ns per loop (mean ± std. dev. of 7 runs, 10000000 loops each)\n",
      "[1, 2, 3]\n",
      "371 ns ± 3.19 ns per loop (mean ± std. dev. of 7 runs, 1000000 loops each)\n",
      "[1 2 3]\n",
      "926 ns ± 97.6 ns per loop (mean ± std. dev. of 7 runs, 1000000 loops each)\n",
      "[1, 4]\n",
      "629 ns ± 5.37 ns per loop (mean ± std. dev. of 7 runs, 1000000 loops each)\n",
      "[1 4]\n"
     ]
    }
   ],
   "source": [
    "nums2 = [[1, 2, 3], [4, 5, 6]]\n",
    "\n",
    "nums2_np = np.array([[1, 2, 3], [4, 5, 6]])\n",
    "\n",
    "%timeit nums2[0][1] \n",
    "print(nums2[0][1])\n",
    "%timeit nums2_np[0, 1]\n",
    "print(nums2_np[0, 1])\n",
    "\n",
    "%timeit nums2[0]\n",
    "print(nums2[0])\n",
    "%timeit nums2_np[0]\n",
    "print(nums2_np[0])\n",
    "\n",
    "%timeit [row[0] for row in nums2]\n",
    "print([row[0] for row in nums2])\n",
    "%timeit nums2_np[:,0]\n",
    "print(nums2_np[:,0])"
   ]
  },
  {
   "cell_type": "code",
   "execution_count": 32,
   "metadata": {},
   "outputs": [
    {
     "name": "stdout",
     "output_type": "stream",
     "text": [
      "1.21 µs ± 3.4 ns per loop (mean ± std. dev. of 7 runs, 1000000 loops each)\n",
      "[1, 2]\n",
      "9.3 µs ± 27.3 ns per loop (mean ± std. dev. of 7 runs, 100000 loops each)\n",
      "[1 2]\n"
     ]
    }
   ],
   "source": [
    "nums = [-2, -1, 0, 1, 2]\n",
    "\n",
    "nums_np = np.array([-2, -1, 0, 1, 2])\n",
    "\n",
    "%timeit [num for num in nums if num>0] \n",
    "print([num for num in nums if num>0])\n",
    "%timeit nums_np[nums_np>0]\n",
    "print(nums_np[nums_np>0])"
   ]
  },
  {
   "cell_type": "markdown",
   "metadata": {},
   "source": [
    "## 5 runs with 25 loops per each run?\n",
    "A list of 480 superheroes has been loaded into your session (called heroes). You'd like to analyze the runtime for converting this heroes list into a set. Instead of relying on the default settings for %timeit, you'd like to only use 5 runs and 25 loops per each run."
   ]
  },
  {
   "cell_type": "code",
   "execution_count": 11,
   "metadata": {},
   "outputs": [
    {
     "name": "stdout",
     "output_type": "stream",
     "text": [
      "43.2 µs ± 1.32 µs per loop (mean ± std. dev. of 5 runs, 25 loops each)\n"
     ]
    }
   ],
   "source": [
    "a = [1, 2, 3]\n",
    "heroes = a * 480\n",
    "%timeit -r5 -n25 set(heroes)"
   ]
  },
  {
   "cell_type": "code",
   "execution_count": 33,
   "metadata": {},
   "outputs": [
    {
     "name": "stdout",
     "output_type": "stream",
     "text": [
      "339 ns ± 142 ns per loop (mean ± std. dev. of 7 runs, 1000000 loops each)\n",
      "[]\n",
      "107 ns ± 20.9 ns per loop (mean ± std. dev. of 7 runs, 10000000 loops each)\n",
      "[]\n"
     ]
    }
   ],
   "source": [
    "# Create a list using the formal name\n",
    "formal_list = list()\n",
    "%timeit formal_list = list()\n",
    "print(formal_list)\n",
    "\n",
    "# Create a list using the literal syntax\n",
    "literal_list = []\n",
    "%timeit literal_list = []\n",
    "print(literal_list)"
   ]
  },
  {
   "cell_type": "markdown",
   "metadata": {},
   "source": [
    "## %%timeit          (to get the runtime for multiple lines of code)"
   ]
  },
  {
   "cell_type": "markdown",
   "metadata": {},
   "source": [
    "### normal loop VS built-in function"
   ]
  },
  {
   "cell_type": "code",
   "execution_count": 41,
   "metadata": {},
   "outputs": [
    {
     "name": "stdout",
     "output_type": "stream",
     "text": [
      "2.63 µs ± 171 ns per loop (mean ± std. dev. of 7 runs, 100000 loops each)\n"
     ]
    }
   ],
   "source": [
    "names = ['Jerry', 'Kramer', 'Elaine', 'George', 'Newman']\n",
    "%%timeit\n",
    "names_uppercase = []\n",
    "\n",
    "for name in names:\n",
    "    names_uppercase.append(name.upper())"
   ]
  },
  {
   "cell_type": "code",
   "execution_count": 42,
   "metadata": {},
   "outputs": [
    {
     "name": "stdout",
     "output_type": "stream",
     "text": [
      "['JERRY', 'KRAMER', 'ELAINE', 'GEORGE', 'NEWMAN']\n"
     ]
    }
   ],
   "source": [
    "print(names_uppercase)"
   ]
  },
  {
   "cell_type": "code",
   "execution_count": 43,
   "metadata": {},
   "outputs": [
    {
     "name": "stdout",
     "output_type": "stream",
     "text": [
      "2.4 µs ± 133 ns per loop (mean ± std. dev. of 7 runs, 100000 loops each)\n"
     ]
    }
   ],
   "source": [
    "%%timeit\n",
    "# Use map to apply str.upper to each element in names\n",
    "names_map  = map(str.upper, names)\n",
    "\n",
    "# Unpack names_map into a list\n",
    "names_uppercase = [*names_map]"
   ]
  },
  {
   "cell_type": "code",
   "execution_count": 44,
   "metadata": {},
   "outputs": [
    {
     "name": "stdout",
     "output_type": "stream",
     "text": [
      "['JERRY', 'KRAMER', 'ELAINE', 'GEORGE', 'NEWMAN']\n"
     ]
    }
   ],
   "source": [
    "print(names_uppercase)"
   ]
  },
  {
   "cell_type": "markdown",
   "metadata": {},
   "source": [
    "#### As you above, built-in function is faster than loop."
   ]
  },
  {
   "cell_type": "markdown",
   "metadata": {},
   "source": [
    "### normal loop VS list comprehension VS unpack"
   ]
  },
  {
   "cell_type": "code",
   "execution_count": 45,
   "metadata": {},
   "outputs": [
    {
     "name": "stdout",
     "output_type": "stream",
     "text": [
      "3.19 µs ± 574 ns per loop (mean ± std. dev. of 7 runs, 100000 loops each)\n"
     ]
    }
   ],
   "source": [
    "%%timeit\n",
    "# Rewrite the for loop to use enumerate\n",
    "indexed_names = []\n",
    "for i,name in enumerate(names, 3):\n",
    "    index_name = (i,name)\n",
    "    indexed_names.append(index_name) "
   ]
  },
  {
   "cell_type": "code",
   "execution_count": 46,
   "metadata": {},
   "outputs": [
    {
     "name": "stdout",
     "output_type": "stream",
     "text": [
      "[(3, 'Jerry'), (4, 'Kramer'), (5, 'Elaine'), (6, 'George'), (7, 'Newman')]\n"
     ]
    }
   ],
   "source": [
    "print(indexed_names)"
   ]
  },
  {
   "cell_type": "code",
   "execution_count": 47,
   "metadata": {},
   "outputs": [
    {
     "name": "stdout",
     "output_type": "stream",
     "text": [
      "2.87 µs ± 503 ns per loop (mean ± std. dev. of 7 runs, 100000 loops each)\n"
     ]
    }
   ],
   "source": [
    "%%timeit\n",
    "# Rewrite the above for loop using list comprehension\n",
    "indexed_names_comp = [(i,name) for i,name in enumerate(names, 3)]"
   ]
  },
  {
   "cell_type": "code",
   "execution_count": 48,
   "metadata": {},
   "outputs": [
    {
     "name": "stdout",
     "output_type": "stream",
     "text": [
      "[(3, 'Jerry'), (4, 'Kramer'), (5, 'Elaine'), (6, 'George'), (7, 'Newman')]\n"
     ]
    }
   ],
   "source": [
    "print(indexed_names_comp)"
   ]
  },
  {
   "cell_type": "code",
   "execution_count": 49,
   "metadata": {},
   "outputs": [
    {
     "name": "stdout",
     "output_type": "stream",
     "text": [
      "1.5 µs ± 166 ns per loop (mean ± std. dev. of 7 runs, 100000 loops each)\n"
     ]
    }
   ],
   "source": [
    "%%timeit\n",
    "# Unpack an enumerate object with a starting index of one\n",
    "indexed_names_unpack = [*enumerate(names, 3)]"
   ]
  },
  {
   "cell_type": "code",
   "execution_count": 50,
   "metadata": {},
   "outputs": [
    {
     "name": "stdout",
     "output_type": "stream",
     "text": [
      "[(3, 'Jerry'), (4, 'Kramer'), (5, 'Elaine'), (6, 'George'), (7, 'Newman')]\n"
     ]
    }
   ],
   "source": [
    "print(indexed_names_unpack)"
   ]
  },
  {
   "cell_type": "markdown",
   "metadata": {},
   "source": [
    "#### As you above, list comprehension is faster than normal loop, unpack is faster than list comprehension. "
   ]
  },
  {
   "cell_type": "markdown",
   "metadata": {},
   "source": [
    "## runtime for functions"
   ]
  },
  {
   "cell_type": "code",
   "execution_count": 3,
   "metadata": {},
   "outputs": [],
   "source": [
    "heroes = ['superman', 'batman', 'flash']\n",
    "hts = [175, 170, 175]\n",
    "wts = [75, 70, 75]\n",
    "\n",
    "def convert_units(heroes, heights, weights):\n",
    "\n",
    "    new_hts = [ht * 0.39370  for ht in heights]\n",
    "    new_wts = [wt * 2.20462  for wt in weights]\n",
    "\n",
    "    hero_data = {}\n",
    "\n",
    "    for i,hero in enumerate(heroes):\n",
    "        hero_data[hero] = (new_hts[i], new_wts[i])\n",
    "\n",
    "    return hero_data"
   ]
  },
  {
   "cell_type": "code",
   "execution_count": 4,
   "metadata": {},
   "outputs": [
    {
     "name": "stdout",
     "output_type": "stream",
     "text": [
      "5.81 µs ± 134 ns per loop (mean ± std. dev. of 7 runs, 100000 loops each)\n"
     ]
    }
   ],
   "source": [
    "%timeit convert_units(heroes, hts, wts)"
   ]
  },
  {
   "cell_type": "code",
   "execution_count": 5,
   "metadata": {},
   "outputs": [
    {
     "name": "stdout",
     "output_type": "stream",
     "text": [
      "The line_profiler extension is already loaded. To reload it, use:\n",
      "  %reload_ext line_profiler\n"
     ]
    }
   ],
   "source": [
    "%load_ext line_profiler"
   ]
  },
  {
   "cell_type": "code",
   "execution_count": 7,
   "metadata": {},
   "outputs": [],
   "source": [
    "%lprun -f convert_units convert_units(heroes, hts, wts)"
   ]
  },
  {
   "cell_type": "markdown",
   "metadata": {},
   "source": [
    "Timer unit: 1e-07 s\n",
    "\n",
    "Total time: 4.71e-05 s\n",
    "File: <ipython-input-3-c5e612a7b692>\n",
    "Function: convert_units at line 5\n",
    "\n",
    "Line #      Hits         Time  Per Hit   % Time  Line Contents\n",
    "==============================================================\n",
    "     5                                           def convert_units(heroes, heights, weights):\n",
    "     6                                           \n",
    "     7         1        129.0    129.0     27.4      new_hts = [ht * 0.39370  for ht in heights]\n",
    "     8         1         81.0     81.0     17.2      new_wts = [wt * 2.20462  for wt in weights]\n",
    "     9                                           \n",
    "    10         1         26.0     26.0      5.5      hero_data = {}\n",
    "    11                                           \n",
    "    12         4        124.0     31.0     26.3      for i,hero in enumerate(heroes):\n",
    "    13         3         89.0     29.7     18.9          hero_data[hero] = (new_hts[i], new_wts[i])\n",
    "    14                                           \n",
    "    15         1         22.0     22.0      4.7      return hero_data"
   ]
  },
  {
   "cell_type": "markdown",
   "metadata": {},
   "source": [
    "#### This provide you to find potential boottlenecks."
   ]
  },
  {
   "cell_type": "markdown",
   "metadata": {},
   "source": [
    "## memory usage for functions with different types data (list vs. np.array)"
   ]
  },
  {
   "cell_type": "code",
   "execution_count": 39,
   "metadata": {},
   "outputs": [
    {
     "name": "stdout",
     "output_type": "stream",
     "text": [
      "22350\n"
     ]
    }
   ],
   "source": [
    "import random\n",
    "import numpy as np\n",
    "sample_indices = 150 * random.sample(range(1, 150), 149)\n",
    "hts=random.sample(range(1, 200), 199)\n",
    "wts=random.sample(range(1, 200), 199)\n",
    "print(len(sample_indices))"
   ]
  },
  {
   "cell_type": "code",
   "execution_count": 40,
   "metadata": {},
   "outputs": [
    {
     "name": "stdout",
     "output_type": "stream",
     "text": [
      "\n"
     ]
    }
   ],
   "source": [
    "#%load_ext memory_profiler\n",
    "from oop_package import calc_bmi_lists\n",
    "%mprun -f calc_bmi_lists calc_bmi_lists(sample_indices, hts, wts)"
   ]
  },
  {
   "cell_type": "markdown",
   "metadata": {},
   "source": [
    "Filename: C:\\Users\\dogan\\Documents\\JAVA-Applications\\Python\\Datacamp\\oop_package\\oop_deneme1.py\n",
    "\n",
    "Line #    Mem usage    Increment   Line Contents\n",
    "================================================\n",
    "    47     66.1 MiB     66.1 MiB   def calc_bmi_lists(sample_indices, hts, wts):\n",
    "    48                             \n",
    "    49                                 # Gather sample heights and weights as lists\n",
    "    50     66.2 MiB      0.0 MiB       s_hts = [hts[i] for i in sample_indices]\n",
    "    51     66.2 MiB      0.0 MiB       s_wts = [wts[i] for i in sample_indices]\n",
    "    52                             \n",
    "    53                                 # Convert heights from cm to m and square with list comprehension\n",
    "    54     66.4 MiB      0.1 MiB       s_hts_m_sqr = [(ht / 100) ** 2 for ht in s_hts]\n",
    "    55                             \n",
    "    56                                 # Calculate BMIs as a list with list comprehension\n",
    "    57     67.0 MiB      0.1 MiB       bmis = [s_wts[i] / s_hts_m_sqr[i] for i in range(len(sample_indices))]\n",
    "    58                             \n",
    "    59     67.0 MiB      0.0 MiB       return bmis"
   ]
  },
  {
   "cell_type": "markdown",
   "metadata": {},
   "source": [
    "#### How much memory do the array indexing and broadcasting lines of code consume in the calc_bmi_array() function? (i.e., what is the total sum of the Increment column for these four lines of code?)\n",
    "\n",
    "Answer: 0.2 MiB"
   ]
  },
  {
   "cell_type": "code",
   "execution_count": 1,
   "metadata": {},
   "outputs": [
    {
     "name": "stdout",
     "output_type": "stream",
     "text": [
      "22350\n"
     ]
    }
   ],
   "source": [
    "import random\n",
    "import numpy as np\n",
    "sample_indices = np.array(150 * random.sample(range(1, 150), 149))\n",
    "hts=np.array(random.sample(range(1, 200), 199))\n",
    "wts=np.array(random.sample(range(1, 200), 199))\n",
    "print(len(sample_indices))"
   ]
  },
  {
   "cell_type": "code",
   "execution_count": 3,
   "metadata": {},
   "outputs": [
    {
     "name": "stdout",
     "output_type": "stream",
     "text": [
      "\n"
     ]
    }
   ],
   "source": [
    "%load_ext memory_profiler\n",
    "from oop_package import calc_bmi_arrays\n",
    "%mprun -f calc_bmi_arrays calc_bmi_arrays(sample_indices, hts, wts)"
   ]
  },
  {
   "cell_type": "markdown",
   "metadata": {},
   "source": [
    "Filename: C:\\Users\\dogan\\Documents\\JAVA-Applications\\Python\\Datacamp\\oop_package\\oop_deneme1.py\n",
    "\n",
    "Line #    Mem usage    Increment   Line Contents\n",
    "================================================\n",
    "    61     73.0 MiB     73.0 MiB   def calc_bmi_arrays(sample_indices, hts, wts):\n",
    "    62                             \n",
    "    63                                 # Gather sample heights and weights as arrays\n",
    "    64     73.1 MiB      0.2 MiB       s_hts = hts[sample_indices]\n",
    "    65     73.2 MiB      0.1 MiB       s_wts = wts[sample_indices]\n",
    "    66                             \n",
    "    67                                 # Convert heights from cm to m and square with broadcasting\n",
    "    68     74.4 MiB      1.2 MiB       s_hts_m_sqr = (s_hts / 100) ** 2\n",
    "    69                             \n",
    "    70                                 # Calculate BMIs as an array using broadcasting\n",
    "    71     74.6 MiB      0.2 MiB       bmis = s_wts / s_hts_m_sqr\n",
    "    72                             \n",
    "    73     74.6 MiB      0.0 MiB       return bmis"
   ]
  },
  {
   "cell_type": "markdown",
   "metadata": {},
   "source": [
    "#### How much memory do the array indexing and broadcasting lines of code consume in the calc_bmi_array() function? (i.e., what is the total sum of the Increment column for these four lines of code?)\n",
    "\n",
    "Answer: 1.7 MiB"
   ]
  },
  {
   "cell_type": "markdown",
   "metadata": {},
   "source": [
    "#### alternative way for seeing memory usage "
   ]
  },
  {
   "cell_type": "code",
   "execution_count": 11,
   "metadata": {},
   "outputs": [
    {
     "data": {
      "text/plain": [
       "9112"
      ]
     },
     "execution_count": 11,
     "metadata": {},
     "output_type": "execute_result"
    }
   ],
   "source": [
    "import sys \n",
    "num_list = [*range(1000)]\n",
    "sys.getsizeof(num_list)"
   ]
  },
  {
   "cell_type": "code",
   "execution_count": null,
   "metadata": {},
   "outputs": [],
   "source": []
  }
 ],
 "metadata": {
  "kernelspec": {
   "display_name": "Python 3",
   "language": "python",
   "name": "python3"
  },
  "language_info": {
   "codemirror_mode": {
    "name": "ipython",
    "version": 3
   },
   "file_extension": ".py",
   "mimetype": "text/x-python",
   "name": "python",
   "nbconvert_exporter": "python",
   "pygments_lexer": "ipython3",
   "version": "3.7.3"
  }
 },
 "nbformat": 4,
 "nbformat_minor": 2
}
