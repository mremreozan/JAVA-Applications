{
 "cells": [
  {
   "cell_type": "code",
   "execution_count": 3,
   "metadata": {},
   "outputs": [
    {
     "name": "stdout",
     "output_type": "stream",
     "text": [
      "<class 'zip'>\n",
      "<class 'dict'>\n",
      "<class 'pandas.core.frame.DataFrame'>\n",
      "          Country  Medal_Number\n",
      "0   United States          1118\n",
      "1    Soviet Union           473\n",
      "2  United Kingdom           273\n"
     ]
    }
   ],
   "source": [
    "import pandas as pd\n",
    "label = ['Country', 'Medal_Number']\n",
    "countries = ['United States', 'Soviet Union', 'United Kingdom']\n",
    "medal_number = [1118, 473, 273]\n",
    "dict_values = [countries, medal_number]\n",
    "zip_dict = zip(label, dict_values)\n",
    "dict_df = dict(zip_dict)\n",
    "df = pd.DataFrame(dict_df)\n",
    "print(type(zip_dict))\n",
    "print(type(dict_df))\n",
    "print(type(df))\n",
    "print(df)"
   ]
  },
  {
   "cell_type": "code",
   "execution_count": 5,
   "metadata": {},
   "outputs": [
    {
     "name": "stdout",
     "output_type": "stream",
     "text": [
      "      state     city\n",
      "0  istanbul  kadikoy\n",
      "1  istanbul  uskudar\n",
      "2  istanbul  maltepe\n"
     ]
    }
   ],
   "source": [
    "state = 'istanbul'\n",
    "cities = ['kadikoy', 'uskudar', 'maltepe']\n",
    "data = {'state':state, 'city':cities}\n",
    "df = pd.DataFrame(data)\n",
    "print(df)"
   ]
  },
  {
   "cell_type": "code",
   "execution_count": 13,
   "metadata": {},
   "outputs": [
    {
     "name": "stdout",
     "output_type": "stream",
     "text": [
      "Index(['The following stock data was collect on 2016-AUG-25 from an unknown source'], dtype='object')\n",
      "                                              The following stock data was collect on 2016-AUG-25 from an unknown source\n",
      "These kind of ocmments are not very useful                                             are they?                        \n",
      "probably should just throw this line away too     but not the next since those are column labels                        \n",
      "Index(['name', 'Jan', 'Feb', 'Mar', 'Apr', 'May', 'Jun', 'Jul', 'Aug', 'Sep',\n",
      "       'Oct', 'Nov', 'Dec'],\n",
      "      dtype='object')\n",
      "   name     Jan     Feb     Mar     Apr     May     Jun     Jul     Aug  \\\n",
      "0   IBM  156.08  160.01  159.81  165.22  172.25  167.15  164.75  152.77   \n",
      "1  MSFT   45.51   43.08   42.13   43.47   47.53   45.96   45.61   45.51   \n",
      "\n",
      "      Sep     Oct     Nov     Dec  \n",
      "0  145.36  146.11  137.21  137.96  \n",
      "1   43.56   48.70   53.88   55.40  \n"
     ]
    }
   ],
   "source": [
    "dfmessy = pd.read_csv('Datasets/messy_stock_data.tsv')\n",
    "print(dfmessy.columns)\n",
    "print(dfmessy.head(2))\n",
    "# This file has three aspects that may cause trouble: \n",
    "#    multiple header lines,  ----> we want to select thiord header\n",
    "#    comment records (rows) interleaved throughout the data rows,   ---> we want to remove comment records starting with '#'\n",
    "#    space delimiters instead of commas.\n",
    "dfmessy2 = pd.read_csv('Datasets/messy_stock_data.tsv', delimiter=' ', header=3, comment='#')\n",
    "print(dfmessy2.columns)\n",
    "print(dfmessy2.head(2))"
   ]
  },
  {
   "cell_type": "code",
   "execution_count": null,
   "metadata": {},
   "outputs": [],
   "source": [
    "# Prepare a format string: time_format\n",
    "time_format='%Y-%m-%d %H:%M'\n",
    "\n",
    "# Convert date_list into a datetime object: my_datetimes\n",
    "my_datetimes = pd.to_datetime(date_list, format=time_format)  \n",
    "\n",
    "# Construct a pandas Series using temperature_list and my_datetimes: time_series\n",
    "time_series = pd.Series(temperature_list, index=my_datetimes)"
   ]
  },
  {
   "cell_type": "code",
   "execution_count": 2,
   "metadata": {},
   "outputs": [
    {
     "name": "stdout",
     "output_type": "stream",
     "text": [
      "[[2 4]\n",
      " [1 6]\n",
      " [2 5]\n",
      " [1 5]]\n"
     ]
    }
   ],
   "source": [
    "import numpy as np\n",
    "costs = np.column_stack(([2,1,2,1], [4,6,5,5]))\n",
    "print(costs)"
   ]
  },
  {
   "cell_type": "code",
   "execution_count": 4,
   "metadata": {},
   "outputs": [
    {
     "name": "stdout",
     "output_type": "stream",
     "text": [
      "5.0\n"
     ]
    }
   ],
   "source": [
    "mean_costs = np.mean(costs[:,1])\n",
    "print(mean_costs)"
   ]
  },
  {
   "cell_type": "code",
   "execution_count": 6,
   "metadata": {},
   "outputs": [
    {
     "name": "stdout",
     "output_type": "stream",
     "text": [
      "[1 6]\n"
     ]
    }
   ],
   "source": [
    "print(costs[1, :])"
   ]
  },
  {
   "cell_type": "code",
   "execution_count": 7,
   "metadata": {},
   "outputs": [
    {
     "name": "stdout",
     "output_type": "stream",
     "text": [
      "[4 6 5 5]\n"
     ]
    }
   ],
   "source": [
    "print(costs[:, 1])"
   ]
  },
  {
   "cell_type": "code",
   "execution_count": 8,
   "metadata": {},
   "outputs": [
    {
     "name": "stdout",
     "output_type": "stream",
     "text": [
      "[2 1 2 1]\n"
     ]
    }
   ],
   "source": [
    "print(costs[:, 0])"
   ]
  },
  {
   "cell_type": "code",
   "execution_count": 9,
   "metadata": {},
   "outputs": [
    {
     "name": "stdout",
     "output_type": "stream",
     "text": [
      "[4, 5, 5, 6]\n"
     ]
    }
   ],
   "source": [
    "a = costs[:, 1]\n",
    "print(sorted(a))"
   ]
  },
  {
   "cell_type": "code",
   "execution_count": 8,
   "metadata": {},
   "outputs": [
    {
     "name": "stdout",
     "output_type": "stream",
     "text": [
      "1\n",
      "2\n",
      "Open\n",
      "3\n",
      "4\n",
      "5\n",
      "Open\n",
      "6\n",
      "Source\n",
      "7\n",
      "8\n",
      "Open\n",
      "9\n",
      "10\n",
      "11\n",
      "Open\n",
      "12\n",
      "13\n",
      "Source\n",
      "14\n",
      "Open\n",
      "15\n",
      "16\n",
      "17\n",
      "Open\n",
      "18\n",
      "19\n",
      "20\n",
      "Open\n",
      "Source\n",
      "OpenSource\n",
      "22\n",
      "23\n",
      "Open\n",
      "24\n",
      "25\n",
      "26\n",
      "Open\n",
      "27\n",
      "Source\n",
      "28\n",
      "29\n",
      "Open\n",
      "30\n",
      "31\n",
      "32\n",
      "Open\n",
      "33\n",
      "34\n",
      "Source\n",
      "35\n",
      "Open\n",
      "36\n",
      "37\n",
      "38\n",
      "Open\n",
      "39\n",
      "40\n",
      "41\n",
      "Open\n",
      "Source\n",
      "OpenSource\n",
      "43\n",
      "44\n",
      "Open\n",
      "45\n",
      "46\n",
      "47\n",
      "Open\n",
      "48\n",
      "Source\n",
      "49\n",
      "50\n",
      "Open\n",
      "51\n",
      "52\n",
      "53\n",
      "Open\n",
      "54\n",
      "55\n",
      "Source\n",
      "56\n",
      "Open\n",
      "57\n",
      "58\n",
      "59\n",
      "Open\n",
      "60\n",
      "61\n",
      "62\n",
      "Open\n",
      "Source\n",
      "OpenSource\n",
      "64\n",
      "65\n",
      "Open\n",
      "66\n",
      "67\n",
      "68\n",
      "Open\n",
      "69\n",
      "Source\n",
      "70\n",
      "71\n",
      "Open\n",
      "72\n",
      "73\n",
      "74\n",
      "Open\n",
      "75\n",
      "76\n",
      "Source\n",
      "77\n",
      "Open\n",
      "78\n",
      "79\n",
      "80\n",
      "Open\n",
      "81\n",
      "82\n",
      "83\n",
      "Open\n",
      "Source\n",
      "OpenSource\n",
      "85\n",
      "86\n",
      "Open\n",
      "87\n",
      "88\n",
      "89\n",
      "Open\n",
      "90\n",
      "Source\n",
      "91\n",
      "92\n",
      "Open\n",
      "93\n",
      "94\n",
      "95\n",
      "Open\n",
      "96\n",
      "97\n",
      "Source\n",
      "98\n",
      "Open\n",
      "99\n"
     ]
    }
   ],
   "source": [
    "import numpy as np\n",
    "output=range(1,100)\n",
    "\n",
    "for out in output:\n",
    "    \n",
    "    three = np.mod(out, 3)\n",
    "    if three==0:\n",
    "        print(\"Open\")\n",
    "        \n",
    "    seven = np.mod(out, 7)    \n",
    "    if seven==0:\n",
    "        print(\"Source\")\n",
    "    \n",
    "    if three==0 and seven==0:\n",
    "        print(\"OpenSource\")\n",
    "\n",
    "    else:\n",
    "        print(out)"
   ]
  },
  {
   "cell_type": "code",
   "execution_count": 39,
   "metadata": {},
   "outputs": [
    {
     "name": "stdout",
     "output_type": "stream",
     "text": [
      "secret number is: 677\n"
     ]
    }
   ],
   "source": [
    "secretnum =677\n",
    "\n",
    "def verify(num):\n",
    "    \n",
    "    if num > secretnum:\n",
    "        return 1\n",
    "    if  num < secretnum:\n",
    "        return -1\n",
    "    if num == secretnum: \n",
    "        return 0\n",
    "    \n",
    "def guess():\n",
    "    maxnum = 10000000\n",
    "    guessnum=maxnum/2\n",
    "\n",
    "    for _ in range(50):\n",
    "        correct = verify(guessnum)\n",
    "        if correct == 1:\n",
    "            maxnum = guessnum\n",
    "            guessnum = guessnum/2\n",
    "        if correct == -1:\n",
    "            minnum=guessnum\n",
    "            guessnum = round((maxnum + minnum)/ 2)\n",
    "        if correct == 0:\n",
    "            return guessnum\n",
    "    \n",
    "    print(\"You are not allowed to call verify() more that 50 times or you loose.\")\n",
    "\n",
    "result = guess()\n",
    "print(\"secret number is:\", result)"
   ]
  },
  {
   "cell_type": "code",
   "execution_count": 45,
   "metadata": {},
   "outputs": [
    {
     "name": "stdout",
     "output_type": "stream",
     "text": [
      "9 ['a', 'b', 'c']\n"
     ]
    }
   ],
   "source": [
    "list1 = [\"a\", 1, \"b\", \"c\", 3, 5]\n",
    "\n",
    "def plusnum(list1):\n",
    "    total=0\n",
    "    newlist = []\n",
    "    for item in list1:\n",
    "\n",
    "            \n",
    "    return total, newlist\n",
    "    \n",
    "result_sum, result_list  = plusnum(list1)\n",
    "print(result_sum, result_list)"
   ]
  },
  {
   "cell_type": "code",
   "execution_count": 1,
   "metadata": {},
   "outputs": [
    {
     "name": "stdout",
     "output_type": "stream",
     "text": [
      "foo\\\\bar\\nbaz\n",
      "foo\\bar\n",
      "baz\n"
     ]
    }
   ],
   "source": [
    "print(r'foo\\\\bar\\nbaz')\n",
    "print('foo\\\\bar\\nbaz')"
   ]
  },
  {
   "cell_type": "code",
   "execution_count": 26,
   "metadata": {},
   "outputs": [],
   "source": [
    "list = [\"a\", 1, \"b\", \"c\", 3, 5]\n",
    "\n",
    "def plusnum(list):\n",
    "    total=0\n",
    "    for item in list:\n",
    "        if type(item)==int: \n",
    "            total = total + item\n",
    "    return total\n",
    "    \n",
    "result = plusnum(list)\n",
    "print(result)"
   ]
  },
  {
   "cell_type": "code",
   "execution_count": null,
   "metadata": {},
   "outputs": [],
   "source": [
    "# Import packages\n",
    "from urllib.request import Request, urlopen \n",
    "\n",
    "# Specify the url\n",
    "url = \"http://www.sap.com/belgique/index.html\"\n",
    "\n",
    "# This packages the request: request\n",
    "request = Request(url)\n",
    "\n",
    "# Sends the request and catches the response: response\n",
    "response = urlopen(request)\n",
    "\n",
    "# Print the datatype of response\n",
    "print(type(response))\n",
    "\n",
    "# Extract the response: html\n",
    "html = response.read()\n",
    "\n",
    "# Print the html\n",
    "print(html)\n",
    "\n",
    "# Be polite and close the response!\n",
    "response.close()"
   ]
  },
  {
   "cell_type": "code",
   "execution_count": 42,
   "metadata": {},
   "outputs": [],
   "source": [
    "import requests\n",
    "from bs4 import BeautifulSoup\n",
    "\n",
    "url = \"http://www.sap.com/belgique/index.html\"\n",
    "\n",
    "r = requests.get(url)\n",
    "\n",
    "html_doc = r.text\n",
    "\n",
    "soup = BeautifulSoup(html_doc)\n",
    "\n",
    "textsap = soup.find_all('SAP')\n",
    "\n",
    "for comment in textsap:\n",
    "    fixed_text = comment.replace('SAP', 'Odoo')\n",
    "    comment.replace_with(fixed_text)"
   ]
  },
  {
   "cell_type": "code",
   "execution_count": 8,
   "metadata": {},
   "outputs": [
    {
     "name": "stdout",
     "output_type": "stream",
     "text": [
      "dict_keys(['a', 'b'])\n",
      "{1: 11, 2: 22, 3: 33}\n",
      "dict_values([{1: 11, 2: 22, 3: 33}, {4: 44, 5: 55}])\n",
      "11\n",
      "notfound\n"
     ]
    }
   ],
   "source": [
    "dict1 = {'a':{1:11, 2:22, 3:33}, 'b':{4:44, 5:55}}\n",
    "print(dict1.keys())\n",
    "print(dict1['a'])\n",
    "print(dict1.values())\n",
    "print(dict1['a'][1])\n",
    "print(dict1.get('c', 'notfound'))"
   ]
  },
  {
   "cell_type": "code",
   "execution_count": 45,
   "metadata": {},
   "outputs": [
    {
     "name": "stdout",
     "output_type": "stream",
     "text": [
      "{'Randy': ['Input.txt', 'Output.txt'], 'Stan': ['Code.py']}\n"
     ]
    }
   ],
   "source": [
    "def group_by_owners(files):\n",
    "    file = {}\n",
    "    for key, value in files.items():\n",
    "        if file.get(value, 0) == 0:\n",
    "            file[value] = [key]\n",
    "        else:\n",
    "            file[value].append(key) \n",
    "    return file\n",
    "\n",
    "if __name__ == \"__main__\":    \n",
    "    files = {\n",
    "        'Input.txt': 'Randy',\n",
    "        'Code.py': 'Stan',\n",
    "        'Output.txt': 'Randy'\n",
    "    }   \n",
    "    print(group_by_owners(files))"
   ]
  },
  {
   "cell_type": "code",
   "execution_count": 31,
   "metadata": {},
   "outputs": [
    {
     "name": "stdout",
     "output_type": "stream",
     "text": [
      "<class 'list'>\n",
      "[]\n"
     ]
    },
    {
     "ename": "TypeError",
     "evalue": "append() takes exactly one argument (2 given)",
     "output_type": "error",
     "traceback": [
      "\u001b[1;31m---------------------------------------------------------------------------\u001b[0m",
      "\u001b[1;31mTypeError\u001b[0m                                 Traceback (most recent call last)",
      "\u001b[1;32m<ipython-input-31-751421f29d68>\u001b[0m in \u001b[0;36m<module>\u001b[1;34m\u001b[0m\n\u001b[0;32m     16\u001b[0m \u001b[1;32mif\u001b[0m \u001b[0m__name__\u001b[0m \u001b[1;33m==\u001b[0m \u001b[1;34m\"__main__\"\u001b[0m\u001b[1;33m:\u001b[0m\u001b[1;33m\u001b[0m\u001b[1;33m\u001b[0m\u001b[0m\n\u001b[0;32m     17\u001b[0m     \u001b[0mmachine\u001b[0m \u001b[1;33m=\u001b[0m \u001b[0mIceCreamMachine\u001b[0m\u001b[1;33m(\u001b[0m\u001b[1;33m[\u001b[0m\u001b[1;34m\"vanilla\"\u001b[0m\u001b[1;33m,\u001b[0m \u001b[1;34m\"chocolate\"\u001b[0m\u001b[1;33m]\u001b[0m\u001b[1;33m,\u001b[0m \u001b[1;33m[\u001b[0m\u001b[1;34m\"chocolate sauce\"\u001b[0m\u001b[1;33m]\u001b[0m\u001b[1;33m)\u001b[0m\u001b[1;33m\u001b[0m\u001b[1;33m\u001b[0m\u001b[0m\n\u001b[1;32m---> 18\u001b[1;33m     \u001b[0mprint\u001b[0m\u001b[1;33m(\u001b[0m\u001b[0mmachine\u001b[0m\u001b[1;33m.\u001b[0m\u001b[0mscoops\u001b[0m\u001b[1;33m(\u001b[0m\u001b[1;33m)\u001b[0m\u001b[1;33m)\u001b[0m \u001b[1;31m#should print[['vanilla', 'chocolate sauce'], ['chocolate', 'chocolate sauce']]\u001b[0m\u001b[1;33m\u001b[0m\u001b[1;33m\u001b[0m\u001b[0m\n\u001b[0m",
      "\u001b[1;32m<ipython-input-31-751421f29d68>\u001b[0m in \u001b[0;36mscoops\u001b[1;34m(self)\u001b[0m\n\u001b[0;32m     11\u001b[0m                 \u001b[0mprint\u001b[0m\u001b[1;33m(\u001b[0m\u001b[0mtype\u001b[0m\u001b[1;33m(\u001b[0m\u001b[0mliste\u001b[0m\u001b[1;33m)\u001b[0m\u001b[1;33m)\u001b[0m\u001b[1;33m\u001b[0m\u001b[1;33m\u001b[0m\u001b[0m\n\u001b[0;32m     12\u001b[0m                 \u001b[0mprint\u001b[0m\u001b[1;33m(\u001b[0m\u001b[0mliste\u001b[0m\u001b[1;33m)\u001b[0m\u001b[1;33m\u001b[0m\u001b[1;33m\u001b[0m\u001b[0m\n\u001b[1;32m---> 13\u001b[1;33m                 \u001b[0mliste\u001b[0m \u001b[1;33m=\u001b[0m \u001b[0mliste\u001b[0m\u001b[1;33m.\u001b[0m\u001b[0mappend\u001b[0m\u001b[1;33m(\u001b[0m\u001b[0mitem\u001b[0m\u001b[1;33m,\u001b[0m \u001b[0mitem2\u001b[0m\u001b[1;33m)\u001b[0m\u001b[1;33m\u001b[0m\u001b[1;33m\u001b[0m\u001b[0m\n\u001b[0m\u001b[0;32m     14\u001b[0m         \u001b[1;32mreturn\u001b[0m \u001b[0mliste\u001b[0m\u001b[1;33m\u001b[0m\u001b[1;33m\u001b[0m\u001b[0m\n\u001b[0;32m     15\u001b[0m \u001b[1;33m\u001b[0m\u001b[0m\n",
      "\u001b[1;31mTypeError\u001b[0m: append() takes exactly one argument (2 given)"
     ]
    }
   ],
   "source": [
    "class IceCreamMachine:\n",
    "    \n",
    "    def __init__(self, ingredients, toppings):\n",
    "        self.ingredients = ingredients\n",
    "        self.toppings = toppings\n",
    "        \n",
    "    def scoops(self):\n",
    "        liste = []\n",
    "        for item in self.ingredients:\n",
    "            for item2 in self.toppings:\n",
    "                print(type(liste))\n",
    "                print(liste)\n",
    "                liste = liste.append(item, item2)\n",
    "        return liste\n",
    "    \n",
    "if __name__ == \"__main__\":\n",
    "    machine = IceCreamMachine([\"vanilla\", \"chocolate\"], [\"chocolate sauce\"])\n",
    "    print(machine.scoops()) #should print[['vanilla', 'chocolate sauce'], ['chocolate', 'chocolate sauce']]"
   ]
  },
  {
   "cell_type": "code",
   "execution_count": 22,
   "metadata": {},
   "outputs": [
    {
     "name": "stdout",
     "output_type": "stream",
     "text": [
      "[(1, 3), (2, 4)]\n"
     ]
    }
   ],
   "source": [
    "a = [1, 2]\n",
    "b = [3, 4]\n",
    "c= zip(a,b)\n",
    "print(list(c))"
   ]
  },
  {
   "cell_type": "code",
   "execution_count": null,
   "metadata": {},
   "outputs": [],
   "source": []
  }
 ],
 "metadata": {
  "kernelspec": {
   "display_name": "Python 3",
   "language": "python",
   "name": "python3"
  },
  "language_info": {
   "codemirror_mode": {
    "name": "ipython",
    "version": 3
   },
   "file_extension": ".py",
   "mimetype": "text/x-python",
   "name": "python",
   "nbconvert_exporter": "python",
   "pygments_lexer": "ipython3",
   "version": "3.7.3"
  }
 },
 "nbformat": 4,
 "nbformat_minor": 2
}
