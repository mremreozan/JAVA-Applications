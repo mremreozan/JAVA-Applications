{
 "cells": [
  {
   "cell_type": "code",
   "execution_count": 1,
   "metadata": {},
   "outputs": [],
   "source": [
    "import oop_package as oop"
   ]
  },
  {
   "cell_type": "code",
   "execution_count": 2,
   "metadata": {},
   "outputs": [
    {
     "name": "stdout",
     "output_type": "stream",
     "text": [
      "It's not you, it's me...\n"
     ]
    }
   ],
   "source": [
    "oop.talk(break_up=True)"
   ]
  },
  {
   "cell_type": "code",
   "execution_count": 3,
   "metadata": {},
   "outputs": [
    {
     "name": "stdout",
     "output_type": "stream",
     "text": [
      "sumeyye loves emre\n"
     ]
    }
   ],
   "source": [
    "oop.sumeyye()"
   ]
  },
  {
   "cell_type": "code",
   "execution_count": 4,
   "metadata": {},
   "outputs": [
    {
     "name": "stdout",
     "output_type": "stream",
     "text": [
      "sumeyye loves emre\n",
      "Help on NoneType object:\n",
      "\n",
      "class NoneType(object)\n",
      " |  Methods defined here:\n",
      " |  \n",
      " |  __bool__(self, /)\n",
      " |      self != 0\n",
      " |  \n",
      " |  __repr__(self, /)\n",
      " |      Return repr(self).\n",
      " |  \n",
      " |  ----------------------------------------------------------------------\n",
      " |  Static methods defined here:\n",
      " |  \n",
      " |  __new__(*args, **kwargs) from builtins.type\n",
      " |      Create and return a new object.  See help(type) for accurate signature.\n",
      "\n"
     ]
    }
   ],
   "source": [
    "help(oop.sumeyye())"
   ]
  },
  {
   "cell_type": "code",
   "execution_count": 5,
   "metadata": {},
   "outputs": [
    {
     "name": "stdout",
     "output_type": "stream",
     "text": [
      "emre loves sumeyye\n"
     ]
    }
   ],
   "source": [
    "oop.emre()"
   ]
  },
  {
   "cell_type": "code",
   "execution_count": 6,
   "metadata": {},
   "outputs": [
    {
     "name": "stdout",
     "output_type": "stream",
     "text": [
      "We can walk at forest\n"
     ]
    }
   ],
   "source": [
    "oop.walk(True)"
   ]
  },
  {
   "cell_type": "code",
   "execution_count": 7,
   "metadata": {},
   "outputs": [
    {
     "name": "stdout",
     "output_type": "stream",
     "text": [
      "I <3 U!\n"
     ]
    }
   ],
   "source": [
    "oop.talk(False)"
   ]
  },
  {
   "cell_type": "code",
   "execution_count": 8,
   "metadata": {},
   "outputs": [
    {
     "name": "stdout",
     "output_type": "stream",
     "text": [
      "We can watch at home\n"
     ]
    }
   ],
   "source": [
    "oop.walk(False)"
   ]
  },
  {
   "cell_type": "code",
   "execution_count": 9,
   "metadata": {},
   "outputs": [
    {
     "name": "stdout",
     "output_type": "stream",
     "text": [
      "Basic linear regression example. #DataCamp #DataScience #Python #sklearn\n"
     ]
    }
   ],
   "source": [
    "# Import custom oop_package package\n",
    "import oop_package as oop\n",
    "\n",
    "# Create an instance of Document with datacamp_tweet\n",
    "datacamp_tweet = \"Basic linear regression example. #DataCamp #DataScience #Python #sklearn\"\n",
    "my_document = oop.Document(text=datacamp_tweet)\n",
    "\n",
    "# Print the text attribute of the Document instance\n",
    "print(my_document.text)"
   ]
  },
  {
   "cell_type": "code",
   "execution_count": 10,
   "metadata": {},
   "outputs": [
    {
     "name": "stdout",
     "output_type": "stream",
     "text": [
      "Help on class Document in module oop_package.document:\n",
      "\n",
      "class Document(builtins.object)\n",
      " |  Document(text)\n",
      " |  \n",
      " |  A class for text analysis\n",
      " |  \n",
      " |  :param text: string of text to be analyzed\n",
      " |  :ivar text: string of text to be analyzed; set by `text` parameter\n",
      " |  \n",
      " |  Methods defined here:\n",
      " |  \n",
      " |  __init__(self, text)\n",
      " |      Initialize self.  See help(type(self)) for accurate signature.\n",
      " |  \n",
      " |  plot_counts(self)\n",
      " |  \n",
      " |  ----------------------------------------------------------------------\n",
      " |  Data descriptors defined here:\n",
      " |  \n",
      " |  __dict__\n",
      " |      dictionary for instance variables (if defined)\n",
      " |  \n",
      " |  __weakref__\n",
      " |      list of weak references to the object (if defined)\n",
      "\n",
      "None\n",
      "['[DataCamp]', 'Stocks,', 'Significance']\n",
      "<class 'collections.Counter'>\n",
      "[('@DataCamp', 120), ('the', 104), ('to', 96)]\n",
      "[('@DataCamp', 120), ('the', 104), ('to', 96)]\n"
     ]
    },
    {
     "data": {
      "image/png": "[encoded data removed]",
      "text/plain": [
       "<Figure size 432x288 with 1 Axes>"
      ]
     },
     "metadata": {
      "needs_background": "light"
     },
     "output_type": "display_data"
    }
   ],
   "source": [
    "import numpy as np\n",
    "\n",
    "file = open(\"Datasets/tweet_oop.txt\", \"r\", encoding=\"utf8\")\n",
    "lines=file.read()\n",
    "\n",
    "print(help(oop.Document))\n",
    "\n",
    "# create a new document instance from datacamp_tweets\n",
    "datacamp_doc = oop.Document(text=lines)\n",
    "\n",
    "# print the first 3 tokens from datacamp_doc\n",
    "words = datacamp_doc.tokens\n",
    "print(words[0:3])\n",
    "\n",
    "print(type(datacamp_doc.word_counts))\n",
    "\n",
    "# print the top 3 most used words in datacamp_doc\n",
    "print(datacamp_doc.word_counts.most_common(3))\n",
    "\n",
    "print(datacamp_doc._count_words().most_common(3))  # non_public method\n",
    "\n",
    "datacamp_doc.plot_counts()"
   ]
  },
  {
   "cell_type": "code",
   "execution_count": 11,
   "metadata": {},
   "outputs": [
    {
     "name": "stdout",
     "output_type": "stream",
     "text": [
      "Help on class SocialMedia in module oop_package.social_media:\n",
      "\n",
      "class SocialMedia(oop_package.document.Document)\n",
      " |  SocialMedia(text)\n",
      " |  \n",
      " |  A class for text analysis\n",
      " |  \n",
      " |  :param text: string of text to be analyzed\n",
      " |  :ivar text: string of text to be analyzed; set by `text` parameter\n",
      " |  \n",
      " |  Method resolution order:\n",
      " |      SocialMedia\n",
      " |      oop_package.document.Document\n",
      " |      builtins.object\n",
      " |  \n",
      " |  Methods defined here:\n",
      " |  \n",
      " |  __init__(self, text)\n",
      " |      Initialize self.  See help(type(self)) for accurate signature.\n",
      " |  \n",
      " |  ----------------------------------------------------------------------\n",
      " |  Methods inherited from oop_package.document.Document:\n",
      " |  \n",
      " |  plot_counts(self)\n",
      " |  \n",
      " |  ----------------------------------------------------------------------\n",
      " |  Data descriptors inherited from oop_package.document.Document:\n",
      " |  \n",
      " |  __dict__\n",
      " |      dictionary for instance variables (if defined)\n",
      " |  \n",
      " |  __weakref__\n",
      " |      list of weak references to the object (if defined)\n",
      "\n",
      "None\n",
      "[('@cbismuth:', 1), ('@David_Makinde_:', 1), ('@ascentt:', 1)]\n",
      "[('#DataCamp', 1), ('#DataScience', 1), ('#Python', 1)]\n"
     ]
    }
   ],
   "source": [
    "print(help(oop.SocialMedia))\n",
    "\n",
    "# Create a SocialMedia instance with datacamp_tweets\n",
    "dc_tweets = oop.SocialMedia(text=lines)\n",
    "\n",
    "# Print the top three most most mentioned users\n",
    "print(dc_tweets.mention_counts.most_common(3))\n",
    "\n",
    "# Print the top three most most mentioned users\n",
    "print(dc_tweets.hashtag_counts.most_common(3))"
   ]
  },
  {
   "cell_type": "code",
   "execution_count": 12,
   "metadata": {},
   "outputs": [
    {
     "data": {
      "text/plain": [
       "['__class__',\n",
       " '__delattr__',\n",
       " '__dict__',\n",
       " '__dir__',\n",
       " '__doc__',\n",
       " '__eq__',\n",
       " '__format__',\n",
       " '__ge__',\n",
       " '__getattribute__',\n",
       " '__gt__',\n",
       " '__hash__',\n",
       " '__init__',\n",
       " '__init_subclass__',\n",
       " '__le__',\n",
       " '__lt__',\n",
       " '__module__',\n",
       " '__ne__',\n",
       " '__new__',\n",
       " '__reduce__',\n",
       " '__reduce_ex__',\n",
       " '__repr__',\n",
       " '__setattr__',\n",
       " '__sizeof__',\n",
       " '__str__',\n",
       " '__subclasshook__',\n",
       " '__weakref__',\n",
       " '_count_hashtags',\n",
       " '_count_mentions',\n",
       " '_count_words',\n",
       " '_tokenize',\n",
       " 'hashtag_counts',\n",
       " 'mention_counts',\n",
       " 'plot_counts',\n",
       " 'text',\n",
       " 'tokens',\n",
       " 'word_counts']"
      ]
     },
     "execution_count": 12,
     "metadata": {},
     "output_type": "execute_result"
    }
   ],
   "source": [
    "# What methods does dc_tweets have?\n",
    "dir(dc_tweets)"
   ]
  },
  {
   "cell_type": "code",
   "execution_count": 13,
   "metadata": {},
   "outputs": [
    {
     "data": {
      "image/png": "[encoded data removed]",
      "text/plain": [
       "<Figure size 432x288 with 1 Axes>"
      ]
     },
     "metadata": {
      "needs_background": "light"
     },
     "output_type": "display_data"
    },
    {
     "data": {
      "image/png": "[encoded data removed]",
      "text/plain": [
       "<Figure size 432x288 with 1 Axes>"
      ]
     },
     "metadata": {
      "needs_background": "light"
     },
     "output_type": "display_data"
    }
   ],
   "source": [
    "# Create instance of Tweets\n",
    "my_tweets = oop.Tweets(lines)\n",
    "\n",
    "# Plot the most used hashtags in the tweets\n",
    "my_tweets.plot_counts()\n",
    "\n",
    "my_tweets.retweets.plot_counts()"
   ]
  },
  {
   "cell_type": "code",
   "execution_count": null,
   "metadata": {},
   "outputs": [],
   "source": []
  }
 ],
 "metadata": {
  "kernelspec": {
   "display_name": "Python 3",
   "language": "python",
   "name": "python3"
  },
  "language_info": {
   "codemirror_mode": {
    "name": "ipython",
    "version": 3
   },
   "file_extension": ".py",
   "mimetype": "text/x-python",
   "name": "python",
   "nbconvert_exporter": "python",
   "pygments_lexer": "ipython3",
   "version": "3.7.3"
  }
 },
 "nbformat": 4,
 "nbformat_minor": 2
}
