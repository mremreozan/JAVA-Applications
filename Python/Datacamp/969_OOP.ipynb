{
 "cells": [
  {
   "cell_type": "code",
   "execution_count": 1,
   "metadata": {},
   "outputs": [
    {
     "name": "stdout",
     "output_type": "stream",
     "text": [
      "<__main__.DataShell object at 0x000001FA83BB3BE0>\n"
     ]
    }
   ],
   "source": [
    "# Create empty class: DataShell\n",
    "class DataShell:\n",
    "  \n",
    "    # Pass statement\n",
    "    pass\n",
    "\n",
    "# Instantiate DataShell: my_data_shell\n",
    "my_data_shell = DataShell()\n",
    "\n",
    "# Print my_data_shell\n",
    "print(my_data_shell)"
   ]
  },
  {
   "cell_type": "code",
   "execution_count": 2,
   "metadata": {},
   "outputs": [
    {
     "name": "stdout",
     "output_type": "stream",
     "text": [
      "<__main__.DataShell object at 0x000001FA83BB3F98>\n"
     ]
    }
   ],
   "source": [
    "# Create class: DataShell\n",
    "class DataShell:\n",
    "  \n",
    "\t# Initialize class with self argument\n",
    "    def __init__(self):\n",
    "      \n",
    "        # Pass statement\n",
    "        pass\n",
    "\n",
    "# Instantiate DataShell: my_data_shell\n",
    "my_data_shell = DataShell()\n",
    "\n",
    "# Print my_data_shell\n",
    "print(my_data_shell)"
   ]
  },
  {
   "cell_type": "code",
   "execution_count": 3,
   "metadata": {},
   "outputs": [
    {
     "name": "stdout",
     "output_type": "stream",
     "text": [
      "10\n"
     ]
    }
   ],
   "source": [
    "# Create class: DataShell\n",
    "class DataShell:\n",
    "  \n",
    "\t# Initialize class with self and integerInput arguments\n",
    "    def __init__(self, integerInput):\n",
    "      \n",
    "\t\t# Set data as instance variable, and assign the value of integerInput\n",
    "        self.data = integerInput\n",
    "\n",
    "# Declare variable x with value of 10\n",
    "x = 10      \n",
    "\n",
    "# Instantiate DataShell passing x as argument: my_data_shell\n",
    "my_data_shell = DataShell(x)\n",
    "\n",
    "# Print my_data_shell\n",
    "print(my_data_shell.data)"
   ]
  },
  {
   "cell_type": "code",
   "execution_count": 4,
   "metadata": {},
   "outputs": [
    {
     "name": "stdout",
     "output_type": "stream",
     "text": [
      "100\n",
      "[1, 2, 3, 4, 5]\n"
     ]
    }
   ],
   "source": [
    "# Create class: DataShell\n",
    "class DataShell:\n",
    "  \n",
    "\t# Initialize class with self, identifier and data arguments\n",
    "    def __init__(self, identifier, data):\n",
    "      \n",
    "\t\t# Set identifier and data as instance variables, assigning value of input arguments\n",
    "        self.identifier = identifier\n",
    "        self.data = data\n",
    "\n",
    "# Declare variable x with value of 100, and y with list of integers from 1 to 5\n",
    "x = 100\n",
    "y = [1, 2, 3, 4, 5]\n",
    "\n",
    "# Instantiate DataShell passing x and y as arguments: my_data_shell\n",
    "my_data_shell = DataShell(x, y)\n",
    "\n",
    "# Print my_data_shell.identifier\n",
    "print(my_data_shell.identifier)\n",
    "\n",
    "# Print my_data_shell.data\n",
    "print(my_data_shell.data)"
   ]
  },
  {
   "cell_type": "code",
   "execution_count": 7,
   "metadata": {},
   "outputs": [
    {
     "name": "stdout",
     "output_type": "stream",
     "text": [
      "DataShell\n",
      "100\n",
      "NotDataShell\n"
     ]
    }
   ],
   "source": [
    "# Create class: DataShell\n",
    "class DataShell:\n",
    "  \n",
    "    # Declare a class variable family, and assign value of \"DataShell\"\n",
    "    family = \"DataShell\"\n",
    "    \n",
    "    # Initialize class with self, identifier arguments\n",
    "    def __init__(self, identifier):\n",
    "      \n",
    "        # Set identifier as instance variable of input argument\n",
    "        self.identifier = identifier\n",
    "\n",
    "# Declare variable x with value of 100\n",
    "x = 100\n",
    "\n",
    "# Instantiate DataShell passing x as argument: my_data_shell\n",
    "my_data_shell = DataShell(x)\n",
    "\n",
    "# Print my_data_shell class variable family\n",
    "print(my_data_shell.family)\n",
    "print(my_data_shell.identifier)\n",
    "\n",
    "# Override the my_data_shell.family value with \"NotDataShell\"\n",
    "my_data_shell.family = \"NotDataShell\"\n",
    "\n",
    "# Print my_data_shell class variable family once again\n",
    "print(my_data_shell.family)"
   ]
  },
  {
   "cell_type": "code",
   "execution_count": 10,
   "metadata": {},
   "outputs": [
    {
     "name": "stdout",
     "output_type": "stream",
     "text": [
      "[1, 2, 3, 4, 5, 6, 7, 8, 9, 10]\n",
      "5.5\n"
     ]
    }
   ],
   "source": [
    "# Create class: DataShell\n",
    "class DataShell:\n",
    "  \n",
    "\t# Initialize class with self and dataList as arguments\n",
    "    def __init__(self, dataList):\n",
    "      \t# Set data as instance variable, and assign it the value of dataList\n",
    "        self.data = dataList\n",
    "        \n",
    "\t# Define method that returns data: show\n",
    "    def show(self):\n",
    "        return self.data\n",
    "        \n",
    "    # Define method that prints average of data: avg \n",
    "    def avg(self):\n",
    "        # Declare avg and assign it the average of data\n",
    "        avg = sum(self.data)/float(len(self.data))\n",
    "        # Return avg\n",
    "        return avg\n",
    "        \n",
    "# Instantiate DataShell taking integer_list as argument: my_data_shell\n",
    "my_data_shell = DataShell(integer_list)\n",
    "\n",
    "# Print output of your object's show method\n",
    "print(my_data_shell.show())\n",
    "\n",
    "# Print output of your object's avg method\n",
    "print(my_data_shell.avg())"
   ]
  },
  {
   "cell_type": "code",
   "execution_count": 12,
   "metadata": {},
   "outputs": [
    {
     "name": "stdout",
     "output_type": "stream",
     "text": [
      "         country code  year  life_expectancy\n",
      "0  United States  USA  1880        39.410000\n",
      "1  United States  USA  1890        45.209999\n",
      "2  United States  USA  1901        49.299999\n"
     ]
    }
   ],
   "source": [
    "# Load numpy as np and pandas as pd\n",
    "import numpy as np\n",
    "import pandas as pd\n",
    "\n",
    "# Create class: DataShell\n",
    "class DataShell:\n",
    "  \n",
    "    # Initialize class with self and inputFile\n",
    "    def __init__(self, inputFile):\n",
    "        self.file = inputFile\n",
    "        \n",
    "    # Define generate_csv method, with self argument\n",
    "    def generate_csv(self):\n",
    "        self.data_as_csv = pd.read_csv(self.file, nrows=3)\n",
    "        return self.data_as_csv\n",
    "\n",
    "# Instantiate DataShell with us_life_expectancy as input argument\n",
    "us_life_expectancy = \"Datasets/us_life_expectancy.csv\"\n",
    "data_shell = DataShell(us_life_expectancy)\n",
    "\n",
    "# Call data_shell's generate_csv method, assign it to df\n",
    "df = data_shell.generate_csv()\n",
    "\n",
    "# Print df\n",
    "print(df)"
   ]
  },
  {
   "cell_type": "code",
   "execution_count": 15,
   "metadata": {},
   "outputs": [
    {
     "name": "stdout",
     "output_type": "stream",
     "text": [
      "         country code  year  life_expectancy\n",
      "0  United States  USA  1880        39.410000\n",
      "1  United States  USA  1890        45.209999\n",
      "2  United States  USA  1901        49.299999\n"
     ]
    }
   ],
   "source": [
    "# Import numpy as np, pandas as pd\n",
    "import numpy as np\n",
    "import pandas as pd\n",
    "\n",
    "# Create class: DataShell\n",
    "class DataShell:\n",
    "  \n",
    "    # Define initialization method\n",
    "    def __init__(self, filepath):\n",
    "\n",
    "        # Set data_as_csv as instance variable\n",
    "        self.data_as_csv = pd.read_csv(filepath, nrows=3)\n",
    "\n",
    "# Instantiate DataShell as us_data_shell\n",
    "us_life_expectancy = \"Datasets/us_life_expectancy.csv\"\n",
    "us_data_shell = DataShell(us_life_expectancy)\n",
    "\n",
    "# Print your object's data_as_csv attribute\n",
    "print(us_data_shell.data_as_csv)"
   ]
  },
  {
   "cell_type": "code",
   "execution_count": 19,
   "metadata": {},
   "outputs": [
    {
     "name": "stdout",
     "output_type": "stream",
     "text": [
      "Index(['country', 'code', 'year', 'life_expectancy'], dtype='object')\n",
      "Index(['country', 'country_code', 'year', 'life_expectancy'], dtype='object')\n",
      "              year  life_expectancy\n",
      "count     2.000000         2.000000\n",
      "mean   1885.000000        42.309999\n",
      "std       7.071068         4.101219\n",
      "min    1880.000000        39.410000\n",
      "25%    1882.500000        40.860000\n",
      "50%    1885.000000        42.309999\n",
      "75%    1887.500000        43.759999\n",
      "max    1890.000000        45.209999\n"
     ]
    }
   ],
   "source": [
    "# Create class DataShell\n",
    "class DataShell:\n",
    "  \n",
    "    # Define initialization method\n",
    "    def __init__(self, filepath):\n",
    "        self.filepath = filepath\n",
    "        self.data_as_csv = pd.read_csv(filepath, nrows=2)\n",
    "    \n",
    "    # Define method rename_column, with arguments self, column_name, and new_column_name\n",
    "    def rename_column(self, column_name, new_column_name):\n",
    "        self.data_as_csv.columns = self.data_as_csv.columns.str.replace(column_name, new_column_name)\n",
    "        \n",
    "    # Define get_stats method, with argument self\n",
    "    def get_stats(self):\n",
    "        # Return a description data_as_csv\n",
    "        return self.data_as_csv.describe()\n",
    "\n",
    "# Instantiate DataShell as us_data_shell with argument us_life_expectancy\n",
    "us_life_expectancy = \"Datasets/us_life_expectancy.csv\"\n",
    "us_data_shell = DataShell(us_life_expectancy)\n",
    "\n",
    "# Print the datatype of your object's data_as_csv attribute\n",
    "print(us_data_shell.data_as_csv.columns)\n",
    "\n",
    "# Rename your objects column 'code' to 'country_code'\n",
    "us_data_shell.rename_column('code' , 'country_code')\n",
    "\n",
    "# Again, print the datatype of your object's data_as_csv attribute\n",
    "print(us_data_shell.data_as_csv.columns)\n",
    "\n",
    "# Print the output of your objects get_stats method\n",
    "print(us_data_shell.get_stats())"
   ]
  },
  {
   "cell_type": "markdown",
   "metadata": {},
   "source": [
    "## Inheritance"
   ]
  },
  {
   "cell_type": "code",
   "execution_count": 20,
   "metadata": {},
   "outputs": [
    {
     "name": "stdout",
     "output_type": "stream",
     "text": [
      "<__main__.Mammal object at 0x000001FA83BE6F28>\n",
      "<__main__.Reptile object at 0x000001FA83BE6B38>\n"
     ]
    }
   ],
   "source": [
    "# Create a class Animal\n",
    "class Animal:\n",
    "    def __init__(self, name):\n",
    "        self.name = name\n",
    "\n",
    "# Create a class Mammal, which inherits from Animal\n",
    "class Mammal(Animal):\n",
    "    def __init__(self, name, animal_type):\n",
    "        self.animal_type = animal_type\n",
    "\n",
    "# Create a class Reptile, which also inherits from Animal\n",
    "class Reptile(Animal):\n",
    "    def __init__(self, name, animal_type):\n",
    "        self.animal_type = animal_type\n",
    "\n",
    "# Instantiate a mammal with name 'Daisy' and animal_type 'dog': daisy\n",
    "daisy = Mammal('Daisy', 'dog')\n",
    "\n",
    "# Instantiate a reptile with name 'Stella' and animal_type 'alligator': stella\n",
    "stella = Reptile('Stella', 'alligator')\n",
    "\n",
    "# Print both objects\n",
    "print(daisy)\n",
    "print(stella)"
   ]
  },
  {
   "cell_type": "code",
   "execution_count": 21,
   "metadata": {},
   "outputs": [
    {
     "name": "stdout",
     "output_type": "stream",
     "text": [
      "Stella Spinal cord: True\n",
      "Stella temperature regulation: False\n",
      "Daisy Spinal cord: True\n",
      "Daisy temperature regulation: True\n"
     ]
    }
   ],
   "source": [
    "# Create a class Vertebrate\n",
    "class Vertebrate:\n",
    "    spinal_cord = True\n",
    "    def __init__(self, name):\n",
    "        self.name = name\n",
    "\n",
    "# Create a class Mammal, which inherits from Vertebrate\n",
    "class Mammal(Vertebrate):\n",
    "    def __init__(self, name, animal_type):\n",
    "        self.animal_type = animal_type\n",
    "        self.temperature_regulation = True\n",
    "\n",
    "# Create a class Reptile, which also inherits from Vertebrate\n",
    "class Reptile(Vertebrate):\n",
    "    def __init__(self, name, animal_type):\n",
    "        self.animal_type = animal_type\n",
    "        self.temperature_regulation = False\n",
    "\n",
    "# Instantiate a mammal with name 'Daisy' and animal_type 'dog': daisy\n",
    "daisy = Mammal('Daisy', 'dog')\n",
    "\n",
    "# Instantiate a reptile with name 'Stella' and animal_type 'alligator': stella\n",
    "stella = Reptile('Stella', 'alligator')\n",
    "\n",
    "# Print stella's attributes spinal_cord and temperature_regulation\n",
    "print(\"Stella Spinal cord: \" + str(stella.spinal_cord))\n",
    "print(\"Stella temperature regulation: \" + str(stella.temperature_regulation))\n",
    "\n",
    "# Print daisy's attributes spinal_cord and temperature_regulation\n",
    "print(\"Daisy Spinal cord: \" + str(daisy.spinal_cord))\n",
    "print(\"Daisy temperature regulation: \" + str(daisy.temperature_regulation))"
   ]
  },
  {
   "cell_type": "code",
   "execution_count": 27,
   "metadata": {},
   "outputs": [
    {
     "name": "stdout",
     "output_type": "stream",
     "text": [
      "              year  life_expectancy\n",
      "count     3.000000         3.000000\n",
      "mean   1890.333333        44.639999\n",
      "std      10.503968         4.969577\n",
      "min    1880.000000        39.410000\n",
      "25%    1885.000000        42.309999\n",
      "50%    1890.000000        45.209999\n",
      "75%    1895.500000        47.254999\n",
      "max    1901.000000        49.299999\n"
     ]
    }
   ],
   "source": [
    "# Define abstract class DataShell\n",
    "class DataShell:\n",
    "    # Class variable family\n",
    "    family = 'DataShell'    \n",
    "    # Initialization method with arguments, and instance variables\n",
    "    def __init__(self, name, filepath): \n",
    "        self.name = name\n",
    "        self.filepath = filepath\n",
    "\n",
    "# Define class CsvDataShell      \n",
    "class CsvDataShell(DataShell):\n",
    "    # Initialization method with arguments self, name, filepath\n",
    "    def __init__(self, name, filepath):\n",
    "        # Instance variable data\n",
    "        self.data = pd.read_csv(filepath, nrows=3)\n",
    "        # Instance variable stats\n",
    "        self.stats = self.data.describe()\n",
    "\n",
    "# Instantiate CsvDataShell as us_data_shell\n",
    "us_life_expectancy = \"Datasets/us_life_expectancy.csv\"\n",
    "us_data_shell = CsvDataShell(\"US\", us_life_expectancy)\n",
    "\n",
    "# Print us_data_shell.stats\n",
    "print(us_data_shell.stats)"
   ]
  },
  {
   "cell_type": "code",
   "execution_count": 28,
   "metadata": {},
   "outputs": [
    {
     "name": "stdout",
     "output_type": "stream",
     "text": [
      "1\n"
     ]
    }
   ],
   "source": [
    "class GenericClass:\n",
    "    version = 1\n",
    "    \n",
    "    def __init__(self):\n",
    "        pass\n",
    "\n",
    "class CompositeClass:\n",
    "    def __init__(self):\n",
    "        self.generic = GenericClass()\n",
    "        self.version = self.generic.version\n",
    "\n",
    "c = CompositeClass()\n",
    "\n",
    "print(c.version)"
   ]
  },
  {
   "cell_type": "code",
   "execution_count": null,
   "metadata": {},
   "outputs": [],
   "source": []
  }
 ],
 "metadata": {
  "kernelspec": {
   "display_name": "Python 3",
   "language": "python",
   "name": "python3"
  },
  "language_info": {
   "codemirror_mode": {
    "name": "ipython",
    "version": 3
   },
   "file_extension": ".py",
   "mimetype": "text/x-python",
   "name": "python",
   "nbconvert_exporter": "python",
   "pygments_lexer": "ipython3",
   "version": "3.7.3"
  }
 },
 "nbformat": 4,
 "nbformat_minor": 2
}
