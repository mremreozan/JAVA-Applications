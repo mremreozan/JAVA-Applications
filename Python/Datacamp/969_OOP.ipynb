{
 "cells": [
  {
   "cell_type": "code",
   "execution_count": 1,
   "metadata": {},
   "outputs": [
    {
     "name": "stdout",
     "output_type": "stream",
     "text": [
      "<__main__.DataShell object at 0x000001FA83BB3BE0>\n"
     ]
    }
   ],
   "source": [
    "# Create empty class: DataShell\n",
    "class DataShell:\n",
    "  \n",
    "    # Pass statement\n",
    "    pass\n",
    "\n",
    "# Instantiate DataShell: my_data_shell\n",
    "my_data_shell = DataShell()\n",
    "\n",
    "# Print my_data_shell\n",
    "print(my_data_shell)"
   ]
  },
  {
   "cell_type": "code",
   "execution_count": 2,
   "metadata": {},
   "outputs": [
    {
     "name": "stdout",
     "output_type": "stream",
     "text": [
      "<__main__.DataShell object at 0x000001FA83BB3F98>\n"
     ]
    }
   ],
   "source": [
    "# Create class: DataShell\n",
    "class DataShell:\n",
    "  \n",
    "\t# Initialize class with self argument\n",
    "    def __init__(self):\n",
    "      \n",
    "        # Pass statement\n",
    "        pass\n",
    "\n",
    "# Instantiate DataShell: my_data_shell\n",
    "my_data_shell = DataShell()\n",
    "\n",
    "# Print my_data_shell\n",
    "print(my_data_shell)"
   ]
  },
  {
   "cell_type": "code",
   "execution_count": 3,
   "metadata": {},
   "outputs": [
    {
     "name": "stdout",
     "output_type": "stream",
     "text": [
      "10\n"
     ]
    }
   ],
   "source": [
    "# Create class: DataShell\n",
    "class DataShell:\n",
    "  \n",
    "\t# Initialize class with self and integerInput arguments\n",
    "    def __init__(self, integerInput):\n",
    "      \n",
    "\t\t# Set data as instance variable, and assign the value of integerInput\n",
    "        self.data = integerInput\n",
    "\n",
    "# Declare variable x with value of 10\n",
    "x = 10      \n",
    "\n",
    "# Instantiate DataShell passing x as argument: my_data_shell\n",
    "my_data_shell = DataShell(x)\n",
    "\n",
    "# Print my_data_shell\n",
    "print(my_data_shell.data)"
   ]
  },
  {
   "cell_type": "code",
   "execution_count": 4,
   "metadata": {},
   "outputs": [
    {
     "name": "stdout",
     "output_type": "stream",
     "text": [
      "100\n",
      "[1, 2, 3, 4, 5]\n"
     ]
    }
   ],
   "source": [
    "# Create class: DataShell\n",
    "class DataShell:\n",
    "  \n",
    "\t# Initialize class with self, identifier and data arguments\n",
    "    def __init__(self, identifier, data):\n",
    "      \n",
    "\t\t# Set identifier and data as instance variables, assigning value of input arguments\n",
    "        self.identifier = identifier\n",
    "        self.data = data\n",
    "\n",
    "# Declare variable x with value of 100, and y with list of integers from 1 to 5\n",
    "x = 100\n",
    "y = [1, 2, 3, 4, 5]\n",
    "\n",
    "# Instantiate DataShell passing x and y as arguments: my_data_shell\n",
    "my_data_shell = DataShell(x, y)\n",
    "\n",
    "# Print my_data_shell.identifier\n",
    "print(my_data_shell.identifier)\n",
    "\n",
    "# Print my_data_shell.data\n",
    "print(my_data_shell.data)"
   ]
  },
  {
   "cell_type": "code",
   "execution_count": 7,
   "metadata": {},
   "outputs": [
    {
     "name": "stdout",
     "output_type": "stream",
     "text": [
      "DataShell\n",
      "100\n",
      "NotDataShell\n"
     ]
    }
   ],
   "source": [
    "# Create class: DataShell\n",
    "class DataShell:\n",
    "  \n",
    "    # Declare a class variable family, and assign value of \"DataShell\"\n",
    "    family = \"DataShell\"\n",
    "    \n",
    "    # Initialize class with self, identifier arguments\n",
    "    def __init__(self, identifier):\n",
    "      \n",
    "        # Set identifier as instance variable of input argument\n",
    "        self.identifier = identifier\n",
    "\n",
    "# Declare variable x with value of 100\n",
    "x = 100\n",
    "\n",
    "# Instantiate DataShell passing x as argument: my_data_shell\n",
    "my_data_shell = DataShell(x)\n",
    "\n",
    "# Print my_data_shell class variable family\n",
    "print(my_data_shell.family)\n",
    "print(my_data_shell.identifier)\n",
    "\n",
    "# Override the my_data_shell.family value with \"NotDataShell\"\n",
    "my_data_shell.family = \"NotDataShell\"\n",
    "\n",
    "# Print my_data_shell class variable family once again\n",
    "print(my_data_shell.family)"
   ]
  },
  {
   "cell_type": "code",
   "execution_count": 10,
   "metadata": {},
   "outputs": [
    {
     "name": "stdout",
     "output_type": "stream",
     "text": [
      "[1, 2, 3, 4, 5, 6, 7, 8, 9, 10]\n",
      "5.5\n"
     ]
    }
   ],
   "source": [
    "# Create class: DataShell\n",
    "class DataShell:\n",
    "  \n",
    "\t# Initialize class with self and dataList as arguments\n",
    "    def __init__(self, dataList):\n",
    "      \t# Set data as instance variable, and assign it the value of dataList\n",
    "        self.data = dataList\n",
    "        \n",
    "\t# Define method that returns data: show\n",
    "    def show(self):\n",
    "        return self.data\n",
    "        \n",
    "    # Define method that prints average of data: avg \n",
    "    def avg(self):\n",
    "        # Declare avg and assign it the average of data\n",
    "        avg = sum(self.data)/float(len(self.data))\n",
    "        # Return avg\n",
    "        return avg\n",
    "        \n",
    "# Instantiate DataShell taking integer_list as argument: my_data_shell\n",
    "my_data_shell = DataShell(integer_list)\n",
    "\n",
    "# Print output of your object's show method\n",
    "print(my_data_shell.show())\n",
    "\n",
    "# Print output of your object's avg method\n",
    "print(my_data_shell.avg())"
   ]
  },
  {
   "cell_type": "code",
   "execution_count": 12,
   "metadata": {},
   "outputs": [
    {
     "name": "stdout",
     "output_type": "stream",
     "text": [
      "         country code  year  life_expectancy\n",
      "0  United States  USA  1880        39.410000\n",
      "1  United States  USA  1890        45.209999\n",
      "2  United States  USA  1901        49.299999\n"
     ]
    }
   ],
   "source": [
    "# Load numpy as np and pandas as pd\n",
    "import numpy as np\n",
    "import pandas as pd\n",
    "\n",
    "# Create class: DataShell\n",
    "class DataShell:\n",
    "  \n",
    "    # Initialize class with self and inputFile\n",
    "    def __init__(self, inputFile):\n",
    "        self.file = inputFile\n",
    "        \n",
    "    # Define generate_csv method, with self argument\n",
    "    def generate_csv(self):\n",
    "        self.data_as_csv = pd.read_csv(self.file, nrows=3)\n",
    "        return self.data_as_csv\n",
    "\n",
    "# Instantiate DataShell with us_life_expectancy as input argument\n",
    "us_life_expectancy = \"Datasets/us_life_expectancy.csv\"\n",
    "data_shell = DataShell(us_life_expectancy)\n",
    "\n",
    "# Call data_shell's generate_csv method, assign it to df\n",
    "df = data_shell.generate_csv()\n",
    "\n",
    "# Print df\n",
    "print(df)"
   ]
  },
  {
   "cell_type": "code",
   "execution_count": 15,
   "metadata": {},
   "outputs": [
    {
     "name": "stdout",
     "output_type": "stream",
     "text": [
      "         country code  year  life_expectancy\n",
      "0  United States  USA  1880        39.410000\n",
      "1  United States  USA  1890        45.209999\n",
      "2  United States  USA  1901        49.299999\n"
     ]
    }
   ],
   "source": [
    "# Import numpy as np, pandas as pd\n",
    "import numpy as np\n",
    "import pandas as pd\n",
    "\n",
    "# Create class: DataShell\n",
    "class DataShell:\n",
    "  \n",
    "    # Define initialization method\n",
    "    def __init__(self, filepath):\n",
    "\n",
    "        # Set data_as_csv as instance variable\n",
    "        self.data_as_csv = pd.read_csv(filepath, nrows=3)\n",
    "\n",
    "# Instantiate DataShell as us_data_shell\n",
    "us_life_expectancy = \"Datasets/us_life_expectancy.csv\"\n",
    "us_data_shell = DataShell(us_life_expectancy)\n",
    "\n",
    "# Print your object's data_as_csv attribute\n",
    "print(us_data_shell.data_as_csv)"
   ]
  },
  {
   "cell_type": "code",
   "execution_count": 19,
   "metadata": {},
   "outputs": [
    {
     "name": "stdout",
     "output_type": "stream",
     "text": [
      "Index(['country', 'code', 'year', 'life_expectancy'], dtype='object')\n",
      "Index(['country', 'country_code', 'year', 'life_expectancy'], dtype='object')\n",
      "              year  life_expectancy\n",
      "count     2.000000         2.000000\n",
      "mean   1885.000000        42.309999\n",
      "std       7.071068         4.101219\n",
      "min    1880.000000        39.410000\n",
      "25%    1882.500000        40.860000\n",
      "50%    1885.000000        42.309999\n",
      "75%    1887.500000        43.759999\n",
      "max    1890.000000        45.209999\n"
     ]
    }
   ],
   "source": [
    "# Create class DataShell\n",
    "class DataShell:\n",
    "  \n",
    "    # Define initialization method\n",
    "    def __init__(self, filepath):\n",
    "        self.filepath = filepath\n",
    "        self.data_as_csv = pd.read_csv(filepath, nrows=2)\n",
    "    \n",
    "    # Define method rename_column, with arguments self, column_name, and new_column_name\n",
    "    def rename_column(self, column_name, new_column_name):\n",
    "        self.data_as_csv.columns = self.data_as_csv.columns.str.replace(column_name, new_column_name)\n",
    "        \n",
    "    # Define get_stats method, with argument self\n",
    "    def get_stats(self):\n",
    "        # Return a description data_as_csv\n",
    "        return self.data_as_csv.describe()\n",
    "\n",
    "# Instantiate DataShell as us_data_shell with argument us_life_expectancy\n",
    "us_life_expectancy = \"Datasets/us_life_expectancy.csv\"\n",
    "us_data_shell = DataShell(us_life_expectancy)\n",
    "\n",
    "# Print the datatype of your object's data_as_csv attribute\n",
    "print(us_data_shell.data_as_csv.columns)\n",
    "\n",
    "# Rename your objects column 'code' to 'country_code'\n",
    "us_data_shell.rename_column('code' , 'country_code')\n",
    "\n",
    "# Again, print the datatype of your object's data_as_csv attribute\n",
    "print(us_data_shell.data_as_csv.columns)\n",
    "\n",
    "# Print the output of your objects get_stats method\n",
    "print(us_data_shell.get_stats())"
   ]
  },
  {
   "cell_type": "markdown",
   "metadata": {},
   "source": [
    "## Inheritance"
   ]
  },
  {
   "cell_type": "code",
   "execution_count": 20,
   "metadata": {},
   "outputs": [
    {
     "name": "stdout",
     "output_type": "stream",
     "text": [
      "<__main__.Mammal object at 0x000001FA83BE6F28>\n",
      "<__main__.Reptile object at 0x000001FA83BE6B38>\n"
     ]
    }
   ],
   "source": [
    "# Create a class Animal\n",
    "class Animal:\n",
    "    def __init__(self, name):\n",
    "        self.name = name\n",
    "\n",
    "# Create a class Mammal, which inherits from Animal\n",
    "class Mammal(Animal):\n",
    "    def __init__(self, name, animal_type):\n",
    "        self.animal_type = animal_type\n",
    "\n",
    "# Create a class Reptile, which also inherits from Animal\n",
    "class Reptile(Animal):\n",
    "    def __init__(self, name, animal_type):\n",
    "        self.animal_type = animal_type\n",
    "\n",
    "# Instantiate a mammal with name 'Daisy' and animal_type 'dog': daisy\n",
    "daisy = Mammal('Daisy', 'dog')\n",
    "\n",
    "# Instantiate a reptile with name 'Stella' and animal_type 'alligator': stella\n",
    "stella = Reptile('Stella', 'alligator')\n",
    "\n",
    "# Print both objects\n",
    "print(daisy)\n",
    "print(stella)"
   ]
  },
  {
   "cell_type": "code",
   "execution_count": 21,
   "metadata": {},
   "outputs": [
    {
     "name": "stdout",
     "output_type": "stream",
     "text": [
      "Stella Spinal cord: True\n",
      "Stella temperature regulation: False\n",
      "Daisy Spinal cord: True\n",
      "Daisy temperature regulation: True\n"
     ]
    }
   ],
   "source": [
    "# Create a class Vertebrate\n",
    "class Vertebrate:\n",
    "    spinal_cord = True\n",
    "    def __init__(self, name):\n",
    "        self.name = name\n",
    "\n",
    "# Create a class Mammal, which inherits from Vertebrate\n",
    "class Mammal(Vertebrate):\n",
    "    def __init__(self, name, animal_type):\n",
    "        self.animal_type = animal_type\n",
    "        self.temperature_regulation = True\n",
    "\n",
    "# Create a class Reptile, which also inherits from Vertebrate\n",
    "class Reptile(Vertebrate):\n",
    "    def __init__(self, name, animal_type):\n",
    "        self.animal_type = animal_type\n",
    "        self.temperature_regulation = False\n",
    "\n",
    "# Instantiate a mammal with name 'Daisy' and animal_type 'dog': daisy\n",
    "daisy = Mammal('Daisy', 'dog')\n",
    "\n",
    "# Instantiate a reptile with name 'Stella' and animal_type 'alligator': stella\n",
    "stella = Reptile('Stella', 'alligator')\n",
    "\n",
    "# Print stella's attributes spinal_cord and temperature_regulation\n",
    "print(\"Stella Spinal cord: \" + str(stella.spinal_cord))\n",
    "print(\"Stella temperature regulation: \" + str(stella.temperature_regulation))\n",
    "\n",
    "# Print daisy's attributes spinal_cord and temperature_regulation\n",
    "print(\"Daisy Spinal cord: \" + str(daisy.spinal_cord))\n",
    "print(\"Daisy temperature regulation: \" + str(daisy.temperature_regulation))"
   ]
  },
  {
   "cell_type": "code",
   "execution_count": 28,
   "metadata": {},
   "outputs": [
    {
     "name": "stdout",
     "output_type": "stream",
     "text": [
      "1\n"
     ]
    }
   ],
   "source": [
    "class GenericClass:\n",
    "    version = 1\n",
    "    \n",
    "    def __init__(self):\n",
    "        pass\n",
    "\n",
    "class CompositeClass:\n",
    "    def __init__(self):\n",
    "        self.generic = GenericClass()\n",
    "        self.version = self.generic.version\n",
    "\n",
    "c = CompositeClass()\n",
    "\n",
    "print(c.version)"
   ]
  },
  {
   "cell_type": "markdown",
   "metadata": {},
   "source": [
    "## Implementation Inheritance\n",
    "The example will demonstrate the use of inheritance and how derived classes can provide a concrete implementation of the base class interface.\n",
    "<br>url: https://realpython.com/inheritance-composition-python/#composition-in-python"
   ]
  },
  {
   "cell_type": "code",
   "execution_count": 2,
   "metadata": {},
   "outputs": [],
   "source": [
    "class PayrollSystem:\n",
    "    def calculate(self, employees):\n",
    "        print('Calculating Payroll')\n",
    "        print('===================')\n",
    "        for employee in employees:\n",
    "            print(f'Payroll for: {employee.id} - {employee.name}')\n",
    "            print(f'- Check amount: {employee.calculate_payroll()}')\n",
    "            print('')"
   ]
  },
  {
   "cell_type": "code",
   "execution_count": 3,
   "metadata": {},
   "outputs": [
    {
     "name": "stdout",
     "output_type": "stream",
     "text": [
      "Calculating Payroll\n",
      "===================\n",
      "Payroll for: 1 - John Smith\n",
      "- Check amount: 1500\n",
      "\n",
      "Payroll for: 2 - Jane Doe\n",
      "- Check amount: 600\n",
      "\n",
      "Payroll for: 3 - Kevin Bacon\n",
      "- Check amount: 1250\n",
      "\n"
     ]
    }
   ],
   "source": [
    "class Employee:\n",
    "    def __init__(self, id, name):\n",
    "        self.id = id\n",
    "        self.name = name\n",
    "\n",
    "class SalaryEmployee(Employee):\n",
    "    def __init__(self, id, name, weekly_salary):\n",
    "        super().__init__(id, name)\n",
    "        self.weekly_salary = weekly_salary\n",
    "\n",
    "    def calculate_payroll(self):\n",
    "        return self.weekly_salary\n",
    "\n",
    "class HourlyEmployee(Employee):\n",
    "    def __init__(self, id, name, hours_worked, hour_rate):\n",
    "        super().__init__(id, name)\n",
    "        self.hours_worked = hours_worked\n",
    "        self.hour_rate = hour_rate\n",
    "\n",
    "    def calculate_payroll(self):\n",
    "        return self.hours_worked * self.hour_rate\n",
    "\n",
    "class CommissionEmployee(SalaryEmployee):\n",
    "    def __init__(self, id, name, weekly_salary, commission):\n",
    "        super().__init__(id, name, weekly_salary)\n",
    "        self.commission = commission\n",
    "\n",
    "    def calculate_payroll(self):\n",
    "        fixed = super().calculate_payroll()\n",
    "        return fixed + self.commission\n",
    "\n",
    "salary_employee = SalaryEmployee(1, 'John Smith', 1500)\n",
    "hourly_employee = HourlyEmployee(2, 'Jane Doe', 40, 15)\n",
    "commission_employee = CommissionEmployee(3, 'Kevin Bacon', 1000, 250)\n",
    "\n",
    "payroll_system = PayrollSystem()\n",
    "payroll_system.calculate([\n",
    "    salary_employee,\n",
    "    hourly_employee,\n",
    "    commission_employee\n",
    "])"
   ]
  },
  {
   "cell_type": "markdown",
   "metadata": {},
   "source": [
    "## Interface Inheritance (Absract Class or @abstractmetod)\n",
    "<br>url: https://realpython.com/inheritance-composition-python/#composition-in-python"
   ]
  },
  {
   "cell_type": "code",
   "execution_count": 4,
   "metadata": {},
   "outputs": [
    {
     "name": "stdout",
     "output_type": "stream",
     "text": [
      "Calculating Payroll\n",
      "===================\n",
      "Payroll for: 1 - John Smith\n",
      "- Check amount: 1500\n",
      "\n",
      "Payroll for: 2 - Jane Doe\n",
      "- Check amount: 600\n",
      "\n",
      "Payroll for: 3 - Kevin Bacon\n",
      "- Check amount: 1250\n",
      "\n",
      "Payroll for: 4 - Emre Ozan\n",
      "- Check amount: 1000000\n",
      "\n"
     ]
    }
   ],
   "source": [
    "from abc import ABC, abstractmethod\n",
    "\n",
    "class Employee(ABC):\n",
    "    def __init__(self, id, name):\n",
    "        self.id = id\n",
    "        self.name = name\n",
    "\n",
    "    @abstractmethod\n",
    "    def calculate_payroll(self):\n",
    "        pass\n",
    "\n",
    "class SalaryEmployee(Employee):\n",
    "    def __init__(self, id, name, weekly_salary):\n",
    "        super().__init__(id, name)\n",
    "        self.weekly_salary = weekly_salary\n",
    "\n",
    "    def calculate_payroll(self):\n",
    "        return self.weekly_salary\n",
    "\n",
    "class HourlyEmployee(Employee):\n",
    "    def __init__(self, id, name, hours_worked, hour_rate):\n",
    "        super().__init__(id, name)\n",
    "        self.hours_worked = hours_worked\n",
    "        self.hour_rate = hour_rate\n",
    "\n",
    "    def calculate_payroll(self):\n",
    "        return self.hours_worked * self.hour_rate\n",
    "\n",
    "# Normally, CommissionEmployee doeen't need to define calculate_payroll() but it change contents of the fucntion.\n",
    "# This is polymorhism.\n",
    "class CommissionEmployee(SalaryEmployee):\n",
    "    def __init__(self, id, name, weekly_salary, commission):\n",
    "        super().__init__(id, name, weekly_salary)\n",
    "        self.commission = commission\n",
    "\n",
    "    def calculate_payroll(self):\n",
    "        fixed = super().calculate_payroll()\n",
    "        return fixed + self.commission\n",
    "\n",
    "class DisgruntledEmployee(Employee):\n",
    "    def calculate_payroll(self):\n",
    "        return 1000000\n",
    "    \n",
    "salary_employee = SalaryEmployee(1, 'John Smith', 1500)\n",
    "hourly_employee = HourlyEmployee(2, 'Jane Doe', 40, 15)\n",
    "commission_employee = CommissionEmployee(3, 'Kevin Bacon', 1000, 250)\n",
    "disgruntled_employee = DisgruntledEmployee(4, 'Emre Ozan')\n",
    "payroll_system = PayrollSystem()\n",
    "payroll_system.calculate([\n",
    "    salary_employee,\n",
    "    hourly_employee,\n",
    "    commission_employee,\n",
    "    disgruntled_employee\n",
    "])"
   ]
  },
  {
   "cell_type": "markdown",
   "metadata": {},
   "source": [
    "## add more class"
   ]
  },
  {
   "cell_type": "markdown",
   "metadata": {},
   "source": [
    "<p><img src=\"Datasets/images/employee_more_class.jpg\"></p>"
   ]
  },
  {
   "cell_type": "code",
   "execution_count": 13,
   "metadata": {},
   "outputs": [],
   "source": [
    "class ProductivitySystem:\n",
    "    def track(self, employees, hours):\n",
    "        print('Tracking Employee Productivity')\n",
    "        print('==============================')\n",
    "        for employee in employees:\n",
    "            employee.work(hours)\n",
    "        print('')"
   ]
  },
  {
   "cell_type": "code",
   "execution_count": 5,
   "metadata": {},
   "outputs": [],
   "source": [
    "class Manager(SalaryEmployee):\n",
    "    def work(self, hours):\n",
    "        print(f'{self.name} screams and yells for {hours} hours.')\n",
    "\n",
    "class Secretary(SalaryEmployee):\n",
    "    def work(self, hours):\n",
    "        print(f'{self.name} expends {hours} hours doing office paperwork.')\n",
    "\n",
    "class SalesPerson(CommissionEmployee):\n",
    "    def work(self, hours):\n",
    "        print(f'{self.name} expends {hours} hours on the phone.')\n",
    "\n",
    "class FactoryWorker(HourlyEmployee):\n",
    "    def work(self, hours):\n",
    "        print(f'{self.name} manufactures gadgets for {hours} hours.')"
   ]
  },
  {
   "cell_type": "markdown",
   "metadata": {},
   "source": [
    "## Multiple Classes (mro)"
   ]
  },
  {
   "cell_type": "code",
   "execution_count": 6,
   "metadata": {},
   "outputs": [],
   "source": [
    "class SalaryEmployee(Employee):\n",
    "    def __init__(self, id, name, weekly_salary):\n",
    "        super().__init__(id, name)\n",
    "        self.weekly_salary = weekly_salary\n",
    "\n",
    "    def calculate_payroll(self):\n",
    "        return self.weekly_salary\n",
    "\n",
    "class HourlyEmployee(Employee):\n",
    "    def __init__(self, id, name, hours_worked, hour_rate):\n",
    "        super().__init__(id, name)\n",
    "        self.hours_worked = hours_worked\n",
    "        self.hour_rate = hour_rate\n",
    "\n",
    "    def calculate_payroll(self):\n",
    "        return self.hours_worked * self.hour_rate\n",
    "\n",
    "class Secretary(SalaryEmployee):\n",
    "    def work(self, hours):\n",
    "        print(f'{self.name} expends {hours} hours doing office paperwork.')\n",
    "        \n",
    "class TemporarySecretary(HourlyEmployee, Secretary):\n",
    "    def __init__(self, id, name, hours_worked, hour_rate):\n",
    "        super().__init__(id, name, hours_worked, hour_rate)"
   ]
  },
  {
   "cell_type": "code",
   "execution_count": 7,
   "metadata": {},
   "outputs": [
    {
     "ename": "TypeError",
     "evalue": "__init__() missing 1 required positional argument: 'weekly_salary'",
     "output_type": "error",
     "traceback": [
      "\u001b[1;31m---------------------------------------------------------------------------\u001b[0m",
      "\u001b[1;31mTypeError\u001b[0m                                 Traceback (most recent call last)",
      "\u001b[1;32m<ipython-input-7-138398ef0ad0>\u001b[0m in \u001b[0;36m<module>\u001b[1;34m\u001b[0m\n\u001b[1;32m----> 1\u001b[1;33m \u001b[0mts\u001b[0m \u001b[1;33m=\u001b[0m \u001b[0mTemporarySecretary\u001b[0m\u001b[1;33m(\u001b[0m\u001b[1;36m5\u001b[0m\u001b[1;33m,\u001b[0m \u001b[1;34m'Robin Williams'\u001b[0m\u001b[1;33m,\u001b[0m \u001b[1;36m40\u001b[0m\u001b[1;33m,\u001b[0m \u001b[1;36m9\u001b[0m\u001b[1;33m)\u001b[0m\u001b[1;33m\u001b[0m\u001b[1;33m\u001b[0m\u001b[0m\n\u001b[0m",
      "\u001b[1;32m<ipython-input-6-efbb191bc222>\u001b[0m in \u001b[0;36m__init__\u001b[1;34m(self, id, name, hours_worked, hour_rate)\u001b[0m\n\u001b[0;32m     22\u001b[0m \u001b[1;32mclass\u001b[0m \u001b[0mTemporarySecretary\u001b[0m\u001b[1;33m(\u001b[0m\u001b[0mHourlyEmployee\u001b[0m\u001b[1;33m,\u001b[0m \u001b[0mSecretary\u001b[0m\u001b[1;33m)\u001b[0m\u001b[1;33m:\u001b[0m\u001b[1;33m\u001b[0m\u001b[1;33m\u001b[0m\u001b[0m\n\u001b[0;32m     23\u001b[0m     \u001b[1;32mdef\u001b[0m \u001b[0m__init__\u001b[0m\u001b[1;33m(\u001b[0m\u001b[0mself\u001b[0m\u001b[1;33m,\u001b[0m \u001b[0mid\u001b[0m\u001b[1;33m,\u001b[0m \u001b[0mname\u001b[0m\u001b[1;33m,\u001b[0m \u001b[0mhours_worked\u001b[0m\u001b[1;33m,\u001b[0m \u001b[0mhour_rate\u001b[0m\u001b[1;33m)\u001b[0m\u001b[1;33m:\u001b[0m\u001b[1;33m\u001b[0m\u001b[1;33m\u001b[0m\u001b[0m\n\u001b[1;32m---> 24\u001b[1;33m         \u001b[0msuper\u001b[0m\u001b[1;33m(\u001b[0m\u001b[1;33m)\u001b[0m\u001b[1;33m.\u001b[0m\u001b[0m__init__\u001b[0m\u001b[1;33m(\u001b[0m\u001b[0mid\u001b[0m\u001b[1;33m,\u001b[0m \u001b[0mname\u001b[0m\u001b[1;33m,\u001b[0m \u001b[0mhours_worked\u001b[0m\u001b[1;33m,\u001b[0m \u001b[0mhour_rate\u001b[0m\u001b[1;33m)\u001b[0m\u001b[1;33m\u001b[0m\u001b[1;33m\u001b[0m\u001b[0m\n\u001b[0m",
      "\u001b[1;32m<ipython-input-6-efbb191bc222>\u001b[0m in \u001b[0;36m__init__\u001b[1;34m(self, id, name, hours_worked, hour_rate)\u001b[0m\n\u001b[0;32m      9\u001b[0m \u001b[1;32mclass\u001b[0m \u001b[0mHourlyEmployee\u001b[0m\u001b[1;33m(\u001b[0m\u001b[0mEmployee\u001b[0m\u001b[1;33m)\u001b[0m\u001b[1;33m:\u001b[0m\u001b[1;33m\u001b[0m\u001b[1;33m\u001b[0m\u001b[0m\n\u001b[0;32m     10\u001b[0m     \u001b[1;32mdef\u001b[0m \u001b[0m__init__\u001b[0m\u001b[1;33m(\u001b[0m\u001b[0mself\u001b[0m\u001b[1;33m,\u001b[0m \u001b[0mid\u001b[0m\u001b[1;33m,\u001b[0m \u001b[0mname\u001b[0m\u001b[1;33m,\u001b[0m \u001b[0mhours_worked\u001b[0m\u001b[1;33m,\u001b[0m \u001b[0mhour_rate\u001b[0m\u001b[1;33m)\u001b[0m\u001b[1;33m:\u001b[0m\u001b[1;33m\u001b[0m\u001b[1;33m\u001b[0m\u001b[0m\n\u001b[1;32m---> 11\u001b[1;33m         \u001b[0msuper\u001b[0m\u001b[1;33m(\u001b[0m\u001b[1;33m)\u001b[0m\u001b[1;33m.\u001b[0m\u001b[0m__init__\u001b[0m\u001b[1;33m(\u001b[0m\u001b[0mid\u001b[0m\u001b[1;33m,\u001b[0m \u001b[0mname\u001b[0m\u001b[1;33m)\u001b[0m\u001b[1;33m\u001b[0m\u001b[1;33m\u001b[0m\u001b[0m\n\u001b[0m\u001b[0;32m     12\u001b[0m         \u001b[0mself\u001b[0m\u001b[1;33m.\u001b[0m\u001b[0mhours_worked\u001b[0m \u001b[1;33m=\u001b[0m \u001b[0mhours_worked\u001b[0m\u001b[1;33m\u001b[0m\u001b[1;33m\u001b[0m\u001b[0m\n\u001b[0;32m     13\u001b[0m         \u001b[0mself\u001b[0m\u001b[1;33m.\u001b[0m\u001b[0mhour_rate\u001b[0m \u001b[1;33m=\u001b[0m \u001b[0mhour_rate\u001b[0m\u001b[1;33m\u001b[0m\u001b[1;33m\u001b[0m\u001b[0m\n",
      "\u001b[1;31mTypeError\u001b[0m: __init__() missing 1 required positional argument: 'weekly_salary'"
     ]
    }
   ],
   "source": [
    "ts = TemporarySecretary(5, 'Robin Williams', 40, 9)"
   ]
  },
  {
   "cell_type": "markdown",
   "metadata": {},
   "source": [
    "#### That didn’t work. It seems you are missing a weekly_salary parameter, which is necessary to initialize Secretary. When a method or attribute of a class is accessed, Python uses the class MRO (Method Resolution Order) to find it. The MRO is also used by super() to determine which method or attribute to invoke. "
   ]
  },
  {
   "cell_type": "code",
   "execution_count": 8,
   "metadata": {},
   "outputs": [
    {
     "data": {
      "text/plain": [
       "(__main__.TemporarySecretary,\n",
       " __main__.HourlyEmployee,\n",
       " __main__.Secretary,\n",
       " __main__.SalaryEmployee,\n",
       " __main__.Employee,\n",
       " abc.ABC,\n",
       " object)"
      ]
     },
     "execution_count": 8,
     "metadata": {},
     "output_type": "execute_result"
    }
   ],
   "source": [
    "TemporarySecretary.__mro__"
   ]
  },
  {
   "cell_type": "markdown",
   "metadata": {},
   "source": [
    "#### The MRO shows the order in which Python is going to look for a matching attribute or method. Our expectation about TemporarySecretary is work() function from Secretary class and calculate() function from HourlyEmployee. In fact, we don't need weekly_salary parameter. "
   ]
  },
  {
   "cell_type": "code",
   "execution_count": 9,
   "metadata": {},
   "outputs": [],
   "source": [
    "class TemporarySecretary(Secretary, HourlyEmployee):\n",
    "    def __init__(self, id, name, hours_worked, hour_rate):\n",
    "        HourlyEmployee.__init__(self, id, name, hours_worked, hour_rate)            \n",
    "\n",
    "ts = TemporarySecretary(5, 'Robin Williams', 40, 9)"
   ]
  },
  {
   "cell_type": "markdown",
   "metadata": {},
   "source": [
    "#### You can bypass the MRO by reversing the inheritance order and directly calling HourlyEmployee.__init__()."
   ]
  },
  {
   "cell_type": "code",
   "execution_count": 10,
   "metadata": {},
   "outputs": [
    {
     "ename": "AttributeError",
     "evalue": "'TemporarySecretary' object has no attribute 'weekly_salary'",
     "output_type": "error",
     "traceback": [
      "\u001b[1;31m---------------------------------------------------------------------------\u001b[0m",
      "\u001b[1;31mAttributeError\u001b[0m                            Traceback (most recent call last)",
      "\u001b[1;32m<ipython-input-10-8a68e32a65aa>\u001b[0m in \u001b[0;36m<module>\u001b[1;34m\u001b[0m\n\u001b[1;32m----> 1\u001b[1;33m \u001b[0mts\u001b[0m\u001b[1;33m.\u001b[0m\u001b[0mcalculate_payroll\u001b[0m\u001b[1;33m(\u001b[0m\u001b[1;33m)\u001b[0m\u001b[1;33m\u001b[0m\u001b[1;33m\u001b[0m\u001b[0m\n\u001b[0m",
      "\u001b[1;32m<ipython-input-6-efbb191bc222>\u001b[0m in \u001b[0;36mcalculate_payroll\u001b[1;34m(self)\u001b[0m\n\u001b[0;32m      5\u001b[0m \u001b[1;33m\u001b[0m\u001b[0m\n\u001b[0;32m      6\u001b[0m     \u001b[1;32mdef\u001b[0m \u001b[0mcalculate_payroll\u001b[0m\u001b[1;33m(\u001b[0m\u001b[0mself\u001b[0m\u001b[1;33m)\u001b[0m\u001b[1;33m:\u001b[0m\u001b[1;33m\u001b[0m\u001b[1;33m\u001b[0m\u001b[0m\n\u001b[1;32m----> 7\u001b[1;33m         \u001b[1;32mreturn\u001b[0m \u001b[0mself\u001b[0m\u001b[1;33m.\u001b[0m\u001b[0mweekly_salary\u001b[0m\u001b[1;33m\u001b[0m\u001b[1;33m\u001b[0m\u001b[0m\n\u001b[0m\u001b[0;32m      8\u001b[0m \u001b[1;33m\u001b[0m\u001b[0m\n\u001b[0;32m      9\u001b[0m \u001b[1;32mclass\u001b[0m \u001b[0mHourlyEmployee\u001b[0m\u001b[1;33m(\u001b[0m\u001b[0mEmployee\u001b[0m\u001b[1;33m)\u001b[0m\u001b[1;33m:\u001b[0m\u001b[1;33m\u001b[0m\u001b[1;33m\u001b[0m\u001b[0m\n",
      "\u001b[1;31mAttributeError\u001b[0m: 'TemporarySecretary' object has no attribute 'weekly_salary'"
     ]
    }
   ],
   "source": [
    "ts.calculate_payroll()"
   ]
  },
  {
   "cell_type": "markdown",
   "metadata": {},
   "source": [
    "#### The problem now is that because you reversed the inheritance order, the MRO is finding the .calculate_payroll() method of SalariedEmployee before the one in HourlyEmployee. You need to override .calculate_payroll() in TemporarySecretary and invoke the right implementation from it"
   ]
  },
  {
   "cell_type": "code",
   "execution_count": 11,
   "metadata": {},
   "outputs": [],
   "source": [
    "class TemporarySecretary(Secretary, HourlyEmployee):\n",
    "    def __init__(self, id, name, hours_worked, hour_rate):\n",
    "        HourlyEmployee.__init__(self, id, name, hours_worked, hour_rate)\n",
    "\n",
    "    def calculate_payroll(self):\n",
    "        return HourlyEmployee.calculate_payroll(self)"
   ]
  },
  {
   "cell_type": "code",
   "execution_count": 12,
   "metadata": {},
   "outputs": [
    {
     "data": {
      "text/plain": [
       "360"
      ]
     },
     "execution_count": 12,
     "metadata": {},
     "output_type": "execute_result"
    }
   ],
   "source": [
    "ts = TemporarySecretary(5, 'Robin Williams', 40, 9)\n",
    "ts.calculate_payroll()"
   ]
  },
  {
   "cell_type": "markdown",
   "metadata": {},
   "source": [
    "<p><img src=\"Datasets/images/employee_diamond_uml.jpg\"></p>"
   ]
  },
  {
   "cell_type": "markdown",
   "metadata": {},
   "source": [
    "#### When you run into the diamond problem, it’s better to re-think the design. You will now make some changes to leverage multiple inheritance, avoiding the diamond problem."
   ]
  },
  {
   "cell_type": "markdown",
   "metadata": {},
   "source": [
    "#### The Employee derived classes are used by two different systems:\n",
    "<br>1)The productivity system that tracks employee productivity.\n",
    "<br>2)The payroll system that calculates the employee payroll.\n",
    "<br>This means that everything related to productivity should be together in one module and everything related to payroll should be together in another. You can start making changes to the productivity module:"
   ]
  },
  {
   "cell_type": "markdown",
   "metadata": {},
   "source": [
    "## The result of Corelation by removing multiple classes in diamond and abstractmethod"
   ]
  },
  {
   "cell_type": "code",
   "execution_count": 18,
   "metadata": {},
   "outputs": [],
   "source": [
    "class ProductivitySystem:\n",
    "    def track(self, employees, hours):\n",
    "        print('Tracking Employee Productivity')\n",
    "        print('==============================')\n",
    "        for employee in employees:\n",
    "            result = employee.work(hours)\n",
    "            print(f'{employee.name}: {result}')\n",
    "        print('')\n",
    "\n",
    "class ManagerRole:\n",
    "    def work(self, hours):\n",
    "        return f'screams and yells for {hours} hours.'\n",
    "\n",
    "class SecretaryRole:\n",
    "    def work(self, hours):\n",
    "        return f'expends {hours} hours doing office paperwork.'\n",
    "\n",
    "class SalesRole:\n",
    "    def work(self, hours):\n",
    "        return f'expends {hours} hours on the phone.'\n",
    "\n",
    "class FactoryRole:\n",
    "    def work(self, hours):\n",
    "        return f'manufactures gadgets for {hours} hours.'"
   ]
  },
  {
   "cell_type": "code",
   "execution_count": 22,
   "metadata": {},
   "outputs": [],
   "source": [
    "class PayrollSystem:\n",
    "    def calculate(self, employees):\n",
    "        print('Calculating Payroll')\n",
    "        print('===================')\n",
    "        for employee in employees:\n",
    "            print(f'Payroll for: {employee.id} - {employee.name}')\n",
    "            print(f'- Check amount: {employee.calculate_payroll()}')\n",
    "            print('')\n",
    "\n",
    "class SalaryPolicy:\n",
    "    def __init__(self, weekly_salary):\n",
    "        self.weekly_salary = weekly_salary\n",
    "\n",
    "    def calculate_payroll(self):\n",
    "        return self.weekly_salary\n",
    "\n",
    "class HourlyPolicy:\n",
    "    def __init__(self, hours_worked, hour_rate):\n",
    "        self.hours_worked = hours_worked\n",
    "        self.hour_rate = hour_rate\n",
    "\n",
    "    def calculate_payroll(self):\n",
    "        return self.hours_worked * self.hour_rate\n",
    "\n",
    "class CommissionPolicy(SalaryPolicy):\n",
    "    def __init__(self, weekly_salary, commission):\n",
    "        super().__init__(weekly_salary)\n",
    "        self.commission = commission\n",
    "\n",
    "    def calculate_payroll(self):\n",
    "        fixed = super().calculate_payroll()\n",
    "        return fixed + self.commission"
   ]
  },
  {
   "cell_type": "code",
   "execution_count": 27,
   "metadata": {},
   "outputs": [],
   "source": [
    "class Employee:\n",
    "    def __init__(self, id, name):\n",
    "        self.id = id\n",
    "        self.name = name\n",
    "\n",
    "class Manager(Employee, ManagerRole, SalaryPolicy):\n",
    "    def __init__(self, id, name, weekly_salary):\n",
    "        SalaryPolicy.__init__(self, weekly_salary)\n",
    "        super().__init__(id, name)\n",
    "\n",
    "class Secretary(Employee, SecretaryRole, SalaryPolicy):\n",
    "    def __init__(self, id, name, weekly_salary):\n",
    "        SalaryPolicy.__init__(self, weekly_salary)\n",
    "        super().__init__(id, name)\n",
    "\n",
    "class SalesPerson(Employee, SalesRole, CommissionPolicy):\n",
    "    def __init__(self, id, name, weekly_salary, commission):\n",
    "        CommissionPolicy.__init__(self, weekly_salary, commission)\n",
    "        super().__init__(id, name)\n",
    "\n",
    "class FactoryWorker(Employee, FactoryRole, HourlyPolicy):\n",
    "    def __init__(self, id, name, hours_worked, hour_rate):\n",
    "        HourlyPolicy.__init__(self, hours_worked, hour_rate)\n",
    "        super().__init__(id, name)\n",
    "\n",
    "class TemporarySecretary(Employee, SecretaryRole, HourlyPolicy):\n",
    "    def __init__(self, id, name, hours_worked, hour_rate):\n",
    "        HourlyPolicy.__init__(self, hours_worked, hour_rate)\n",
    "        super().__init__(id, name)"
   ]
  },
  {
   "cell_type": "markdown",
   "metadata": {},
   "source": [
    "<img src=\"Datasets/images/employee_remove_multiple.jpg\">"
   ]
  },
  {
   "cell_type": "markdown",
   "metadata": {},
   "source": [
    "#### The diagram shows the relationships to define the Secretary and TemporarySecretary using multiple inheritance, but avoiding the diamond problem."
   ]
  },
  {
   "cell_type": "code",
   "execution_count": 28,
   "metadata": {},
   "outputs": [
    {
     "name": "stdout",
     "output_type": "stream",
     "text": [
      "Tracking Employee Productivity\n",
      "==============================\n",
      "Mary Poppins: screams and yells for 40 hours.\n",
      "John Smith: expends 40 hours doing office paperwork.\n",
      "Kevin Bacon: expends 40 hours on the phone.\n",
      "Jane Doe: manufactures gadgets for 40 hours.\n",
      "\n",
      "Calculating Payroll\n",
      "===================\n",
      "Payroll for: 1 - Mary Poppins\n",
      "- Check amount: 3000\n",
      "\n",
      "Payroll for: 2 - John Smith\n",
      "- Check amount: 1500\n",
      "\n",
      "Payroll for: 3 - Kevin Bacon\n",
      "- Check amount: 1250\n",
      "\n",
      "Payroll for: 2 - Jane Doe\n",
      "- Check amount: 600\n",
      "\n"
     ]
    }
   ],
   "source": [
    "manager = Manager(1, 'Mary Poppins', 3000)\n",
    "secretary = Secretary(2, 'John Smith', 1500)\n",
    "sales_guy = SalesPerson(3, 'Kevin Bacon', 1000, 250)\n",
    "factory_worker = FactoryWorker(2, 'Jane Doe', 40, 15)\n",
    "employees = [\n",
    "    manager,\n",
    "    secretary,\n",
    "    sales_guy,\n",
    "    factory_worker,\n",
    "]\n",
    "productivity_system = ProductivitySystem()\n",
    "productivity_system.track(employees, 40)\n",
    "payroll_system = PayrollSystem()\n",
    "payroll_system.calculate(employees)"
   ]
  },
  {
   "cell_type": "markdown",
   "metadata": {},
   "source": [
    "## Composition"
   ]
  },
  {
   "cell_type": "code",
   "execution_count": 30,
   "metadata": {},
   "outputs": [],
   "source": [
    "class Address:\n",
    "    def __init__(self, street, city, state, zipcode, street2=''):\n",
    "        self.street = street\n",
    "        self.street2 = street2\n",
    "        self.city = city\n",
    "        self.state = state\n",
    "        self.zipcode = zipcode\n",
    "\n",
    "    def __str__(self):\n",
    "        lines = [self.street]\n",
    "        if self.street2:\n",
    "            lines.append(self.street2)\n",
    "        lines.append(f'{self.city}, {self.state} {self.zipcode}')\n",
    "        return '\\n'.join(lines)"
   ]
  },
  {
   "cell_type": "code",
   "execution_count": 31,
   "metadata": {},
   "outputs": [
    {
     "name": "stdout",
     "output_type": "stream",
     "text": [
      "55 Main St.\n",
      "Concord, NH 03301\n"
     ]
    }
   ],
   "source": [
    "address = Address('55 Main St.', 'Concord', 'NH', '03301')\n",
    "print(address)"
   ]
  },
  {
   "cell_type": "markdown",
   "metadata": {},
   "source": [
    "I add only address attribute to employee class"
   ]
  },
  {
   "cell_type": "code",
   "execution_count": 40,
   "metadata": {},
   "outputs": [],
   "source": [
    "class Employee:\n",
    "    def __init__(self, id, name):\n",
    "        self.id = id\n",
    "        self.name = name\n",
    "        self.address = None\n",
    "\n",
    "class Manager(Employee, ManagerRole, SalaryPolicy):\n",
    "    def __init__(self, id, name, weekly_salary):\n",
    "        SalaryPolicy.__init__(self, weekly_salary)\n",
    "        super().__init__(id, name)\n",
    "\n",
    "class Secretary(Employee, SecretaryRole, SalaryPolicy):\n",
    "    def __init__(self, id, name, weekly_salary):\n",
    "        SalaryPolicy.__init__(self, weekly_salary)\n",
    "        super().__init__(id, name)\n",
    "\n",
    "class SalesPerson(Employee, SalesRole, CommissionPolicy):\n",
    "    def __init__(self, id, name, weekly_salary, commission):\n",
    "        CommissionPolicy.__init__(self, weekly_salary, commission)\n",
    "        super().__init__(id, name)\n",
    "\n",
    "class FactoryWorker(Employee, FactoryRole, HourlyPolicy):\n",
    "    def __init__(self, id, name, hours_worked, hour_rate):\n",
    "        HourlyPolicy.__init__(self, hours_worked, hour_rate)\n",
    "        super().__init__(id, name)\n",
    "\n",
    "class TemporarySecretary(Employee, SecretaryRole, HourlyPolicy):\n",
    "    def __init__(self, id, name, hours_worked, hour_rate):\n",
    "        HourlyPolicy.__init__(self, hours_worked, hour_rate)\n",
    "        super().__init__(id, name)"
   ]
  },
  {
   "cell_type": "markdown",
   "metadata": {},
   "source": [
    "<img src=\"Datasets/images/employee_address.jpg\" width=\"150\" height=\"300\">"
   ]
  },
  {
   "cell_type": "code",
   "execution_count": 41,
   "metadata": {},
   "outputs": [],
   "source": [
    "class PayrollSystem:\n",
    "    def calculate(self, employees):\n",
    "        print('Calculating Payroll')\n",
    "        print('===================')\n",
    "        for employee in employees:\n",
    "            print(f'Payroll for: {employee.id} - {employee.name}')\n",
    "            print(f'- Check amount: {employee.calculate_payroll()}')\n",
    "            if employee.address:\n",
    "                print('- Sent to:')\n",
    "                print(employee.address)\n",
    "            print('')"
   ]
  },
  {
   "cell_type": "code",
   "execution_count": 42,
   "metadata": {},
   "outputs": [],
   "source": [
    "manager = Manager(1, 'Mary Poppins', 3000)\n",
    "manager.address = Address('121 Admin Rd', 'Concord', 'NH', '03301')\n",
    "secretary = Secretary(2, 'John Smith', 1500)\n",
    "secretary.address = Address('67 Paperwork Ave.', 'Manchester', 'NH', '03101')\n",
    "sales_guy = SalesPerson(3, 'Kevin Bacon', 1000, 250)\n",
    "factory_worker = FactoryWorker(4, 'Jane Doe', 40, 15)\n",
    "temporary_secretary = TemporarySecretary(5, 'Robin Williams', 40, 9)\n",
    "employees = [\n",
    "    manager,\n",
    "    secretary,\n",
    "    sales_guy,\n",
    "    factory_worker,\n",
    "    temporary_secretary,\n",
    "]"
   ]
  },
  {
   "cell_type": "code",
   "execution_count": 43,
   "metadata": {},
   "outputs": [
    {
     "name": "stdout",
     "output_type": "stream",
     "text": [
      "Tracking Employee Productivity\n",
      "==============================\n",
      "Mary Poppins: screams and yells for 40 hours.\n",
      "John Smith: expends 40 hours doing office paperwork.\n",
      "Kevin Bacon: expends 40 hours on the phone.\n",
      "Jane Doe: manufactures gadgets for 40 hours.\n",
      "Robin Williams: expends 40 hours doing office paperwork.\n",
      "\n",
      "Calculating Payroll\n",
      "===================\n",
      "Payroll for: 1 - Mary Poppins\n",
      "- Check amount: 3000\n",
      "- Sent to:\n",
      "121 Admin Rd\n",
      "Concord, NH 03301\n",
      "\n",
      "Payroll for: 2 - John Smith\n",
      "- Check amount: 1500\n",
      "- Sent to:\n",
      "67 Paperwork Ave.\n",
      "Manchester, NH 03101\n",
      "\n",
      "Payroll for: 3 - Kevin Bacon\n",
      "- Check amount: 1250\n",
      "\n",
      "Payroll for: 4 - Jane Doe\n",
      "- Check amount: 600\n",
      "\n",
      "Payroll for: 5 - Robin Williams\n",
      "- Check amount: 360\n",
      "\n"
     ]
    }
   ],
   "source": [
    "productivity_system = ProductivitySystem()\n",
    "productivity_system.track(employees, 40)\n",
    "payroll_system = PayrollSystem()\n",
    "payroll_system.calculate(employees)"
   ]
  },
  {
   "cell_type": "code",
   "execution_count": null,
   "metadata": {},
   "outputs": [],
   "source": []
  }
 ],
 "metadata": {
  "kernelspec": {
   "display_name": "Python 3",
   "language": "python",
   "name": "python3"
  },
  "language_info": {
   "codemirror_mode": {
    "name": "ipython",
    "version": 3
   },
   "file_extension": ".py",
   "mimetype": "text/x-python",
   "name": "python",
   "nbconvert_exporter": "python",
   "pygments_lexer": "ipython3",
   "version": "3.7.3"
  }
 },
 "nbformat": 4,
 "nbformat_minor": 2
}
