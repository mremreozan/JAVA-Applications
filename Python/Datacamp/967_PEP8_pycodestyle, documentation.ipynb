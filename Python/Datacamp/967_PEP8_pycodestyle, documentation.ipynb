{
 "cells": [
  {
   "cell_type": "code",
   "execution_count": 2,
   "metadata": {},
   "outputs": [
    {
     "name": "stdout",
     "output_type": "stream",
     "text": [
      "968_OOP2.ipynb:67:80: E501 line too long (85 > 79 characters)\n",
      "968_OOP2.ipynb:71:80: E501 line too long (90 > 79 characters)\n",
      "968_OOP2.ipynb:157:80: E501 line too long (82 > 79 characters)\n",
      "968_OOP2.ipynb:166:80: E501 line too long (102 > 79 characters)\n",
      "968_OOP2.ipynb:190:80: E501 line too long (81 > 79 characters)\n",
      "968_OOP2.ipynb:195:80: E501 line too long (81 > 79 characters)\n",
      "968_OOP2.ipynb:199:80: E501 line too long (85 > 79 characters)\n",
      "968_OOP2.ipynb:216:80: E501 line too long (5728 > 79 characters)\n",
      "968_OOP2.ipynb:267:80: E501 line too long (81 > 79 characters)\n",
      "968_OOP2.ipynb:277:80: E501 line too long (81 > 79 characters)\n",
      "968_OOP2.ipynb:279:80: E501 line too long (85 > 79 characters)\n",
      "968_OOP2.ipynb:284:80: E501 line too long (85 > 79 characters)\n",
      "968_OOP2.ipynb:375:80: E501 line too long (5728 > 79 characters)\n",
      "968_OOP2.ipynb:387:80: E501 line too long (5292 > 79 characters)\n",
      "969_OOP.ipynb:80:80: E501 line too long (82 > 79 characters)\n",
      "969_OOP.ipynb:114:80: E501 line too long (96 > 79 characters)\n",
      "969_OOP.ipynb:118:80: E501 line too long (88 > 79 characters)\n",
      "969_OOP.ipynb:151:80: E501 line too long (81 > 79 characters)\n",
      "969_OOP.ipynb:197:80: E501 line too long (85 > 79 characters)\n",
      "969_OOP.ipynb:312:80: E501 line too long (80 > 79 characters)\n",
      "969_OOP.ipynb:313:80: E501 line too long (88 > 79 characters)\n",
      "969_OOP.ipynb:335:80: E501 line too long (97 > 79 characters)\n",
      "969_OOP.ipynb:337:80: E501 line too long (110 > 79 characters)\n",
      "969_OOP.ipynb:344:80: E501 line too long (82 > 79 characters)\n",
      "969_OOP.ipynb:394:80: E501 line too long (87 > 79 characters)\n",
      "969_OOP.ipynb:440:80: E501 line too long (87 > 79 characters)\n",
      "969_OOP.ipynb:445:80: E501 line too long (88 > 79 characters)\n",
      "969_OOP.ipynb:449:80: E501 line too long (83 > 79 characters)\n",
      "969_OOP.ipynb:481:80: E501 line too long (92 > 79 characters)\n",
      "{'E501': 'line too long (85 > 79 characters)'}\n"
     ]
    }
   ],
   "source": [
    "# Import needed package\n",
    "import pycodestyle\n",
    "\n",
    "# Create a StyleGuide instance\n",
    "style_checker = pycodestyle.StyleGuide()\n",
    "\n",
    "# Run PEP 8 check on multiple files\n",
    "result = style_checker.check_files(['968_OOP2.ipynb', '969_OOP.ipynb'])\n",
    "\n",
    "# Print result of PEP 8 style check\n",
    "print(result.messages)"
   ]
  },
  {
   "cell_type": "code",
   "execution_count": 1,
   "metadata": {},
   "outputs": [
    {
     "name": "stdout",
     "output_type": "stream",
     "text": [
      "Help on function tokenize in module __main__:\n",
      "\n",
      "tokenize(text, regex='[a-zA-z]+')\n",
      "    Split text into tokens using a regular expression\n",
      "    \n",
      "    :param text: text to be tokenized\n",
      "    :param regex: regular expression used to match tokens using re.findall \n",
      "    :return: a list of resulting tokens\n",
      "    \n",
      "    >>> tokenize('the rain in spain')\n",
      "    ['the', 'rain', 'in', 'spain']\n",
      "\n"
     ]
    }
   ],
   "source": [
    "# Complete the function's docstring\n",
    "def tokenize(text, regex=r'[a-zA-z]+'):\n",
    "  \"\"\"Split text into tokens using a regular expression\n",
    "\n",
    "  :param text: text to be tokenized\n",
    "  :param regex: regular expression used to match tokens using re.findall \n",
    "  :return: a list of resulting tokens\n",
    "\n",
    "  >>> tokenize('the rain in spain')\n",
    "  ['the', 'rain', 'in', 'spain']\n",
    "  \"\"\"\n",
    "  return re.findall(regex, text, flags=re.IGNORECASE)\n",
    "\n",
    "# Print the docstring\n",
    "help(tokenize)"
   ]
  },
  {
   "cell_type": "code",
   "execution_count": null,
   "metadata": {},
   "outputs": [],
   "source": []
  }
 ],
 "metadata": {
  "kernelspec": {
   "display_name": "Python 3",
   "language": "python",
   "name": "python3"
  },
  "language_info": {
   "codemirror_mode": {
    "name": "ipython",
    "version": 3
   },
   "file_extension": ".py",
   "mimetype": "text/x-python",
   "name": "python",
   "nbconvert_exporter": "python",
   "pygments_lexer": "ipython3",
   "version": "3.7.3"
  }
 },
 "nbformat": 4,
 "nbformat_minor": 2
}
