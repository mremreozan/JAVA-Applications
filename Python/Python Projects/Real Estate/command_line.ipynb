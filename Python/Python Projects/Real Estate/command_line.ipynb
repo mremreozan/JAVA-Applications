{
 "cells": [
  {
   "cell_type": "code",
   "execution_count": 1,
   "metadata": {},
   "outputs": [],
   "source": [
    "from real_estate_package import *"
   ]
  },
  {
   "cell_type": "code",
   "execution_count": 2,
   "metadata": {},
   "outputs": [
    {
     "name": "stdout",
     "output_type": "stream",
     "text": [
      "What type of property?  (house, apartment) house\n",
      "What payment type?  (purchase, rental) rental\n",
      "Enter the square feet: 800\n",
      "Enter number of bedrooms: 3\n",
      "Enter number of baths: 2\n",
      "Is the yard fenced?  (yes, no) yes\n",
      "Is there a garage?  (attached, detached, none) attached\n",
      "How many stories? 2\n",
      "What is the monthly rent? 500\n",
      "What are the estimated utilities? 12\n",
      "Is the property furnished?  (yes, no) yes\n"
     ]
    }
   ],
   "source": [
    "agent = Agent()\n",
    "agent.add_property()"
   ]
  },
  {
   "cell_type": "code",
   "execution_count": 3,
   "metadata": {},
   "outputs": [
    {
     "name": "stdout",
     "output_type": "stream",
     "text": [
      "What type of property?  (house, apartment) house\n",
      "What payment type?  (purchase, rental) purchase\n",
      "Enter the square feet: 700\n",
      "Enter number of bedrooms: 2\n",
      "Enter number of baths: 2\n",
      "Is the yard fenced?  (yes, no) no\n",
      "Is there a garage?  (attached, detached, none) detached\n",
      "How many stories? 1\n",
      "What is the selling price? 160.000$\n",
      "What are the estimated taxes? 10.000$\n"
     ]
    }
   ],
   "source": [
    "agent.add_property()"
   ]
  },
  {
   "cell_type": "code",
   "execution_count": 4,
   "metadata": {},
   "outputs": [
    {
     "name": "stdout",
     "output_type": "stream",
     "text": [
      "What type of property?  (house, apartment) apartment\n",
      "What payment type?  (purchase, rental) rental\n",
      "Enter the square feet: 600\n",
      "Enter number of bedrooms: 2\n",
      "Enter number of baths: 1\n",
      "What laundry facilities does the property have?  (coin, ensuite, none) coin\n",
      "Does the property have a balcony?  (yes, no, solarium) no\n",
      "What is the monthly rent? 400$\n",
      "What are the estimated utilities? 6\n",
      "Is the property furnished?  (yes, no) yes\n"
     ]
    }
   ],
   "source": [
    "agent.add_property()"
   ]
  },
  {
   "cell_type": "code",
   "execution_count": 5,
   "metadata": {},
   "outputs": [
    {
     "name": "stdout",
     "output_type": "stream",
     "text": [
      "What type of property?  (house, apartment) apartment\n",
      "What payment type?  (purchase, rental) purchase\n",
      "Enter the square feet: 400\n",
      "Enter number of bedrooms: 1\n",
      "Enter number of baths: 1\n",
      "What laundry facilities does the property have?  (coin, ensuite, none) none\n",
      "Does the property have a balcony?  (yes, no, solarium) no\n",
      "What is the selling price? 90.000$\n",
      "What are the estimated taxes? 7.000$\n"
     ]
    }
   ],
   "source": [
    "agent.add_property()"
   ]
  },
  {
   "cell_type": "code",
   "execution_count": 6,
   "metadata": {},
   "outputs": [
    {
     "name": "stdout",
     "output_type": "stream",
     "text": [
      "PROPERTY DETAILS\n",
      "================\n",
      "square footage: 800\n",
      "bedrooms: 3\n",
      "bathrooms: 2\n",
      "\n",
      "HOUSE DETAILS\n",
      "# of stories: 2\n",
      "garage: attached\n",
      "fenced yard: yes\n",
      "\n",
      "RENTAL DETAILS\n",
      "rent: 500\n",
      "estimated utilities: 12\n",
      "furnished: yes\n",
      "\n",
      "\n",
      "PROPERTY DETAILS\n",
      "================\n",
      "square footage: 700\n",
      "bedrooms: 2\n",
      "bathrooms: 2\n",
      "\n",
      "HOUSE DETAILS\n",
      "# of stories: 1\n",
      "garage: detached\n",
      "fenced yard: no\n",
      "\n",
      "PURCHASE DETAILS\n",
      "selling price: 160.000$\n",
      "estimated taxes: 10.000$\n",
      "\n",
      "\n",
      "PROPERTY DETAILS\n",
      "================\n",
      "square footage: 600\n",
      "bedrooms: 2\n",
      "bathrooms: 1\n",
      "\n",
      "APARTMENT DETAILS\n",
      "laundry: coin\n",
      "has balcony: no\n",
      "\n",
      "RENTAL DETAILS\n",
      "rent: 400$\n",
      "estimated utilities: 6\n",
      "furnished: yes\n",
      "\n",
      "\n",
      "PROPERTY DETAILS\n",
      "================\n",
      "square footage: 400\n",
      "bedrooms: 1\n",
      "bathrooms: 1\n",
      "\n",
      "APARTMENT DETAILS\n",
      "laundry: none\n",
      "has balcony: no\n",
      "\n",
      "PURCHASE DETAILS\n",
      "selling price: 90.000$\n",
      "estimated taxes: 7.000$\n",
      "\n",
      "\n"
     ]
    }
   ],
   "source": [
    "agent.display_properties()"
   ]
  },
  {
   "cell_type": "code",
   "execution_count": 2,
   "metadata": {},
   "outputs": [
    {
     "name": "stdout",
     "output_type": "stream",
     "text": [
      "What type of property?  (house, apartment) apartment\n",
      "What payment type?  (purchase, rental) rental\n",
      "Enter the square feet: 500\n",
      "Enter number of bedrooms: 3\n",
      "Enter number of baths: 1\n",
      "What laundry facilities does the property have?  (coin, ensuite, none) coin\n",
      "Does the property have a balcony?  (yes, no, solarium) yes\n",
      "What is the monthly rent? 300\n",
      "What are the estimated utilities? 3\n",
      "Is the property furnished?  (yes, no) yes\n"
     ]
    }
   ],
   "source": [
    "agent1 = Agent()\n",
    "agent1.add_property()"
   ]
  },
  {
   "cell_type": "code",
   "execution_count": null,
   "metadata": {},
   "outputs": [],
   "source": []
  }
 ],
 "metadata": {
  "kernelspec": {
   "display_name": "Python 3",
   "language": "python",
   "name": "python3"
  },
  "language_info": {
   "codemirror_mode": {
    "name": "ipython",
    "version": 3
   },
   "file_extension": ".py",
   "mimetype": "text/x-python",
   "name": "python",
   "nbconvert_exporter": "python",
   "pygments_lexer": "ipython3",
   "version": "3.7.3"
  }
 },
 "nbformat": 4,
 "nbformat_minor": 2
}
