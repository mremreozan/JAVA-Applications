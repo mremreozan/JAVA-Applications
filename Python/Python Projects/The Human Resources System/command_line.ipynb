{
 "cells": [
  {
   "cell_type": "code",
   "execution_count": 1,
   "metadata": {},
   "outputs": [],
   "source": [
    "from human_resources import *\n",
    "import json"
   ]
  },
  {
   "cell_type": "code",
   "execution_count": 2,
   "metadata": {},
   "outputs": [
    {
     "name": "stdout",
     "output_type": "stream",
     "text": [
      "Tracking Employee Productivity\n",
      "==============================\n",
      "Employee 9001 - Mary Poppins:\n",
      "- screams and yells for 40 hours.\n",
      "\n",
      "Employee 9002 - John Smith:\n",
      "- does paperwork for 40 hours.\n",
      "\n",
      "Employee 9003 - Kevin Bacon:\n",
      "- expends 40 hours on the phone.\n",
      "\n",
      "Employee 9004 - Jane Doe:\n",
      "- manufactures gadgets for 40 hours.\n",
      "\n",
      "Employee 9005 - Robin Williams:\n",
      "- does paperwork for 40 hours.\n",
      "\n",
      "Employee 9006 - Robin Williams:\n",
      "- does paperwork for 40 hours.\n",
      "\n",
      "\n",
      "Calculating Payroll\n",
      "===================\n",
      "Payroll for: 9001 - Mary Poppins\n",
      "- Check amount: 3000\n",
      "- Sent to:\n",
      "121 Admin Rd.\n",
      "Concord, NH 03301\n",
      "\n",
      "Payroll for: 9002 - John Smith\n",
      "- Check amount: 1500\n",
      "- Sent to:\n",
      "67 Paperwork Ave\n",
      "Manchester, NH 03101\n",
      "\n",
      "Payroll for: 9003 - Kevin Bacon\n",
      "- Check amount: 1800.0\n",
      "- Sent to:\n",
      "15 Rose St\n",
      "Apt. B-1\n",
      "Concord, NH 03301\n",
      "\n",
      "Payroll for: 9004 - Jane Doe\n",
      "- Check amount: 600\n",
      "- Sent to:\n",
      "39 Sole St.\n",
      "Concord, NH 03301\n",
      "\n",
      "Payroll for: 9005 - Robin Williams\n",
      "- Check amount: 720\n",
      "- Sent to:\n",
      "99 Mountain Rd.\n",
      "Concord, NH 03301\n",
      "\n",
      "Payroll for: 9006 - Robin Williams\n",
      "- Check amount: 720\n",
      "- Sent to:\n",
      "25 flower St\n",
      "Apt. C-1\n",
      "Brussels, Anderlecht 1070\n",
      "\n"
     ]
    }
   ],
   "source": [
    "productivity_system = ProductivitySystem()\n",
    "payroll_system = PayrollSystem()\n",
    "employee_database = EmployeeDatabase()\n",
    "employees = employee_database.employees\n",
    "\n",
    "productivity_system.track(employees, 40)\n",
    "payroll_system.calculate_payroll(employees)"
   ]
  },
  {
   "cell_type": "markdown",
   "metadata": {},
   "source": [
    "## I can change payroll policy of manager and secretary easily. "
   ]
  },
  {
   "cell_type": "code",
   "execution_count": 3,
   "metadata": {},
   "outputs": [
    {
     "name": "stdout",
     "output_type": "stream",
     "text": [
      "Tracking Employee Productivity\n",
      "==============================\n",
      "Employee 9001 - Mary Poppins:\n",
      "- screams and yells for 40 hours.\n",
      "\n",
      "Employee 9002 - John Smith:\n",
      "- does paperwork for 40 hours.\n",
      "\n",
      "\n",
      "Calculating Payroll\n",
      "===================\n",
      "Payroll for: 9001 - Mary Poppins\n",
      "- Check amount: 3000\n",
      "- Sent to:\n",
      "121 Admin Rd.\n",
      "Concord, NH 03301\n",
      "\n",
      "Payroll for: 9002 - John Smith\n",
      "- Check amount: 1500\n",
      "- Sent to:\n",
      "67 Paperwork Ave\n",
      "Manchester, NH 03101\n",
      "\n"
     ]
    }
   ],
   "source": [
    "manager = employees[0]\n",
    "secretary = employees[1]\n",
    "\n",
    "manager.payroll = HourlyPolicy(55)\n",
    "secretary.payroll = SalaryPolicy(3000)\n",
    "\n",
    "new_employees = [manager, secretary]\n",
    "\n",
    "productivity_system.track(new_employees, 40)\n",
    "payroll_system.calculate_payroll(new_employees)"
   ]
  },
  {
   "cell_type": "code",
   "execution_count": 4,
   "metadata": {},
   "outputs": [
    {
     "name": "stdout",
     "output_type": "stream",
     "text": [
      "{\n",
      "  \"id\": \"9001\",\n",
      "  \"name\": \"Mary Poppins\",\n",
      "  \"address\": {\n",
      "    \"street\": \"121 Admin Rd.\",\n",
      "    \"street2\": \"\",\n",
      "    \"city\": \"Concord\",\n",
      "    \"state\": \"NH\",\n",
      "    \"zipcode\": \"03301\"\n",
      "  }\n",
      "}\n",
      "{\n",
      "  \"id\": \"9002\",\n",
      "  \"name\": \"John Smith\",\n",
      "  \"address\": {\n",
      "    \"street\": \"67 Paperwork Ave\",\n",
      "    \"street2\": \"\",\n",
      "    \"city\": \"Manchester\",\n",
      "    \"state\": \"NH\",\n",
      "    \"zipcode\": \"03101\"\n",
      "  }\n",
      "}\n",
      "{\n",
      "  \"id\": \"9003\",\n",
      "  \"name\": \"Kevin Bacon\",\n",
      "  \"address\": {\n",
      "    \"street\": \"15 Rose St\",\n",
      "    \"street2\": \"Apt. B-1\",\n",
      "    \"city\": \"Concord\",\n",
      "    \"state\": \"NH\",\n",
      "    \"zipcode\": \"03301\"\n",
      "  }\n",
      "}\n",
      "{\n",
      "  \"id\": \"9004\",\n",
      "  \"name\": \"Jane Doe\",\n",
      "  \"address\": {\n",
      "    \"street\": \"39 Sole St.\",\n",
      "    \"street2\": \"\",\n",
      "    \"city\": \"Concord\",\n",
      "    \"state\": \"NH\",\n",
      "    \"zipcode\": \"03301\"\n",
      "  }\n",
      "}\n",
      "{\n",
      "  \"id\": \"9005\",\n",
      "  \"name\": \"Robin Williams\",\n",
      "  \"address\": {\n",
      "    \"street\": \"99 Mountain Rd.\",\n",
      "    \"street2\": \"\",\n",
      "    \"city\": \"Concord\",\n",
      "    \"state\": \"NH\",\n",
      "    \"zipcode\": \"03301\"\n",
      "  }\n",
      "}\n",
      "{\n",
      "  \"id\": \"9006\",\n",
      "  \"name\": \"Robin Williams\",\n",
      "  \"address\": {\n",
      "    \"street\": \"25 flower St\",\n",
      "    \"street2\": \"Apt. C-1\",\n",
      "    \"city\": \"Brussels\",\n",
      "    \"state\": \"Anderlecht\",\n",
      "    \"zipcode\": \"1070\"\n",
      "  }\n",
      "}\n"
     ]
    }
   ],
   "source": [
    "def print_dict(d):\n",
    "    print(json.dumps(d, indent=2))\n",
    "\n",
    "for employee in EmployeeDatabase().employees:\n",
    "    print_dict(employee.to_dict())"
   ]
  },
  {
   "cell_type": "code",
   "execution_count": 5,
   "metadata": {},
   "outputs": [
    {
     "ename": "TypeError",
     "evalue": "'Employee' object is not subscriptable",
     "output_type": "error",
     "traceback": [
      "\u001b[1;31m---------------------------------------------------------------------------\u001b[0m",
      "\u001b[1;31mTypeError\u001b[0m                                 Traceback (most recent call last)",
      "\u001b[1;32m<ipython-input-5-3a2181825760>\u001b[0m in \u001b[0;36m<module>\u001b[1;34m\u001b[0m\n\u001b[1;32m----> 1\u001b[1;33m \u001b[0memployee\u001b[0m\u001b[1;33m[\u001b[0m\u001b[1;36m0\u001b[0m\u001b[1;33m]\u001b[0m\u001b[1;33m.\u001b[0m\u001b[0m__dict__\u001b[0m\u001b[1;33m\u001b[0m\u001b[1;33m\u001b[0m\u001b[0m\n\u001b[0m",
      "\u001b[1;31mTypeError\u001b[0m: 'Employee' object is not subscriptable"
     ]
    }
   ],
   "source": [
    "employee[0].__dict__"
   ]
  },
  {
   "cell_type": "code",
   "execution_count": 4,
   "metadata": {},
   "outputs": [
    {
     "data": {
      "text/plain": [
       "<human_resources.employee.Employee at 0x2b759ccc8d0>"
      ]
     },
     "execution_count": 4,
     "metadata": {},
     "output_type": "execute_result"
    }
   ],
   "source": [
    "manager"
   ]
  },
  {
   "cell_type": "code",
   "execution_count": null,
   "metadata": {},
   "outputs": [],
   "source": [
    "manager.payrol"
   ]
  }
 ],
 "metadata": {
  "kernelspec": {
   "display_name": "Python 3",
   "language": "python",
   "name": "python3"
  },
  "language_info": {
   "codemirror_mode": {
    "name": "ipython",
    "version": 3
   },
   "file_extension": ".py",
   "mimetype": "text/x-python",
   "name": "python",
   "nbconvert_exporter": "python",
   "pygments_lexer": "ipython3",
   "version": "3.7.3"
  }
 },
 "nbformat": 4,
 "nbformat_minor": 2
}
