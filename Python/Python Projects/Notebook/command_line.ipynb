{
 "cells": [
  {
   "cell_type": "code",
   "execution_count": 1,
   "metadata": {},
   "outputs": [],
   "source": [
    "from notebook_package import Note, Notebook, Menu "
   ]
  },
  {
   "cell_type": "code",
   "execution_count": 2,
   "metadata": {},
   "outputs": [],
   "source": [
    "ntb = Notebook()\n",
    "ntb.new_note('hello third', 'third tag')\n",
    "ntb.new_note('hello fourth', 'fourth tag')"
   ]
  },
  {
   "cell_type": "code",
   "execution_count": 3,
   "metadata": {},
   "outputs": [
    {
     "name": "stdout",
     "output_type": "stream",
     "text": [
      "hello third\n",
      "third tag\n"
     ]
    }
   ],
   "source": [
    "print(ntb.notes[0].memo)\n",
    "print(ntb.notes[0].tags)"
   ]
  },
  {
   "cell_type": "code",
   "execution_count": 4,
   "metadata": {},
   "outputs": [],
   "source": [
    "ntb.new_note('hello fit', 'fit tag')\n",
    "ntb.new_note('hello sixth', 'sixth tag')"
   ]
  },
  {
   "cell_type": "code",
   "execution_count": 5,
   "metadata": {},
   "outputs": [
    {
     "data": {
      "text/plain": [
       "3"
      ]
     },
     "execution_count": 5,
     "metadata": {},
     "output_type": "execute_result"
    }
   ],
   "source": [
    "ntb.search('fit')[0].id"
   ]
  },
  {
   "cell_type": "code",
   "execution_count": 6,
   "metadata": {},
   "outputs": [
    {
     "name": "stdout",
     "output_type": "stream",
     "text": [
      "four\n"
     ]
    },
    {
     "data": {
      "text/plain": [
       "'hello fifth'"
      ]
     },
     "execution_count": 6,
     "metadata": {},
     "output_type": "execute_result"
    }
   ],
   "source": [
    "ntb.modify_memo(3, 'hello fifth')\n",
    "ntb._find_note(3).memo"
   ]
  },
  {
   "cell_type": "code",
   "execution_count": 7,
   "metadata": {},
   "outputs": [
    {
     "name": "stdout",
     "output_type": "stream",
     "text": [
      "three\n"
     ]
    },
    {
     "data": {
      "text/plain": [
       "'fifth tag'"
      ]
     },
     "execution_count": 7,
     "metadata": {},
     "output_type": "execute_result"
    }
   ],
   "source": [
    "ntb.modify_tags(3, 'fifth tag')\n",
    "ntb._find_note(3).tags"
   ]
  },
  {
   "cell_type": "code",
   "execution_count": 8,
   "metadata": {},
   "outputs": [
    {
     "name": "stdout",
     "output_type": "stream",
     "text": [
      "\n",
      "Notebook Menu\n",
      "1. Show all Notes\n",
      "2. Search Notes\n",
      "3. Add Note\n",
      "4. Modify Note\n",
      "5. Quit\n",
      "\n",
      "Enter an option: 3\n",
      "Enter a memo: sixth hello\n",
      "Enter tags: sixth tag\n",
      "Your note has been added.\n",
      "\n",
      "Notebook Menu\n",
      "1. Show all Notes\n",
      "2. Search Notes\n",
      "3. Add Note\n",
      "4. Modify Note\n",
      "5. Quit\n",
      "\n",
      "Enter an option: seventh hello\n",
      "seventh hello is not a valid choice\n",
      "\n",
      "Notebook Menu\n",
      "1. Show all Notes\n",
      "2. Search Notes\n",
      "3. Add Note\n",
      "4. Modify Note\n",
      "5. Quit\n",
      "\n",
      "Enter an option: seventh tag\n",
      "seventh tag is not a valid choice\n",
      "\n",
      "Notebook Menu\n",
      "1. Show all Notes\n",
      "2. Search Notes\n",
      "3. Add Note\n",
      "4. Modify Note\n",
      "5. Quit\n",
      "\n",
      "Enter an option: 1\n",
      "5: sixth tag\n",
      "sixth hello\n",
      "\n",
      "Notebook Menu\n",
      "1. Show all Notes\n",
      "2. Search Notes\n",
      "3. Add Note\n",
      "4. Modify Note\n",
      "5. Quit\n",
      "\n",
      "Enter an option: 1\n",
      "5: sixth tag\n",
      "sixth hello\n",
      "\n",
      "Notebook Menu\n",
      "1. Show all Notes\n",
      "2. Search Notes\n",
      "3. Add Note\n",
      "4. Modify Note\n",
      "5. Quit\n",
      "\n",
      "Enter an option: 3\n",
      "Enter a memo: seventh hello\n",
      "Enter tags: seventh tag\n",
      "Your note has been added.\n",
      "\n",
      "Notebook Menu\n",
      "1. Show all Notes\n",
      "2. Search Notes\n",
      "3. Add Note\n",
      "4. Modify Note\n",
      "5. Quit\n",
      "\n",
      "Enter an option: 1\n",
      "5: sixth tag\n",
      "sixth hello\n",
      "6: seventh tag\n",
      "seventh hello\n",
      "\n",
      "Notebook Menu\n",
      "1. Show all Notes\n",
      "2. Search Notes\n",
      "3. Add Note\n",
      "4. Modify Note\n",
      "5. Quit\n",
      "\n",
      "Enter an option: 4\n",
      "Enter a note id: 5\n",
      "seven\n",
      "Enter a memo: eight hello\n",
      "eight\n",
      "Enter tags: eight tag\n",
      "five\n",
      "one\n",
      "six\n",
      "two\n",
      "\n",
      "Notebook Menu\n",
      "1. Show all Notes\n",
      "2. Search Notes\n",
      "3. Add Note\n",
      "4. Modify Note\n",
      "5. Quit\n",
      "\n",
      "Enter an option: 5\n",
      "Thank you for using your notebook today.\n"
     ]
    },
    {
     "ename": "SystemExit",
     "evalue": "0",
     "output_type": "error",
     "traceback": [
      "An exception has occurred, use %tb to see the full traceback.\n",
      "\u001b[1;31mSystemExit\u001b[0m\u001b[1;31m:\u001b[0m 0\n"
     ]
    },
    {
     "name": "stderr",
     "output_type": "stream",
     "text": [
      "C:\\Anaconda3\\lib\\site-packages\\IPython\\core\\interactiveshell.py:3333: UserWarning: To exit: use 'exit', 'quit', or Ctrl-D.\n",
      "  warn(\"To exit: use 'exit', 'quit', or Ctrl-D.\", stacklevel=1)\n"
     ]
    }
   ],
   "source": [
    "memory = Menu()\n",
    "memory.run()"
   ]
  },
  {
   "cell_type": "code",
   "execution_count": 11,
   "metadata": {},
   "outputs": [
    {
     "data": {
      "text/plain": [
       "'sixth hello'"
      ]
     },
     "execution_count": 11,
     "metadata": {},
     "output_type": "execute_result"
    }
   ],
   "source": [
    "memory.notebook._find_note(5).memo"
   ]
  },
  {
   "cell_type": "code",
   "execution_count": 12,
   "metadata": {},
   "outputs": [
    {
     "name": "stdout",
     "output_type": "stream",
     "text": [
      "four\n"
     ]
    },
    {
     "data": {
      "text/plain": [
       "'nineth hello'"
      ]
     },
     "execution_count": 12,
     "metadata": {},
     "output_type": "execute_result"
    }
   ],
   "source": [
    "memory.notebook.modify_memo(5, 'nineth hello')\n",
    "memory.notebook._find_note(5).memo"
   ]
  },
  {
   "cell_type": "code",
   "execution_count": 13,
   "metadata": {},
   "outputs": [
    {
     "name": "stdout",
     "output_type": "stream",
     "text": [
      "three\n"
     ]
    },
    {
     "data": {
      "text/plain": [
       "'nineth tags'"
      ]
     },
     "execution_count": 13,
     "metadata": {},
     "output_type": "execute_result"
    }
   ],
   "source": [
    "memory.notebook.modify_tags(5, 'nineth tags')\n",
    "memory.notebook._find_note(5).tags"
   ]
  },
  {
   "cell_type": "code",
   "execution_count": 14,
   "metadata": {},
   "outputs": [
    {
     "name": "stdout",
     "output_type": "stream",
     "text": [
      "5: nineth tags\n",
      "nineth hello\n",
      "6: seventh tag\n",
      "seventh hello\n"
     ]
    }
   ],
   "source": [
    "memory.show_notes()"
   ]
  },
  {
   "cell_type": "code",
   "execution_count": null,
   "metadata": {},
   "outputs": [],
   "source": []
  }
 ],
 "metadata": {
  "kernelspec": {
   "display_name": "Python 3",
   "language": "python",
   "name": "python3"
  },
  "language_info": {
   "codemirror_mode": {
    "name": "ipython",
    "version": 3
   },
   "file_extension": ".py",
   "mimetype": "text/x-python",
   "name": "python",
   "nbconvert_exporter": "python",
   "pygments_lexer": "ipython3",
   "version": "3.7.3"
  }
 },
 "nbformat": 4,
 "nbformat_minor": 2
}
