{
 "cells": [
  {
   "cell_type": "code",
   "execution_count": 36,
   "metadata": {},
   "outputs": [],
   "source": [
    "class Node:\n",
    "    def __init__(self, data):\n",
    "        self.item = data\n",
    "        self.nref = None     # next node\n",
    "        self.pref = None     # previous node"
   ]
  },
  {
   "cell_type": "code",
   "execution_count": 37,
   "metadata": {},
   "outputs": [],
   "source": [
    "class DoublyLinkedList:\n",
    "    def __init__(self):\n",
    "        self.start_node = None\n",
    "        \n",
    "    def insert_in_emptylist(self, data):\n",
    "        if self.start_node is None:\n",
    "            new_node = Node(data)\n",
    "            self.start_node = new_node\n",
    "        else:\n",
    "            print(\"list is not empty\")\n",
    "    \n",
    "    def insert_at_start(self, data):\n",
    "        if self.start_node is None:\n",
    "            new_node = Node(data)\n",
    "            self.start_node = new_node\n",
    "            print(\"node inserted\")\n",
    "            return\n",
    "        new_node = Node(data)\n",
    "        new_node.nref = self.start_node\n",
    "        self.start_node.pref = new_node\n",
    "        self.start_node = new_node\n",
    "    \n",
    "    def insert_at_end(self, data):\n",
    "        if self.start_node is None:\n",
    "            new_node = Node(data)\n",
    "            self.start_node = new_node\n",
    "            return\n",
    "        n = self.start_node\n",
    "        while n.nref is not None:\n",
    "            n = n.nref\n",
    "        new_node = Node(data)\n",
    "        n.nref = new_node\n",
    "        new_node.pref = n\n",
    "\n",
    "    def insert_after_item(self, x, data):\n",
    "        if self.start_node is None:\n",
    "            print(\"List is empty\")\n",
    "            return\n",
    "        else:\n",
    "            n = self.start_node\n",
    "            while n is not None:\n",
    "                if n.item == x:\n",
    "                    break\n",
    "                n = n.nref\n",
    "            if n is None:\n",
    "                print(\"item not in the list\")\n",
    "            else:\n",
    "                new_node = Node(data)\n",
    "                new_node.pref = n\n",
    "                new_node.nref = n.nref\n",
    "                if n.nref is not None:\n",
    "                    n.nref.prev = new_node\n",
    "                n.nref = new_node\n",
    "\n",
    "    def insert_before_item(self, x, data):\n",
    "        if self.start_node is None:\n",
    "            print(\"List is empty\")\n",
    "            return\n",
    "        else:\n",
    "            n = self.start_node\n",
    "            while n is not None:\n",
    "                if n.item == x:\n",
    "                    break\n",
    "                n = n.nref\n",
    "            if n is None:\n",
    "                print(\"item not in the list\")\n",
    "            else:\n",
    "                new_node = Node(data)\n",
    "                new_node.nref = n\n",
    "                new_node.pref = n.pref\n",
    "                if n.pref is not None:\n",
    "                    n.pref.nref = new_node\n",
    "                n.pref = new_node\n",
    "                \n",
    "    def traverse_list(self):\n",
    "        if self.start_node is None:\n",
    "            print(\"List has no element\")\n",
    "            return\n",
    "        else:\n",
    "            n = self.start_node\n",
    "            while n is not None:\n",
    "                print(n.item , \" \")\n",
    "                n = n.nref\n",
    "                \n",
    "    def delete_at_start(self):\n",
    "        if self.start_node is None:\n",
    "            print(\"The list has no element to delete\")\n",
    "            return \n",
    "        if self.start_node.nref is None:\n",
    "            self.start_node = None\n",
    "            return\n",
    "        self.start_node = self.start_node.nref\n",
    "        self.start_prev = None;\n",
    "\n",
    "    def delete_at_end(self):\n",
    "        if self.start_node is None:\n",
    "            print(\"The list has no element to delete\")\n",
    "            return \n",
    "        if self.start_node.nref is None:\n",
    "            self.start_node = None\n",
    "            return\n",
    "        n = self.start_node\n",
    "        while n.nref is not None:\n",
    "            n = n.nref\n",
    "        n.pref.nref = None\n",
    "\n",
    "    def delete_element_by_value(self, x):\n",
    "        if self.start_node is None:\n",
    "            print(\"The list has no element to delete\")\n",
    "            return \n",
    "        if self.start_node.nref is None:\n",
    "            if self.start_node.item == x:\n",
    "                self.start_node = None\n",
    "            else:\n",
    "                print(\"Item not found\")\n",
    "            return \n",
    "\n",
    "        if self.start_node.item == x:\n",
    "            self.start_node = self.start_node.nref\n",
    "            self.start_node.pref = None\n",
    "            return\n",
    "\n",
    "        n = self.start_node\n",
    "        while n.nref is not None:\n",
    "            if n.item == x:\n",
    "                break;\n",
    "            n = n.nref\n",
    "        if n.nref is not None:\n",
    "            n.pref.nref = n.nref\n",
    "            n.nref.pref = n.pref\n",
    "        else:\n",
    "            if n.item == x:\n",
    "                n.pref.nref = None\n",
    "            else:\n",
    "                print(\"Element not found\")\n",
    "            \n",
    "    def reverse_linked_list(self):\n",
    "        if self.start_node is None:\n",
    "            print(\"The list has no element to delete\")\n",
    "            return \n",
    "        p = self.start_node\n",
    "        q = p.nref\n",
    "        p.nref = None\n",
    "        p.pref = q\n",
    "        while q is not None:\n",
    "            q.pref = q.nref\n",
    "            q.nref = p\n",
    "            p = q\n",
    "            q = q.pref\n",
    "        self.start_node = p"
   ]
  },
  {
   "cell_type": "code",
   "execution_count": 38,
   "metadata": {},
   "outputs": [],
   "source": [
    "new_linked_list = DoublyLinkedList()"
   ]
  },
  {
   "cell_type": "code",
   "execution_count": 39,
   "metadata": {},
   "outputs": [],
   "source": [
    "new_linked_list.insert_in_emptylist(50)"
   ]
  },
  {
   "cell_type": "code",
   "execution_count": 40,
   "metadata": {},
   "outputs": [
    {
     "name": "stdout",
     "output_type": "stream",
     "text": [
      "50  \n"
     ]
    }
   ],
   "source": [
    "new_linked_list.traverse_list()"
   ]
  },
  {
   "cell_type": "code",
   "execution_count": 41,
   "metadata": {},
   "outputs": [],
   "source": [
    "new_linked_list.insert_at_start(10)\n",
    "new_linked_list.insert_at_start(5)\n",
    "new_linked_list.insert_at_start(18)"
   ]
  },
  {
   "cell_type": "code",
   "execution_count": 42,
   "metadata": {},
   "outputs": [
    {
     "name": "stdout",
     "output_type": "stream",
     "text": [
      "18  \n",
      "5  \n",
      "10  \n",
      "50  \n"
     ]
    }
   ],
   "source": [
    "new_linked_list.traverse_list()"
   ]
  },
  {
   "cell_type": "code",
   "execution_count": 43,
   "metadata": {},
   "outputs": [],
   "source": [
    "new_linked_list.insert_at_end(29)\n",
    "new_linked_list.insert_at_end(39)\n",
    "new_linked_list.insert_at_end(49)"
   ]
  },
  {
   "cell_type": "code",
   "execution_count": 44,
   "metadata": {},
   "outputs": [
    {
     "name": "stdout",
     "output_type": "stream",
     "text": [
      "18  \n",
      "5  \n",
      "10  \n",
      "50  \n",
      "29  \n",
      "39  \n",
      "49  \n"
     ]
    }
   ],
   "source": [
    "new_linked_list.traverse_list()"
   ]
  },
  {
   "cell_type": "code",
   "execution_count": 45,
   "metadata": {},
   "outputs": [],
   "source": [
    "new_linked_list.insert_after_item(50, 65)"
   ]
  },
  {
   "cell_type": "code",
   "execution_count": 46,
   "metadata": {},
   "outputs": [
    {
     "name": "stdout",
     "output_type": "stream",
     "text": [
      "18  \n",
      "5  \n",
      "10  \n",
      "50  \n",
      "65  \n",
      "29  \n",
      "39  \n",
      "49  \n"
     ]
    }
   ],
   "source": [
    "new_linked_list.traverse_list()"
   ]
  },
  {
   "cell_type": "code",
   "execution_count": 47,
   "metadata": {},
   "outputs": [],
   "source": [
    "new_linked_list.insert_before_item(29, 100)"
   ]
  },
  {
   "cell_type": "code",
   "execution_count": 48,
   "metadata": {},
   "outputs": [
    {
     "name": "stdout",
     "output_type": "stream",
     "text": [
      "18  \n",
      "5  \n",
      "10  \n",
      "50  \n",
      "100  \n",
      "29  \n",
      "39  \n",
      "49  \n"
     ]
    }
   ],
   "source": [
    "new_linked_list.traverse_list()"
   ]
  },
  {
   "cell_type": "code",
   "execution_count": 49,
   "metadata": {},
   "outputs": [],
   "source": [
    "new_linked_list.delete_at_end()"
   ]
  },
  {
   "cell_type": "code",
   "execution_count": 50,
   "metadata": {},
   "outputs": [
    {
     "name": "stdout",
     "output_type": "stream",
     "text": [
      "18  \n",
      "5  \n",
      "10  \n",
      "50  \n",
      "100  \n",
      "29  \n",
      "39  \n"
     ]
    }
   ],
   "source": [
    "new_linked_list.traverse_list()"
   ]
  },
  {
   "cell_type": "code",
   "execution_count": 51,
   "metadata": {},
   "outputs": [],
   "source": [
    "new_linked_list.delete_element_by_value(29)"
   ]
  },
  {
   "cell_type": "code",
   "execution_count": 52,
   "metadata": {},
   "outputs": [
    {
     "name": "stdout",
     "output_type": "stream",
     "text": [
      "18  \n",
      "5  \n",
      "10  \n",
      "50  \n",
      "100  \n",
      "39  \n"
     ]
    }
   ],
   "source": [
    "new_linked_list.traverse_list()"
   ]
  },
  {
   "cell_type": "code",
   "execution_count": 53,
   "metadata": {},
   "outputs": [],
   "source": [
    "new_linked_list.reverse_linked_list()"
   ]
  },
  {
   "cell_type": "code",
   "execution_count": 54,
   "metadata": {},
   "outputs": [
    {
     "name": "stdout",
     "output_type": "stream",
     "text": [
      "39  \n",
      "100  \n",
      "50  \n",
      "10  \n",
      "5  \n",
      "18  \n"
     ]
    }
   ],
   "source": [
    "new_linked_list.traverse_list()"
   ]
  },
  {
   "cell_type": "code",
   "execution_count": null,
   "metadata": {},
   "outputs": [],
   "source": []
  }
 ],
 "metadata": {
  "kernelspec": {
   "display_name": "Python 3",
   "language": "python",
   "name": "python3"
  },
  "language_info": {
   "codemirror_mode": {
    "name": "ipython",
    "version": 3
   },
   "file_extension": ".py",
   "mimetype": "text/x-python",
   "name": "python",
   "nbconvert_exporter": "python",
   "pygments_lexer": "ipython3",
   "version": "3.7.3"
  }
 },
 "nbformat": 4,
 "nbformat_minor": 2
}
