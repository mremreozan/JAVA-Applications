{
 "cells": [
  {
   "cell_type": "code",
   "execution_count": 3,
   "metadata": {},
   "outputs": [
    {
     "name": "stdout",
     "output_type": "stream",
     "text": [
      "5\n",
      "32 42 45 34 32\n",
      "2\n",
      "32 50\n",
      "45 100\n",
      "ouput: 150\n"
     ]
    }
   ],
   "source": [
    "from collections import Counter\n",
    "\n",
    "if __name__ == '__main__':\n",
    "    n = int(input())\n",
    "    s = Counter(map(int,input().split()))\n",
    "    x = int(input())\n",
    "    total = []\n",
    "    for i in range(x):\n",
    "        a,b = map(int,input().split())\n",
    "        if s[a] > 0:\n",
    "            total.append(b)\n",
    "            s.subtract(Counter([a]))\n",
    "        else:\n",
    "            pass\n",
    "\n",
    "    print ('ouput:', sum(total))"
   ]
  },
  {
   "cell_type": "code",
   "execution_count": 15,
   "metadata": {},
   "outputs": [
    {
     "name": "stdout",
     "output_type": "stream",
     "text": [
      "2\n",
      "id MARKS cal name\n",
      "2 3 emre pzan7\n",
      "3 4 sumeyye ozan\n",
      "3.50\n"
     ]
    }
   ],
   "source": [
    "from collections import namedtuple\n",
    "\n",
    "n = int(input())\n",
    "categories = input().split()\n",
    "student = namedtuple('student', categories)\n",
    "\n",
    "students = [student(*input().split()) for _ in range(n)]\n",
    "\n",
    "print('%.2f' % (sum([int(stu.MARKS) for stu in students])/n))"
   ]
  },
  {
   "cell_type": "code",
   "execution_count": 5,
   "metadata": {},
   "outputs": [
    {
     "name": "stdout",
     "output_type": "stream",
     "text": [
      "1 2\n",
      "3 4\n",
      "(1, 3) (1, 4) (2, 3) (2, 4)\n",
      "[(1, 3), (1, 4), (2, 3), (2, 4)]\n"
     ]
    }
   ],
   "source": [
    "from itertools import product\n",
    "\n",
    "if __name__ == '__main__':\n",
    "    n = [int(i) for i in input().split()]   # first style for list\n",
    "    m = list(map(int,input().split()))      # second style for list\n",
    "\n",
    "    print(*product(n, m))         # direct results\n",
    "\n",
    "    print(list(product(n, m)))    # as a list"
   ]
  },
  {
   "cell_type": "markdown",
   "metadata": {},
   "source": [
    "## "
   ]
  }
 ],
 "metadata": {
  "kernelspec": {
   "display_name": "Python 3",
   "language": "python",
   "name": "python3"
  },
  "language_info": {
   "codemirror_mode": {
    "name": "ipython",
    "version": 3
   },
   "file_extension": ".py",
   "mimetype": "text/x-python",
   "name": "python",
   "nbconvert_exporter": "python",
   "pygments_lexer": "ipython3",
   "version": "3.7.3"
  }
 },
 "nbformat": 4,
 "nbformat_minor": 2
}
