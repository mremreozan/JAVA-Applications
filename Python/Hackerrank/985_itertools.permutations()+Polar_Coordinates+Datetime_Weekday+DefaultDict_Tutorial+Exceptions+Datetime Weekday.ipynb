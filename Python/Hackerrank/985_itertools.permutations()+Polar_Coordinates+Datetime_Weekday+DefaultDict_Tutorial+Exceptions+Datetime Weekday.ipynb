{
 "cells": [
  {
   "cell_type": "markdown",
   "metadata": {},
   "source": [
    "### itertools.permutations()"
   ]
  },
  {
   "cell_type": "code",
   "execution_count": 2,
   "metadata": {},
   "outputs": [
    {
     "name": "stdout",
     "output_type": "stream",
     "text": [
      "HACK 2\n",
      "AC\n",
      "AH\n",
      "AK\n",
      "CA\n",
      "CH\n",
      "CK\n",
      "HA\n",
      "HC\n",
      "HK\n",
      "KA\n",
      "KC\n",
      "KH\n"
     ]
    }
   ],
   "source": [
    "from itertools import permutations\n",
    "\n",
    "S,k=(input().split())\n",
    "k=int(k)\n",
    "a = list(permutations(sorted(S), k))\n",
    "\n",
    "for i in a:\n",
    "    print(\"\".join(i))"
   ]
  },
  {
   "cell_type": "markdown",
   "metadata": {},
   "source": [
    "### Polar Coordinates"
   ]
  },
  {
   "cell_type": "code",
   "execution_count": 8,
   "metadata": {},
   "outputs": [
    {
     "name": "stdout",
     "output_type": "stream",
     "text": [
      "-1-1j\n",
      "1.4142135623730951\n",
      "-2.356194490192345\n"
     ]
    }
   ],
   "source": [
    "from cmath import phase\n",
    "\n",
    "z= complex(input())\n",
    "\n",
    "r=abs (z)\n",
    "p=phase(z) \n",
    "print(r, p, sep='\\n')"
   ]
  },
  {
   "cell_type": "markdown",
   "metadata": {},
   "source": [
    "### DefaultDict Tutorial"
   ]
  },
  {
   "cell_type": "code",
   "execution_count": 1,
   "metadata": {},
   "outputs": [
    {
     "name": "stdout",
     "output_type": "stream",
     "text": [
      "5 2\n",
      "a\n",
      "a\n",
      "b\n",
      "b\n",
      "a\n",
      "a\n",
      "a\n",
      "1 2 5\n",
      "1 2 5\n"
     ]
    }
   ],
   "source": [
    "from collections import defaultdict\n",
    "d = defaultdict(list)\n",
    "list1=[]\n",
    "\n",
    "n, m = map(int, input().split())\n",
    "\n",
    "for i in range(0,n):\n",
    "    d[input()].append(i+1) \n",
    "\n",
    "for i in range(0,m):\n",
    "    list1=list1+[input()]  \n",
    "\n",
    "for i in list1: \n",
    "    if i in d:\n",
    "        print (\" \".join( map(str,d[i]) ))\n",
    "    else:\n",
    "        print (-1)"
   ]
  },
  {
   "cell_type": "markdown",
   "metadata": {},
   "source": [
    "### Exceptions"
   ]
  },
  {
   "cell_type": "code",
   "execution_count": 18,
   "metadata": {},
   "outputs": [
    {
     "name": "stdout",
     "output_type": "stream",
     "text": [
      "2\n",
      "3 0\n",
      "3 f\n",
      "Error Code: integer division or modulo by zero\n",
      "Error Code: invalid literal for int() with base 10: 'f'\n"
     ]
    }
   ],
   "source": [
    "T=int(input())\n",
    "lists=[]\n",
    "\n",
    "for i in range(T):\n",
    "    a = input()\n",
    "    lists.append(a)\n",
    "\n",
    "for i in range(T):\n",
    "    try:\n",
    "        a, b = map(int, lists[i].split())\n",
    "        print(a//b)\n",
    "    \n",
    "    except ValueError as e:\n",
    "        print('Error Code:', e)\n",
    "    except ZeroDivisionError as e:\n",
    "        print('Error Code:', e)"
   ]
  },
  {
   "cell_type": "markdown",
   "metadata": {},
   "source": [
    "### Datetime Weekday"
   ]
  },
  {
   "cell_type": "code",
   "execution_count": 30,
   "metadata": {
    "scrolled": true
   },
   "outputs": [
    {
     "name": "stdout",
     "output_type": "stream",
     "text": [
      "02 04 2021\n",
      "THURSDAY\n"
     ]
    }
   ],
   "source": [
    "from datetime import datetime\n",
    "\n",
    "dat = input()\n",
    "fmt = '%m %d %Y'\n",
    "dat = datetime.strptime(dat, fmt)\n",
    "day_name= ['MONDAY', 'TUESDAY', 'WEDNESDAY', 'THURSDAY', 'FRIDAY', 'SATURDAY', 'SUNDAY']\n",
    "day = dat.weekday()\n",
    "print(day_name[day])"
   ]
  },
  {
   "cell_type": "code",
   "execution_count": null,
   "metadata": {},
   "outputs": [],
   "source": []
  }
 ],
 "metadata": {
  "kernelspec": {
   "display_name": "Python 3",
   "language": "python",
   "name": "python3"
  },
  "language_info": {
   "codemirror_mode": {
    "name": "ipython",
    "version": 3
   },
   "file_extension": ".py",
   "mimetype": "text/x-python",
   "name": "python",
   "nbconvert_exporter": "python",
   "pygments_lexer": "ipython3",
   "version": "3.7.3"
  }
 },
 "nbformat": 4,
 "nbformat_minor": 2
}
