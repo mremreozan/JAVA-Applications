{
 "cells": [
  {
   "cell_type": "markdown",
   "metadata": {},
   "source": [
    "### itertools.permutations()"
   ]
  },
  {
   "cell_type": "code",
   "execution_count": null,
   "metadata": {},
   "outputs": [],
   "source": [
    "S,k=(input().split())\n",
    "k=int(k)\n",
    "a = list(permutations(sorted(S), k))\n",
    "\n",
    "for i in a:\n",
    "    print(\"\".join(i))"
   ]
  },
  {
   "cell_type": "markdown",
   "metadata": {},
   "source": [
    "### Polar Coordinates"
   ]
  },
  {
   "cell_type": "code",
   "execution_count": null,
   "metadata": {},
   "outputs": [],
   "source": [
    "from cmath import phase\n",
    "\n",
    "c= input()\n",
    "\n",
    "try:\n",
    "    a, b=c.split('+')\n",
    "except:\n",
    "    a, b=c.split('-')\n",
    "\n",
    "a = int(a)\n",
    "b,c = b.split('j')\n",
    "b= int(b)\n",
    "r=abs (complex(a, b))\n",
    "p=phase(complex(a,b)) \n",
    "print(r)\n",
    "print(p)"
   ]
  },
  {
   "cell_type": "code",
   "execution_count": null,
   "metadata": {},
   "outputs": [],
   "source": []
  }
 ],
 "metadata": {
  "kernelspec": {
   "display_name": "Python 3",
   "language": "python",
   "name": "python3"
  },
  "language_info": {
   "codemirror_mode": {
    "name": "ipython",
    "version": 3
   },
   "file_extension": ".py",
   "mimetype": "text/x-python",
   "name": "python",
   "nbconvert_exporter": "python",
   "pygments_lexer": "ipython3",
   "version": "3.7.3"
  }
 },
 "nbformat": 4,
 "nbformat_minor": 2
}
