{
 "cells": [
  {
   "cell_type": "code",
   "execution_count": 4,
   "metadata": {},
   "outputs": [],
   "source": [
    "from datetime import datetime \n",
    "\n",
    "class greeter:\n",
    "    def __init__(self, name):\n",
    "        self.name = name\n",
    "\n",
    "    def _day(self):\n",
    "        return datetime.now().strftime('%A')\n",
    "    \n",
    "    def _part_of_day(self):\n",
    "        current_hour = datetime.now().hour\n",
    "        \n",
    "        if current_hour < 12:\n",
    "            return 'morning'\n",
    "        elif current_hour > 12 and current_hour < 18:\n",
    "            return 'afternoon'\n",
    "        else:\n",
    "            return 'evening'\n",
    "    \n",
    "    def greet(self, store):\n",
    "        print(f'Hello, {self.name} and welcome to {store}!')\n",
    "        print(f'how is your {self._day()} {self._part_of_day()} going?')            "
   ]
  },
  {
   "cell_type": "code",
   "execution_count": 5,
   "metadata": {},
   "outputs": [
    {
     "name": "stdout",
     "output_type": "stream",
     "text": [
      "Hello, emre and welcome to LC Waikiki!\n",
      "how is your Thursday morning going?\n"
     ]
    }
   ],
   "source": [
    "exp = greeter('emre')\n",
    "exp.greet('LC Waikiki')"
   ]
  },
  {
   "cell_type": "markdown",
   "metadata": {},
   "source": [
    "## Functional Proggramming"
   ]
  },
  {
   "cell_type": "code",
   "execution_count": 7,
   "metadata": {},
   "outputs": [
    {
     "name": "stdout",
     "output_type": "stream",
     "text": [
      "1\n",
      "4\n",
      "9\n",
      "16\n",
      "25\n"
     ]
    }
   ],
   "source": [
    "# Python for loop\n",
    "numbers = [1, 2, 3, 4, 5]\n",
    "for i in numbers:\n",
    "    print(i * i)\n",
    "\n",
    "\n",
    "# Functional style\n",
    "from functools import reduce\n",
    "\n",
    "squares = map(lambda x: x * x, [1, 2, 3, 4, 5])\n",
    "should = reduce(lambda x, y: x and y, [True, True, False])\n",
    "evens = filter(lambda x: x % 2 == 0, [1, 2, 3, 4, 5])\n",
    "\n",
    "\n",
    "# List comprehension style\n",
    "squares = [x * x for x in [1, 2, 3, 4, 5]]\n",
    "should = all([True, True, False])\n",
    "evens = [x for x in [1, 2, 3, 4, 5] if x % 2 == 0]"
   ]
  },
  {
   "cell_type": "code",
   "execution_count": 8,
   "metadata": {},
   "outputs": [
    {
     "name": "stdout",
     "output_type": "stream",
     "text": [
      "16\n",
      "27\n"
     ]
    }
   ],
   "source": [
    "# Partial functions\n",
    "from functools import partial\n",
    "\n",
    "\n",
    "def pow(x, power=1):\n",
    "    return x ** power\n",
    "\n",
    "\n",
    "square = partial(pow, power=2)  # <1>\n",
    "cube = partial(pow, power=3)  # <2>\n",
    "print(square(4))\n",
    "print(cube(3))\n"
   ]
  },
  {
   "cell_type": "markdown",
   "metadata": {},
   "source": [
    "## Declarative Proggramming"
   ]
  },
  {
   "cell_type": "code",
   "execution_count": 9,
   "metadata": {},
   "outputs": [
    {
     "ename": "AttributeError",
     "evalue": "'Scatter' object has no attribute 'set_x_data'",
     "output_type": "error",
     "traceback": [
      "\u001b[1;31m---------------------------------------------------------------------------\u001b[0m",
      "\u001b[1;31mAttributeError\u001b[0m                            Traceback (most recent call last)",
      "\u001b[1;32m<ipython-input-9-c5b8930f2fce>\u001b[0m in \u001b[0;36m<module>\u001b[1;34m\u001b[0m\n\u001b[0;32m     14\u001b[0m \u001b[1;31m# Defining a scatterplot in a procedural style\u001b[0m\u001b[1;33m\u001b[0m\u001b[1;33m\u001b[0m\u001b[1;33m\u001b[0m\u001b[0m\n\u001b[0;32m     15\u001b[0m \u001b[0mtrace1\u001b[0m \u001b[1;33m=\u001b[0m \u001b[0mgo\u001b[0m\u001b[1;33m.\u001b[0m\u001b[0mScatter\u001b[0m\u001b[1;33m(\u001b[0m\u001b[1;33m)\u001b[0m\u001b[1;33m\u001b[0m\u001b[1;33m\u001b[0m\u001b[0m\n\u001b[1;32m---> 16\u001b[1;33m \u001b[0mtrace1\u001b[0m\u001b[1;33m.\u001b[0m\u001b[0mset_x_data\u001b[0m\u001b[1;33m(\u001b[0m\u001b[1;33m[\u001b[0m\u001b[1;36m1\u001b[0m\u001b[1;33m,\u001b[0m \u001b[1;36m2\u001b[0m\u001b[1;33m,\u001b[0m \u001b[1;36m3\u001b[0m\u001b[1;33m]\u001b[0m\u001b[1;33m)\u001b[0m  \u001b[1;31m# <1>\u001b[0m\u001b[1;33m\u001b[0m\u001b[1;33m\u001b[0m\u001b[0m\n\u001b[0m\u001b[0;32m     17\u001b[0m \u001b[0mtrace1\u001b[0m\u001b[1;33m.\u001b[0m\u001b[0mset_y_data\u001b[0m\u001b[1;33m(\u001b[0m\u001b[1;33m[\u001b[0m\u001b[1;36m4\u001b[0m\u001b[1;33m,\u001b[0m \u001b[1;36m5\u001b[0m\u001b[1;33m,\u001b[0m \u001b[1;36m6\u001b[0m\u001b[1;33m]\u001b[0m\u001b[1;33m)\u001b[0m\u001b[1;33m\u001b[0m\u001b[1;33m\u001b[0m\u001b[0m\n\u001b[0;32m     18\u001b[0m \u001b[0mtrace1\u001b[0m\u001b[1;33m.\u001b[0m\u001b[0mset_marker_config\u001b[0m\u001b[1;33m(\u001b[0m\u001b[1;33m{\u001b[0m\u001b[1;34m'color'\u001b[0m\u001b[1;33m:\u001b[0m \u001b[1;34m'red'\u001b[0m\u001b[1;33m,\u001b[0m \u001b[1;34m'symbol'\u001b[0m\u001b[1;33m:\u001b[0m \u001b[1;36m104\u001b[0m\u001b[1;33m,\u001b[0m \u001b[1;34m'size'\u001b[0m\u001b[1;33m:\u001b[0m \u001b[1;34m'10'\u001b[0m\u001b[1;33m}\u001b[0m\u001b[1;33m)\u001b[0m\u001b[1;33m\u001b[0m\u001b[1;33m\u001b[0m\u001b[0m\n",
      "\u001b[1;31mAttributeError\u001b[0m: 'Scatter' object has no attribute 'set_x_data'"
     ]
    }
   ],
   "source": [
    "# Defining a scatterplot in a declarative style\n",
    "import plotly.graph_objects as go\n",
    "\n",
    "trace1 = go.Scatter(  # <1>\n",
    "    x=[1, 2, 3],  # <2>\n",
    "    y=[4, 5, 6],  # <3>\n",
    "    marker={'color': 'red', 'symbol': 104},  # <4>\n",
    "    mode='markers+lines',  # <5>\n",
    "    text=['one', 'two', 'three'],  # <6>\n",
    "    name='1st Trace',\n",
    ")\n",
    "\n",
    "\n",
    "# Defining a scatterplot in a procedural style\n",
    "trace1 = go.Scatter()\n",
    "trace1.set_x_data([1, 2, 3])  # <1>\n",
    "trace1.set_y_data([4, 5, 6])\n",
    "trace1.set_marker_config({'color': 'red', 'symbol': 104, 'size': '10'})\n",
    "trace1.set_mode('markers+lines')"
   ]
  },
  {
   "cell_type": "markdown",
   "metadata": {},
   "source": [
    "## Composition"
   ]
  },
  {
   "cell_type": "code",
   "execution_count": 10,
   "metadata": {},
   "outputs": [
    {
     "name": "stdout",
     "output_type": "stream",
     "text": [
      "The dog says, \"Hello!\"\n",
      "Did a barrel roll!\n"
     ]
    }
   ],
   "source": [
    "# Creating a composable mixin\n",
    "class SpeakMixin:  # <1>\n",
    "    def speak(self):\n",
    "        name = self.__class__.__name__.lower()\n",
    "        print(f'The {name} says, \"Hello!\"')\n",
    "\n",
    "\n",
    "class RollOverMixin:  # <2>\n",
    "    def roll_over(self):\n",
    "        print('Did a barrel roll!')\n",
    "\n",
    "\n",
    "class Dog(SpeakMixin, RollOverMixin):  # <3>\n",
    "    pass\n",
    "\n",
    "\n",
    "# Using the Dog class\n",
    "dog = Dog()\n",
    "dog.speak()\n",
    "dog.roll_over()"
   ]
  },
  {
   "cell_type": "markdown",
   "metadata": {},
   "source": [
    "## Counter"
   ]
  },
  {
   "cell_type": "code",
   "execution_count": 14,
   "metadata": {},
   "outputs": [],
   "source": [
    "def get_number_with_highest_count(counts):\n",
    "    max_count = 0\n",
    "    for number, count in counts.items():\n",
    "        if count > max_count:\n",
    "            max_count = count\n",
    "            number_with_highest_count = number\n",
    "    return number_with_highest_count\n",
    "\n",
    "def most_frequent(numbers):\n",
    "    counts = {}\n",
    "    for number in numbers:\n",
    "        if number in counts:\n",
    "            counts[number] += 1\n",
    "        else:\n",
    "            counts[number] = 1\n",
    "    print(counts)\n",
    "    return get_number_with_highest_count(counts)"
   ]
  },
  {
   "cell_type": "code",
   "execution_count": 16,
   "metadata": {},
   "outputs": [
    {
     "name": "stdout",
     "output_type": "stream",
     "text": [
      "{1: 1, 2: 3, 3: 5, 5: 2, 4: 2}\n"
     ]
    },
    {
     "data": {
      "text/plain": [
       "3"
      ]
     },
     "execution_count": 16,
     "metadata": {},
     "output_type": "execute_result"
    }
   ],
   "source": [
    "most_frequent([1, 2, 3, 5, 4, 3, 3, 2, 3, 4, 5, 2, 3])"
   ]
  },
  {
   "cell_type": "code",
   "execution_count": 22,
   "metadata": {},
   "outputs": [
    {
     "name": "stdout",
     "output_type": "stream",
     "text": [
      "defaultdict(<class 'int'>, {1: 1, 2: 3, 3: 5, 5: 2, 4: 2})\n"
     ]
    },
    {
     "data": {
      "text/plain": [
       "3"
      ]
     },
     "execution_count": 22,
     "metadata": {},
     "output_type": "execute_result"
    }
   ],
   "source": [
    "from collections import defaultdict\n",
    "\n",
    "def most_frequent(numbers):\n",
    "    counts=defaultdict(int)\n",
    "    for number in numbers:\n",
    "        counts[number] += 1\n",
    "    print(counts)\n",
    "    return get_number_with_highest_count(counts)\n",
    "\n",
    "most_frequent([1, 2, 3, 5, 4, 3, 3, 2, 3, 4, 5, 2, 3])"
   ]
  },
  {
   "cell_type": "code",
   "execution_count": 26,
   "metadata": {},
   "outputs": [
    {
     "name": "stdout",
     "output_type": "stream",
     "text": [
      "Counter({3: 5, 2: 3, 5: 2, 4: 2, 1: 1})\n"
     ]
    },
    {
     "data": {
      "text/plain": [
       "3"
      ]
     },
     "execution_count": 26,
     "metadata": {},
     "output_type": "execute_result"
    }
   ],
   "source": [
    "def get_number_with_highest_count(counts):\n",
    "    return max(\n",
    "            counts,\n",
    "            key=lambda number: counts[number]\n",
    "            )\n",
    "\n",
    "from collections import Counter\n",
    "\n",
    "counts = Counter([1, 2, 3, 5, 4, 3, 3, 2, 3, 4, 5, 2, 3])\n",
    "print(counts)\n",
    "get_number_with_highest_count(counts)"
   ]
  },
  {
   "cell_type": "code",
   "execution_count": 34,
   "metadata": {},
   "outputs": [
    {
     "name": "stdout",
     "output_type": "stream",
     "text": [
      "Counter({3: 5, 2: 3, 5: 2, 4: 2, 1: 1})\n",
      "[(3, 5)]\n",
      "(3, 5)\n",
      "3\n"
     ]
    }
   ],
   "source": [
    "counts = Counter([1, 2, 3, 5, 4, 3, 3, 2, 3, 4, 5, 2, 3])\n",
    "print(counts)\n",
    "print(counts.most_common(1))\n",
    "print(counts.most_common(1)[0])\n",
    "print(counts.most_common(1)[0][0])"
   ]
  },
  {
   "cell_type": "code",
   "execution_count": null,
   "metadata": {},
   "outputs": [],
   "source": []
  }
 ],
 "metadata": {
  "kernelspec": {
   "display_name": "Python 3",
   "language": "python",
   "name": "python3"
  },
  "language_info": {
   "codemirror_mode": {
    "name": "ipython",
    "version": 3
   },
   "file_extension": ".py",
   "mimetype": "text/x-python",
   "name": "python",
   "nbconvert_exporter": "python",
   "pygments_lexer": "ipython3",
   "version": "3.7.3"
  }
 },
 "nbformat": 4,
 "nbformat_minor": 2
}
