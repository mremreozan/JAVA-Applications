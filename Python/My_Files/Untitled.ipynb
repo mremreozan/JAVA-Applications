{
 "cells": [
  {
   "cell_type": "markdown",
   "metadata": {},
   "source": [
    "## 1) Write a Python program to find the three largest integers from a given list of numbers using Heap queue algorithm."
   ]
  },
  {
   "cell_type": "code",
   "execution_count": 2,
   "metadata": {},
   "outputs": [
    {
     "name": "stdout",
     "output_type": "stream",
     "text": [
      "Original list: [25, 35, 22, 85, 14, 65, 75, 22, 58]\n",
      "\n",
      "Three largest numbers are: [85, 75, 65]\n"
     ]
    }
   ],
   "source": [
    "import heapq as hq\n",
    "nums_list = [25, 35, 22, 85, 14, 65, 75, 22, 58]\n",
    "print(f\"Original list: {nums_list}\")\n",
    "# Find three largest values\n",
    "largest_nums = hq.nlargest(3, nums_list)\n",
    "print(\"\\nThree largest numbers are:\", largest_nums)"
   ]
  },
  {
   "cell_type": "markdown",
   "metadata": {},
   "source": [
    "## 2. Write a Python program to find the three smallest integers from a given list of numbers using Heap queue algorithm."
   ]
  },
  {
   "cell_type": "code",
   "execution_count": 3,
   "metadata": {},
   "outputs": [
    {
     "name": "stdout",
     "output_type": "stream",
     "text": [
      "Original list:\n",
      "[25, 35, 22, 85, 14, 65, 75, 22, 58]\n",
      "\n",
      "Three smallest numbers are: [14, 22, 22]\n"
     ]
    }
   ],
   "source": [
    "import heapq as hq\n",
    "nums_list = [25, 35, 22, 85, 14, 65, 75, 22, 58]\n",
    "print(\"Original list:\")\n",
    "print(nums_list)\n",
    "# Find three smallest values\n",
    "largest_nums = hq.nsmallest(3, nums_list)\n",
    "print(\"\\nThree smallest numbers are:\", largest_nums)"
   ]
  },
  {
   "cell_type": "markdown",
   "metadata": {},
   "source": [
    "## 3. Write a Python program to implement a heapsort by pushing all values onto a heap and then popping off the smallest values one at a time. "
   ]
  },
  {
   "cell_type": "code",
   "execution_count": 4,
   "metadata": {},
   "outputs": [
    {
     "name": "stdout",
     "output_type": "stream",
     "text": [
      "[0, 1, 2, 3, 4, 5, 6, 7, 8, 9]\n"
     ]
    }
   ],
   "source": [
    "import heapq as hq\n",
    "def heapsort(iterable):\n",
    "    h = []\n",
    "    for value in iterable:\n",
    "        hq.heappush(h, value)\n",
    "    return [hq.heappop(h) for i in range(len(h))]\n",
    "print(heapsort([1, 3, 5, 7, 9, 2, 4, 6, 8, 0]))"
   ]
  },
  {
   "cell_type": "markdown",
   "metadata": {},
   "source": [
    "## 4. Write a Python program to create a Balanced Binary Search Tree (BST) using an array (given) elements where array elements are sorted in ascending order."
   ]
  },
  {
   "cell_type": "code",
   "execution_count": 5,
   "metadata": {},
   "outputs": [
    {
     "name": "stdout",
     "output_type": "stream",
     "text": [
      "4\n",
      "2\n",
      "1\n",
      "3\n",
      "6\n",
      "5\n",
      "7\n"
     ]
    }
   ],
   "source": [
    "class TreeNode(object):\n",
    "    def __init__(self, x):\n",
    "        self.val = x\n",
    "        self.left = None\n",
    "        self.right = None\n",
    "\n",
    "def sorted_array_to_bst(nums):\n",
    "    \n",
    "    if not nums:\n",
    "        return None\n",
    "    mid_val = len(nums)//2\n",
    "    node = TreeNode(nums[mid_val])\n",
    "    node.left = sorted_array_to_bst(nums[:mid_val])\n",
    "    node.right = sorted_array_to_bst(nums[mid_val+1:])\n",
    "    return node\n",
    "\n",
    "def preOrder(node): \n",
    "    if not node: \n",
    "        return      \n",
    "    print(node.val)\n",
    "    preOrder(node.left) \n",
    "    preOrder(node.right)   \n",
    "    \n",
    "esult = sorted_array_to_bst([1, 2, 3, 4, 5, 6, 7])\n",
    "preOrder(result)"
   ]
  },
  {
   "cell_type": "markdown",
   "metadata": {},
   "source": [
    "## 5. Write a Python program to find the closest value of a given target value in a given non-empty Binary Search Tree (BST) of unique values. "
   ]
  },
  {
   "cell_type": "code",
   "execution_count": 6,
   "metadata": {},
   "outputs": [
    {
     "name": "stdout",
     "output_type": "stream",
     "text": [
      "22\n"
     ]
    }
   ],
   "source": [
    "class TreeNode(object):\n",
    "    def __init__(self, x):\n",
    "        self.val = x\n",
    "        self.left = None\n",
    "        self.right = None\n",
    "\n",
    "def closest_value(root, target):\n",
    "    a = root.val\n",
    "    kid = root.left if target < a else root.right\n",
    "    if not kid:\n",
    "        return a\n",
    "    b = closest_value(kid, target)\n",
    "    return min((a,b), key=lambda x: abs(target-x))\n",
    "\n",
    "root = TreeNode(8)  \n",
    "root.left = TreeNode(5)  \n",
    "root.right = TreeNode(14) \n",
    "root.left.left = TreeNode(4)  \n",
    "root.left.right = TreeNode(6) \n",
    "root.left.right.left = TreeNode(8)  \n",
    "root.left.right.right = TreeNode(7)  \n",
    "root.right.right = TreeNode(24) \n",
    "root.right.right.left = TreeNode(22)  \n",
    "    \n",
    "result = closest_value(root, 19)\n",
    "print(result)"
   ]
  },
  {
   "cell_type": "markdown",
   "metadata": {},
   "source": [
    "## 6. Write a Python program to check whether a given a binary tree is a valid binary search tree (BST) or not. Go to the editor\n",
    "\n",
    "Let a binary search tree (BST) is defined as follows:\n",
    "The left subtree of a node contains only nodes with keys less than the node's key.\n",
    "The right subtree of a node contains only nodes with keys greater than the node's key.\n",
    "Both the left and right subtrees must also be binary search trees."
   ]
  },
  {
   "cell_type": "code",
   "execution_count": 7,
   "metadata": {},
   "outputs": [
    {
     "name": "stdout",
     "output_type": "stream",
     "text": [
      "True\n",
      "False\n"
     ]
    }
   ],
   "source": [
    "class TreeNode(object):\n",
    "    def __init__(self, x):\n",
    "        self.val = x\n",
    "        self.left = None\n",
    "        self.right = None\n",
    "\n",
    "def is_BST(root):\n",
    "    stack = []\n",
    "    prev = None\n",
    "    \n",
    "    while root or stack:\n",
    "        while root:\n",
    "            stack.append(root)\n",
    "            root = root.left\n",
    "        root = stack.pop()\n",
    "        if prev and root.val <= prev.val:\n",
    "            return False\n",
    "        prev = root\n",
    "        root = root.right\n",
    "    return True\n",
    "\n",
    "root = TreeNode(2)  \n",
    "root.left = TreeNode(1)  \n",
    "root.right = TreeNode(3) \n",
    " \n",
    "result = is_BST(root)\n",
    "print(result)\n",
    "\n",
    "root = TreeNode(1)  \n",
    "root.left = TreeNode(2)  \n",
    "root.right = TreeNode(3) \n",
    " \n",
    "result = is_BST(root)\n",
    "print(result)"
   ]
  },
  {
   "cell_type": "markdown",
   "metadata": {},
   "source": [
    "## 7. Write a Python program for binary search. Go to the editor\n",
    "Binary Search : In computer science, a binary search or half-interval search algorithm finds the position of a target value within a sorted array. The binary search algorithm can be classified as a dichotomies divide-and-conquer search algorithm and executes in logarithmic time.\n",
    "Test Data :\n",
    "binary_search([1,2,3,5,8], 6) -> False\n",
    "binary_search([1,2,3,5,8], 5) -> True"
   ]
  },
  {
   "cell_type": "code",
   "execution_count": 10,
   "metadata": {},
   "outputs": [
    {
     "name": "stdout",
     "output_type": "stream",
     "text": [
      "False\n",
      "True\n"
     ]
    }
   ],
   "source": [
    "def binary_search(item_list, target):\n",
    "\tfirst = 0\n",
    "\tlast = len(item_list)-1\n",
    "\tfound = False\n",
    "\twhile( first<=last and not found):\n",
    "\t\tmid = (first + last)//2\n",
    "\t\tif item_list[mid] == target :\n",
    "\t\t\tfound = True\n",
    "\t\telse:\n",
    "\t\t\tif target < item_list[mid]:\n",
    "\t\t\t\tlast = mid - 1\n",
    "\t\t\telse:\n",
    "\t\t\t\tfirst = mid + 1\t\n",
    "\treturn found\n",
    "\t\n",
    "print(binary_search([1,2,3,5,8], 6))\n",
    "print(binary_search([1,2,3,5,8], 5))"
   ]
  },
  {
   "cell_type": "markdown",
   "metadata": {},
   "source": [
    "## 8. Depth First Search (DFS)\n",
    "Approach: Depth-first search is an algorithm for traversing or searching tree or graph data structures. The algorithm starts at the root node (selecting some arbitrary node as the root node in the case of a graph) and explores as far as possible along each branch before backtracking. So the basic idea is to start from the root or any arbitrary node and mark the node and move to the adjacent unmarked node and continue this loop until there is no unmarked adjacent node. Then backtrack and check for other unmarked nodes and traverse them. Finally print the nodes in the path."
   ]
  },
  {
   "cell_type": "code",
   "execution_count": 12,
   "metadata": {},
   "outputs": [
    {
     "name": "stdout",
     "output_type": "stream",
     "text": [
      "Following is DFS from (starting from vertex 2)\n",
      "2 0 1 3 "
     ]
    }
   ],
   "source": [
    "# Python3 program to print DFS traversal \n",
    "# from a given given graph \n",
    "from collections import defaultdict \n",
    "\n",
    "# This class represents a directed graph using \n",
    "# adjacency list representation \n",
    "class Graph: \n",
    "\n",
    "    # Constructor \n",
    "    def __init__(self): \n",
    "\n",
    "        # default dictionary to store graph \n",
    "        self.graph = defaultdict(list) \n",
    "\n",
    "    # function to add an edge to graph \n",
    "    def addEdge(self, u, v): \n",
    "        self.graph[u].append(v) \n",
    "\n",
    "    # A function used by DFS \n",
    "    def DFSUtil(self, v, visited): \n",
    "\n",
    "        # Mark the current node as visited \n",
    "        # and print it \n",
    "        visited[v] = True\n",
    "        print(v, end = ' ') \n",
    "\n",
    "        # Recur for all the vertices \n",
    "        # adjacent to this vertex \n",
    "        for i in self.graph[v]: \n",
    "            if visited[i] == False: \n",
    "                self.DFSUtil(i, visited) \n",
    "\n",
    "    # The function to do DFS traversal. It uses \n",
    "    # recursive DFSUtil() \n",
    "    def DFS(self, v): \n",
    "\n",
    "        # Mark all the vertices as not visited \n",
    "        visited = [False] * (max(self.graph)+1) \n",
    "\n",
    "        # Call the recursive helper function \n",
    "        # to print DFS traversal \n",
    "        self.DFSUtil(v, visited) \n",
    "\n",
    "# Driver code \n",
    "\n",
    "# Create a graph given \n",
    "# in the above diagram \n",
    "g = Graph() \n",
    "g.addEdge(0, 1) \n",
    "g.addEdge(0, 2) \n",
    "g.addEdge(1, 2) \n",
    "g.addEdge(2, 0) \n",
    "g.addEdge(2, 3) \n",
    "g.addEdge(3, 3) \n",
    "\n",
    "print(\"Following is DFS from (starting from vertex 2)\") \n",
    "g.DFS(2) "
   ]
  },
  {
   "cell_type": "markdown",
   "metadata": {},
   "source": [
    "## 9. Breadth First Search"
   ]
  },
  {
   "cell_type": "code",
   "execution_count": 13,
   "metadata": {},
   "outputs": [
    {
     "name": "stdout",
     "output_type": "stream",
     "text": [
      "Following is Breadth First Traversal (starting from vertex 2)\n",
      "2 0 3 1 "
     ]
    }
   ],
   "source": [
    "# Python3 Program to print BFS traversal \n",
    "# from a given source vertex. BFS(int s) \n",
    "# traverses vertices reachable from s. \n",
    "from collections import defaultdict \n",
    "\n",
    "# This class represents a directed graph \n",
    "# using adjacency list representation \n",
    "class Graph: \n",
    "\n",
    "    # Constructor \n",
    "    def __init__(self): \n",
    "\n",
    "        # default dictionary to store graph \n",
    "        self.graph = defaultdict(list) \n",
    "\n",
    "    # function to add an edge to graph \n",
    "    def addEdge(self,u,v): \n",
    "        self.graph[u].append(v) \n",
    "\n",
    "    # Function to print a BFS of graph \n",
    "    def BFS(self, s): \n",
    "\n",
    "        # Mark all the vertices as not visited \n",
    "        visited = [False] * (len(self.graph)) \n",
    "\n",
    "        # Create a queue for BFS \n",
    "        queue = [] \n",
    "        \n",
    "        # Mark the source node as \n",
    "        # visited and enqueue it \n",
    "        queue.append(s) \n",
    "        visited[s] = True\n",
    "\n",
    "        while queue: \n",
    "\n",
    "            # Dequeue a vertex from \n",
    "            # queue and print it \n",
    "            s = queue.pop(0) \n",
    "            print (s, end = \" \") \n",
    "\n",
    "            # Get all adjacent vertices of the \n",
    "            # dequeued vertex s. If a adjacent \n",
    "            # has not been visited, then mark it \n",
    "            # visited and enqueue it \n",
    "            for i in self.graph[s]: \n",
    "                if visited[i] == False: \n",
    "                    queue.append(i) \n",
    "                    visited[i] = True\n",
    "\n",
    "# Driver code \n",
    "\n",
    "# Create a graph given in \n",
    "# the above diagram \n",
    "g = Graph() \n",
    "g.addEdge(0, 1) \n",
    "g.addEdge(0, 2) \n",
    "g.addEdge(1, 2) \n",
    "g.addEdge(2, 0) \n",
    "g.addEdge(2, 3) \n",
    "g.addEdge(3, 3) \n",
    "\n",
    "print (\"Following is Breadth First Traversal\"\n",
    "                \" (starting from vertex 2)\") \n",
    "g.BFS(2) "
   ]
  },
  {
   "cell_type": "code",
   "execution_count": null,
   "metadata": {},
   "outputs": [],
   "source": []
  }
 ],
 "metadata": {
  "kernelspec": {
   "display_name": "Python 3",
   "language": "python",
   "name": "python3"
  },
  "language_info": {
   "codemirror_mode": {
    "name": "ipython",
    "version": 3
   },
   "file_extension": ".py",
   "mimetype": "text/x-python",
   "name": "python",
   "nbconvert_exporter": "python",
   "pygments_lexer": "ipython3",
   "version": "3.7.3"
  }
 },
 "nbformat": 4,
 "nbformat_minor": 2
}
