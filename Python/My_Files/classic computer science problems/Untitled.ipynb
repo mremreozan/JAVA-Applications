{
 "cells": [
  {
   "cell_type": "markdown",
   "metadata": {},
   "source": [
    "## Compression"
   ]
  },
  {
   "cell_type": "code",
   "execution_count": 3,
   "metadata": {},
   "outputs": [],
   "source": [
    "class CompressedGene:\n",
    "    def __init__(self, gene):\n",
    "        self._compress(gene)\n",
    "    \n",
    "    def _compress(self, gene):\n",
    "        self.bit_string = 1 # start with sentinel\n",
    "        for nucleotide in gene.upper():\n",
    "            self.bit_string <<= 2 # shift left two bits\n",
    "            if nucleotide == \"A\": # change last two bits to 00\n",
    "                self.bit_string |= 0b00\n",
    "            elif nucleotide == \"C\": # change last two bits to 01\n",
    "                self.bit_string |= 0b01\n",
    "            elif nucleotide == \"G\": # change last two bits to 10\n",
    "                self.bit_string |= 0b10\n",
    "            elif nucleotide == \"T\": # change last two bits to 11\n",
    "                self.bit_string |= 0b11\n",
    "            else:\n",
    "                raise ValueError(\"Invalid Nucleotide:{}\".format(nucleotide))\n",
    "\n",
    "    def decompress(self):\n",
    "        gene = \"\"\n",
    "        for i in range(0, self.bit_string.bit_length() - 1, 2): # - 1 to exclude sentinel\n",
    "            bits = self.bit_string >> i & 0b11 # get just 2 relevant bits\n",
    "            if bits == 0b00: # A\n",
    "                gene += \"A\"\n",
    "            elif bits == 0b01: # C\n",
    "                gene += \"C\"\n",
    "            elif bits == 0b10: # G\n",
    "                gene += \"G\"\n",
    "            elif bits == 0b11: # T\n",
    "                gene += \"T\"\n",
    "            else:\n",
    "                raise ValueError(\"Invalid bits:{}\".format(bits))\n",
    "        return gene[::-1] # [::-1] reverses string by slicing backward\n",
    "\n",
    "    def __str__(self) -> str: # string representation for pretty printing\n",
    "        return self.decompress()"
   ]
  },
  {
   "cell_type": "code",
   "execution_count": 14,
   "metadata": {},
   "outputs": [
    {
     "name": "stdout",
     "output_type": "stream",
     "text": [
      "original is 8649 bytes\n",
      "compressed is 2320 bytes\n",
      "original and decompressed are the same: True\n"
     ]
    }
   ],
   "source": [
    "from sys import getsizeof\n",
    "\n",
    "original = \"TAGGGATTAACCGTTATATATATATAGCCATGGATCGATTATATAGGGATTAACCGTTATATATATATAGCCATGGATCGATTATA\" * 100\n",
    "\n",
    "print(\"original is {} bytes\".format(getsizeof(original)))\n",
    "\n",
    "compressed = CompressedGene(original) # compress\n",
    "print(\"compressed is {} bytes\".format(getsizeof(compressed.bit_string)))\n",
    "\n",
    "print(\"original and decompressed are the same: {}\".format(original == compressed.decompress()))"
   ]
  },
  {
   "cell_type": "markdown",
   "metadata": {},
   "source": [
    "## unbreakable_encryption.py"
   ]
  },
  {
   "cell_type": "code",
   "execution_count": 81,
   "metadata": {},
   "outputs": [],
   "source": [
    "from secrets import token_bytes\n",
    "\n",
    "def random_key(length):\n",
    "    \n",
    "    # generate length random bytes\n",
    "    tb = token_bytes(length)\n",
    "    \n",
    "    # convert those bytes into a bit string and return it\n",
    "    return int.from_bytes(tb, \"big\")\n",
    "\n",
    "def encrypt(original):\n",
    "    original_bytes = original.encode()\n",
    "    dummy = random_key(len(original_bytes))\n",
    "    original_key = int.from_bytes(original_bytes, \"big\")\n",
    "    encrypted = original_key ^ dummy # XOR\n",
    "    return dummy, encrypted\n",
    "\n",
    "def decrypt(dummy, encrypted):\n",
    "    decrypted = dummy ^ encrypted # XOR\n",
    "    temp = decrypted.to_bytes((decrypted.bit_length()+ 7) // 8, \"big\")\n",
    "    return temp.decode()"
   ]
  },
  {
   "cell_type": "code",
   "execution_count": 82,
   "metadata": {},
   "outputs": [
    {
     "name": "stdout",
     "output_type": "stream",
     "text": [
      "1021470958\n",
      "emre\n"
     ]
    }
   ],
   "source": [
    "message = 'emre'\n",
    "key, script = encrypt(message)\n",
    "print(script)\n",
    "result = decrypt(key, script)\n",
    "print(message)"
   ]
  },
  {
   "cell_type": "markdown",
   "metadata": {},
   "source": [
    "## Calculating pi\n",
    "π = 4/1 - 4/3 + 4/5 - 4/7 + 4/9 - 4/11..."
   ]
  },
  {
   "cell_type": "code",
   "execution_count": 86,
   "metadata": {},
   "outputs": [],
   "source": [
    "def calculate_pi(n_terms):\n",
    "    numerator = 4.0\n",
    "    denominator = 1.0\n",
    "    operation = 1.0\n",
    "    pi = 0.0\n",
    "    for _ in range(n_terms):\n",
    "        pi += operation * (numerator / denominator)\n",
    "        denominator += 2.0\n",
    "        operation *= -1.0\n",
    "    return pi"
   ]
  },
  {
   "cell_type": "code",
   "execution_count": 87,
   "metadata": {},
   "outputs": [
    {
     "name": "stdout",
     "output_type": "stream",
     "text": [
      "3.1415916535897743\n"
     ]
    }
   ],
   "source": [
    "print(calculate_pi(1000000))"
   ]
  },
  {
   "cell_type": "markdown",
   "metadata": {},
   "source": [
    "## The Towers of Hanoi"
   ]
  },
  {
   "cell_type": "code",
   "execution_count": 137,
   "metadata": {},
   "outputs": [],
   "source": [
    "class Stack():\n",
    "    def __init__(self):\n",
    "        self._container = []\n",
    "\n",
    "    def push(self, item):\n",
    "        self._container.append(item)\n",
    "\n",
    "    def pop(self):\n",
    "        return self._container.pop()\n",
    "\n",
    "    def __repr__(self):\n",
    "        return repr(self._container)"
   ]
  },
  {
   "cell_type": "code",
   "execution_count": 138,
   "metadata": {},
   "outputs": [],
   "source": [
    "discs = ['Large', 'Medium', 'Small']\n",
    "tower_a = Stack()\n",
    "tower_b = Stack()\n",
    "tower_c = Stack()\n",
    "for i in discs:\n",
    "    tower_a.push(i)"
   ]
  },
  {
   "cell_type": "code",
   "execution_count": 139,
   "metadata": {},
   "outputs": [],
   "source": [
    "def hanoi(begin, end, temp, n):\n",
    "    if n == 1:\n",
    "        print('finish')\n",
    "        end.push(begin.pop())\n",
    "        print(begin, end, temp)\n",
    "    else:\n",
    "        print('x')\n",
    "        hanoi(begin, temp, end, n - 1)\n",
    "        print('y')\n",
    "        hanoi(begin, end, temp, 1)\n",
    "        print('z')\n",
    "        hanoi(temp, end, begin, n - 1)"
   ]
  },
  {
   "cell_type": "code",
   "execution_count": 140,
   "metadata": {},
   "outputs": [
    {
     "name": "stdout",
     "output_type": "stream",
     "text": [
      "x\n",
      "x\n",
      "finish\n",
      "['Large', 'Medium'] ['Small'] []\n",
      "y\n",
      "finish\n",
      "['Large'] ['Medium'] ['Small']\n",
      "z\n",
      "finish\n",
      "[] ['Medium', 'Small'] ['Large']\n",
      "y\n",
      "finish\n",
      "[] ['Large'] ['Medium', 'Small']\n",
      "z\n",
      "x\n",
      "finish\n",
      "['Medium'] ['Small'] ['Large']\n",
      "y\n",
      "finish\n",
      "[] ['Large', 'Medium'] ['Small']\n",
      "z\n",
      "finish\n",
      "[] ['Large', 'Medium', 'Small'] []\n",
      "[]\n",
      "[]\n",
      "['Large', 'Medium', 'Small']\n"
     ]
    }
   ],
   "source": [
    "hanoi(tower_a, tower_c, tower_b, num_discs)\n",
    "print(tower_a)\n",
    "print(tower_b)\n",
    "print(tower_c)"
   ]
  }
 ],
 "metadata": {
  "kernelspec": {
   "display_name": "Python 3",
   "language": "python",
   "name": "python3"
  },
  "language_info": {
   "codemirror_mode": {
    "name": "ipython",
    "version": 3
   },
   "file_extension": ".py",
   "mimetype": "text/x-python",
   "name": "python",
   "nbconvert_exporter": "python",
   "pygments_lexer": "ipython3",
   "version": "3.7.3"
  }
 },
 "nbformat": 4,
 "nbformat_minor": 2
}
