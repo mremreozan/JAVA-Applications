{
 "cells": [
  {
   "cell_type": "markdown",
   "metadata": {},
   "source": [
    "## DNA Search \n",
    "Genes are commonly represented in computer software as a sequence of the characters\n",
    "A, C, G, and T. Each letter represents a nucleotide, and the combination of\n",
    "three nucleotides is called a codon. A codon codes\n",
    "for a specific amino acid that together with other amino acids can form a protein.\n",
    "A classic task in bioinformatics software is to find a particular codon within a gene."
   ]
  },
  {
   "cell_type": "code",
   "execution_count": 1,
   "metadata": {},
   "outputs": [
    {
     "name": "stdout",
     "output_type": "stream",
     "text": [
      "<enum 'Nucleotide'>\n"
     ]
    }
   ],
   "source": [
    "from enum import IntEnum\n",
    "\n",
    "Nucleotide = IntEnum('Nucleotide', ('A', 'C', 'G', 'T'))\n",
    "print(Nucleotide)"
   ]
  },
  {
   "cell_type": "code",
   "execution_count": 2,
   "metadata": {},
   "outputs": [],
   "source": [
    "#Codon = (Nucleotide, Nucleotide, Nucleotide) # type alias for codons\n",
    "#Gene = [Codon] # type alias for genes"
   ]
  },
  {
   "cell_type": "code",
   "execution_count": 3,
   "metadata": {},
   "outputs": [],
   "source": [
    "gene_str = \"ACGTGGCTCTCTAACGTACGTACGTACGGGGTTTATATATACCCTAGGACTCCCTTT\"\n",
    "\n",
    "def string_to_gene(s):\n",
    "    gene = []\n",
    "    for i in range(0, len(s), 3):\n",
    "        if (i + 2) >= len(s): # don't run off end!\n",
    "            return gene\n",
    "        \n",
    "        # initialize codon out of three nucleotides\n",
    "        codon = (Nucleotide[s[i]], Nucleotide[s[i + 1]], Nucleotide[s[i + 2]])\n",
    "        gene.append(codon) # add codon to gene\n",
    "    return gene"
   ]
  },
  {
   "cell_type": "code",
   "execution_count": 4,
   "metadata": {},
   "outputs": [
    {
     "name": "stdout",
     "output_type": "stream",
     "text": [
      "[(<Nucleotide.A: 1>, <Nucleotide.C: 2>, <Nucleotide.G: 3>), (<Nucleotide.T: 4>, <Nucleotide.G: 3>, <Nucleotide.G: 3>), (<Nucleotide.C: 2>, <Nucleotide.T: 4>, <Nucleotide.C: 2>), (<Nucleotide.T: 4>, <Nucleotide.C: 2>, <Nucleotide.T: 4>), (<Nucleotide.A: 1>, <Nucleotide.A: 1>, <Nucleotide.C: 2>), (<Nucleotide.G: 3>, <Nucleotide.T: 4>, <Nucleotide.A: 1>), (<Nucleotide.C: 2>, <Nucleotide.G: 3>, <Nucleotide.T: 4>), (<Nucleotide.A: 1>, <Nucleotide.C: 2>, <Nucleotide.G: 3>), (<Nucleotide.T: 4>, <Nucleotide.A: 1>, <Nucleotide.C: 2>), (<Nucleotide.G: 3>, <Nucleotide.G: 3>, <Nucleotide.G: 3>), (<Nucleotide.G: 3>, <Nucleotide.T: 4>, <Nucleotide.T: 4>), (<Nucleotide.T: 4>, <Nucleotide.A: 1>, <Nucleotide.T: 4>), (<Nucleotide.A: 1>, <Nucleotide.T: 4>, <Nucleotide.A: 1>), (<Nucleotide.T: 4>, <Nucleotide.A: 1>, <Nucleotide.C: 2>), (<Nucleotide.C: 2>, <Nucleotide.C: 2>, <Nucleotide.T: 4>), (<Nucleotide.A: 1>, <Nucleotide.G: 3>, <Nucleotide.G: 3>), (<Nucleotide.A: 1>, <Nucleotide.C: 2>, <Nucleotide.T: 4>), (<Nucleotide.C: 2>, <Nucleotide.C: 2>, <Nucleotide.C: 2>), (<Nucleotide.T: 4>, <Nucleotide.T: 4>, <Nucleotide.T: 4>)]\n"
     ]
    }
   ],
   "source": [
    "my_gene = string_to_gene(gene_str)\n",
    "print(my_gene)"
   ]
  },
  {
   "cell_type": "markdown",
   "metadata": {},
   "source": [
    "### Linear Search"
   ]
  },
  {
   "cell_type": "code",
   "execution_count": 5,
   "metadata": {},
   "outputs": [],
   "source": [
    "def linear_contains(gene, key_codon):\n",
    "    for codon in gene:\n",
    "        if codon == key_codon:\n",
    "            return True\n",
    "    return False"
   ]
  },
  {
   "cell_type": "code",
   "execution_count": 6,
   "metadata": {},
   "outputs": [
    {
     "name": "stdout",
     "output_type": "stream",
     "text": [
      "True\n",
      "False\n"
     ]
    }
   ],
   "source": [
    "acg = (Nucleotide.A, Nucleotide.C, Nucleotide.G)\n",
    "gat = (Nucleotide.G, Nucleotide.A, Nucleotide.T)\n",
    "print(linear_contains(my_gene, acg)) # True\n",
    "print(linear_contains(my_gene, gat)) # False"
   ]
  },
  {
   "cell_type": "markdown",
   "metadata": {},
   "source": [
    "### Binary Search"
   ]
  },
  {
   "cell_type": "code",
   "execution_count": 7,
   "metadata": {},
   "outputs": [],
   "source": [
    "def binary_contains(gene, key_codon):\n",
    "    low = 0\n",
    "    high = len(gene) - 1\n",
    "    while low <= high: # while there is still a search space\n",
    "        mid = (low + high) // 2\n",
    "        if gene[mid] < key_codon:\n",
    "            low = mid + 1\n",
    "        elif gene[mid] > key_codon:\n",
    "            high = mid - 1\n",
    "        else:\n",
    "            return True\n",
    "    return False"
   ]
  },
  {
   "cell_type": "code",
   "execution_count": 8,
   "metadata": {},
   "outputs": [
    {
     "name": "stdout",
     "output_type": "stream",
     "text": [
      "True\n",
      "False\n"
     ]
    }
   ],
   "source": [
    "my_sorted_gene = sorted(my_gene)\n",
    "print(binary_contains(my_sorted_gene, acg)) # True\n",
    "print(binary_contains(my_sorted_gene, gat)) # False"
   ]
  },
  {
   "cell_type": "code",
   "execution_count": 9,
   "metadata": {},
   "outputs": [
    {
     "name": "stdout",
     "output_type": "stream",
     "text": [
      "True\n",
      "False\n"
     ]
    }
   ],
   "source": [
    "print(binary_contains([\"a\", \"d\", \"e\", \"f\", \"z\"], \"f\")) # True\n",
    "print(binary_contains([\"john\", \"mark\", \"ronald\", \"sarah\"], \"sheila\")) # False"
   ]
  },
  {
   "cell_type": "markdown",
   "metadata": {},
   "source": [
    "## Maze solving\n",
    "Our maze will be a two-dimensional grid of Cells. A Cell is an enum with str values\n",
    "where \" \" will represent an empty space and \"X\" will represent a blocked space.\n",
    "There are also other cases for illustrative purposes when printing a maze."
   ]
  },
  {
   "cell_type": "code",
   "execution_count": 12,
   "metadata": {},
   "outputs": [],
   "source": [
    "from enum import Enum\n",
    "from typing import List, NamedTuple, Callable, Optional\n",
    "import random\n",
    "\n",
    "class Cell(str, Enum):\n",
    "    EMPTY = \" \"\n",
    "    BLOCKED = \"X\"\n",
    "    START = \"S\"\n",
    "    GOAL = \"G\"\n",
    "    PATH = \"*\""
   ]
  },
  {
   "cell_type": "code",
   "execution_count": 21,
   "metadata": {},
   "outputs": [],
   "source": [
    "class MazeLocation(NamedTuple):\n",
    "    row: int\n",
    "    column: int"
   ]
  },
  {
   "cell_type": "code",
   "execution_count": 288,
   "metadata": {},
   "outputs": [],
   "source": [
    "class Maze:\n",
    "    def __init__(self, rows = 10, columns = 10, sparseness = 0.2, start = MazeLocation(0, 0), goal = MazeLocation(9, 9)):\n",
    "        \n",
    "        # initialize basic instance variables\n",
    "        self._rows = rows\n",
    "        self._columns = columns\n",
    "        self.start = start\n",
    "        self.goal = goal\n",
    "        \n",
    "        # fill the grid with empty cells\n",
    "        self._grid = [[Cell.EMPTY for c in range(columns)] for r in range(rows)]\n",
    "        \n",
    "        # populate the grid with blocked cells\n",
    "        self._randomly_fill(rows, columns, sparseness)\n",
    "        \n",
    "        # fill the start and goal locations in\n",
    "        self._grid[start.row][start.column] = Cell.START\n",
    "        self._grid[goal.row][goal.column] = Cell.GOAL\n",
    "    \n",
    "    def _randomly_fill(self, rows, columns, sparseness):\n",
    "        for row in range(rows):\n",
    "            for column in range(columns):\n",
    "                if random.uniform(0, 1.0) < sparseness:\n",
    "                    self._grid[row][column] = Cell.BLOCKED\n",
    "\n",
    "    # return a nicely formatted version of the maze for printing\n",
    "    def __str__(self):\n",
    "        output = \"\"\n",
    "        for row in self._grid:\n",
    "            output += \"\".join([c.value for c in row]) + \"\\n\"\n",
    "        return output\n",
    "\n",
    "    def goal_test(self, ml):\n",
    "        return ml == self.goal\n",
    "\n",
    "    def successors(self, ml):\n",
    "        locations = []\n",
    "        if ml.row + 1 < self._rows and self._grid[ml.row + 1][ml.column] != \\\n",
    "            Cell.BLOCKED:\n",
    "            locations.append(MazeLocation(ml.row + 1, ml.column))\n",
    "        if ml.row - 1 >= 0 and self._grid[ml.row - 1][ml.column] != Cell.BLOCKED:\n",
    "            locations.append(MazeLocation(ml.row - 1, ml.column))\n",
    "        if ml.column + 1 < self._columns and self._grid[ml.row][ml.column + 1] != \\\n",
    "            Cell.BLOCKED:\n",
    "            locations.append(MazeLocation(ml.row, ml.column + 1))\n",
    "        if ml.column - 1 >= 0 and self._grid[ml.row][ml.column - 1] != \\\n",
    "            Cell.BLOCKED:\n",
    "            locations.append(MazeLocation(ml.row, ml.column - 1))\n",
    "        return locations\n",
    "    \n",
    "    def mark(self, path):\n",
    "        for maze_location in path:\n",
    "            self._grid[maze_location.row][maze_location.column] = Cell.PATH\n",
    "        self._grid[self.start.row][self.start.column] = Cell.START\n",
    "        self._grid[self.goal.row][self.goal.column] = Cell.GOAL\n",
    "\n",
    "    def clear(self, path):\n",
    "        for maze_location in path:\n",
    "            self._grid[maze_location.row][maze_location.column] = Cell.EMPTY\n",
    "        self._grid[self.start.row][self.start.column] = Cell.START\n",
    "        self._grid[self.goal.row][self.goal.column] = Cell.GOAL"
   ]
  },
  {
   "cell_type": "code",
   "execution_count": null,
   "metadata": {},
   "outputs": [],
   "source": [
    "class Node:\n",
    "    def __init__(self, state, parent, cost = 0.0, heuristic = 0.0):\n",
    "        self.state = state\n",
    "        self.parent = parent\n",
    "        self.cost = cost\n",
    "        self.heuristic = heuristic\n",
    "        \n",
    "    def __lt__(self, other):\n",
    "        return (self.cost + self.heuristic) < (other.cost + other.heuristic)"
   ]
  },
  {
   "cell_type": "code",
   "execution_count": null,
   "metadata": {},
   "outputs": [],
   "source": [
    "def node_to_path(node):\n",
    "    path = [node.state]\n",
    "    \n",
    "    # work backwards from end to front\n",
    "    while node.parent is not None:\n",
    "        node = node.parent\n",
    "        path.append(node.state)\n",
    "    path.reverse()\n",
    "    return path"
   ]
  },
  {
   "cell_type": "markdown",
   "metadata": {},
   "source": [
    "### DFS"
   ]
  },
  {
   "cell_type": "code",
   "execution_count": 289,
   "metadata": {},
   "outputs": [],
   "source": [
    "class Stack:\n",
    "    def __init__(self):\n",
    "        self._container = []\n",
    "    \n",
    "    @property\n",
    "    def empty(self):\n",
    "        return not self._container\n",
    "    \n",
    "    def push(self, item):\n",
    "        self._container.append(item) # O(1)\n",
    "    \n",
    "    def pop(self):\n",
    "        return self._container.pop() # O(1)\n",
    "    \n",
    "    def __repr__(self):\n",
    "        return repr(self._container)"
   ]
  },
  {
   "cell_type": "code",
   "execution_count": 291,
   "metadata": {},
   "outputs": [],
   "source": [
    "def dfs(initial, goal_test, successors):\n",
    "    \n",
    "    # frontier is where we've yet to go\n",
    "    frontier = Stack()\n",
    "    frontier.push(Node(initial, None))\n",
    "    \n",
    "    # explored is where we've been\n",
    "    explored = {initial}\n",
    "    \n",
    "    # keep going while there is more to explore\n",
    "    while not frontier.empty:\n",
    "        current_node = frontier.pop()\n",
    "        current_state = current_node.state\n",
    "    \n",
    "        # if we found the goal, we're done\n",
    "        if goal_test(current_state):\n",
    "            return current_node\n",
    "    \n",
    "        # check where we can go next and haven't explored\n",
    "        for child in successors(current_state):\n",
    "            if child in explored: # skip children we already explored\n",
    "                continue\n",
    "            explored.add(child)\n",
    "            frontier.push(Node(child, current_node))\n",
    "    return None # went through everything and never found goal"
   ]
  },
  {
   "cell_type": "markdown",
   "metadata": {},
   "source": [
    "### BFS"
   ]
  },
  {
   "cell_type": "code",
   "execution_count": 293,
   "metadata": {},
   "outputs": [],
   "source": [
    "from collections import deque\n",
    "\n",
    "class Queue:\n",
    "    def __init__(self):\n",
    "        self._container = deque()\n",
    "    \n",
    "    @property\n",
    "    def empty(self):\n",
    "        return not self._container\n",
    "    \n",
    "    def push(self, item):\n",
    "        self._container.append(item) # O(1)\n",
    "        \n",
    "    def pop(self):\n",
    "        return self._container.popleft() # O(1)\n",
    "    \n",
    "    def __repr__(self):\n",
    "        return repr(self._container)"
   ]
  },
  {
   "cell_type": "code",
   "execution_count": 294,
   "metadata": {},
   "outputs": [],
   "source": [
    "def bfs(initial, goal_test, successors):\n",
    "    \n",
    "    # frontier is where we've yet to go\n",
    "    frontier = Queue()\n",
    "    frontier.push(Node(initial, None))\n",
    "    \n",
    "    # explored is where we've been\n",
    "    explored = {initial}\n",
    "    \n",
    "    # keep going while there is more to explore\n",
    "    while not frontier.empty:\n",
    "        current_node = frontier.pop()\n",
    "        current_state = current_node.state\n",
    "\n",
    "        # if we found the goal, we're done\n",
    "        if goal_test(current_state):\n",
    "            return current_node\n",
    "\n",
    "        # check where we can go next and haven't explored\n",
    "        for child in successors(current_state):\n",
    "            if child in explored: # skip children we already explored\n",
    "                continue\n",
    "            explored.add(child)\n",
    "            frontier.push(Node(child, current_node))\n",
    "    \n",
    "    return None # went through everything and never found goal"
   ]
  },
  {
   "cell_type": "code",
   "execution_count": 302,
   "metadata": {},
   "outputs": [
    {
     "name": "stdout",
     "output_type": "stream",
     "text": [
      "SX        \n",
      "         X\n",
      "          \n",
      "          \n",
      "X     X   \n",
      "X X  X  X \n",
      "    X  X  \n",
      "  X    X  \n",
      "      X   \n",
      "         G\n",
      "\n"
     ]
    }
   ],
   "source": [
    "m = Maze()\n",
    "print(m)"
   ]
  },
  {
   "cell_type": "code",
   "execution_count": 303,
   "metadata": {},
   "outputs": [
    {
     "name": "stdout",
     "output_type": "stream",
     "text": [
      "SX        \n",
      "*********X\n",
      "        **\n",
      " ******* *\n",
      "X*    X***\n",
      "X*X  X  X \n",
      "**  X  X  \n",
      "* X    X  \n",
      "******X   \n",
      "     ****G\n",
      "\n"
     ]
    }
   ],
   "source": [
    "# Test DFS\n",
    "solution1 = dfs(m.start, m.goal_test, m.successors)\n",
    "if solution1 is None:\n",
    "    print(\"No solution found using depth-first search!\")\n",
    "else:\n",
    "    path1 = node_to_path(solution1)\n",
    "    m.mark(path1)\n",
    "    print(m)\n",
    "    m.clear(path1)"
   ]
  },
  {
   "cell_type": "code",
   "execution_count": 304,
   "metadata": {},
   "outputs": [
    {
     "name": "stdout",
     "output_type": "stream",
     "text": [
      "SX        \n",
      "*        X\n",
      "*         \n",
      "**        \n",
      "X*    X   \n",
      "X*X  X  X \n",
      " *  X  X  \n",
      " *X    X  \n",
      " *    X   \n",
      " ********G\n",
      "\n"
     ]
    }
   ],
   "source": [
    "# Test BFS\n",
    "solution2 = bfs(m.start, m.goal_test, m.successors)\n",
    "if solution2 is None:\n",
    "    print(\"No solution found using breadth-first search!\")\n",
    "else:\n",
    "    path2 = node_to_path(solution2)\n",
    "    m.mark(path2)\n",
    "    print(m)\n",
    "    m.clear(path2)"
   ]
  },
  {
   "cell_type": "markdown",
   "metadata": {},
   "source": [
    "### A* Algorithm (cost function + heuristic function [f(n)= g(n) + h(n)])"
   ]
  },
  {
   "cell_type": "code",
   "execution_count": 305,
   "metadata": {},
   "outputs": [],
   "source": [
    "from heapq import heappush, heappop\n",
    "\n",
    "class PriorityQueue():\n",
    "    def __init__(self):\n",
    "        self._container = []\n",
    "    \n",
    "    @property\n",
    "    def empty(self):\n",
    "        return not self._container # not is true for empty container\n",
    "    \n",
    "    def push(self, item):\n",
    "        heappush(self._container, item) # in by priority O(log n)\n",
    "    \n",
    "    def pop(self):\n",
    "        return heappop(self._container) # out by priority O(log n)\n",
    "    \n",
    "    def __repr__(self):\n",
    "        return repr(self._container)"
   ]
  },
  {
   "cell_type": "code",
   "execution_count": 306,
   "metadata": {},
   "outputs": [],
   "source": [
    "def manhattan_distance(goal):\n",
    "    def distance(ml):\n",
    "        xdist = abs(ml.column - goal.column)\n",
    "        ydist = abs(ml.row - goal.row)\n",
    "        return (xdist + ydist)\n",
    "    return distance"
   ]
  },
  {
   "cell_type": "code",
   "execution_count": 307,
   "metadata": {},
   "outputs": [],
   "source": [
    "def astar(initial, goal_test, successors, heuristic):\n",
    "    \n",
    "    # frontier is where we've yet to go\n",
    "    frontier = PriorityQueue()\n",
    "    \n",
    "    frontier.push(Node(initial, None, 0.0, heuristic(initial)))\n",
    "    \n",
    "    # explored is where we've been\n",
    "    explored = {initial: 0.0}\n",
    "\n",
    "    # keep going while there is more to explore\n",
    "    while not frontier.empty:\n",
    "        current_node = frontier.pop()\n",
    "        current_state = current_node.state\n",
    "        \n",
    "        # if we found the goal, we're done\n",
    "        if goal_test(current_state):\n",
    "            return current_node\n",
    "        \n",
    "        # check where we can go next and haven't explored\n",
    "        for child in successors(current_state):\n",
    "            new_cost = current_node.cost + 1 # 1 assumes a grid, need \n",
    "                            # a cost function for more sophisticated apps\n",
    "            \n",
    "            if child not in explored or explored[child] > new_cost:\n",
    "                explored[child] = new_cost\n",
    "                frontier.push(Node(child, current_node, new_cost,\n",
    "                heuristic(child)))\n",
    "    \n",
    "    return None # went through everything and never found goal"
   ]
  },
  {
   "cell_type": "code",
   "execution_count": 309,
   "metadata": {},
   "outputs": [
    {
     "name": "stdout",
     "output_type": "stream",
     "text": [
      "SX        \n",
      "*        X\n",
      "*         \n",
      "**        \n",
      "X*    X   \n",
      "X*X  X  X \n",
      " ***X  X  \n",
      "  X*** X  \n",
      "     *X   \n",
      "     ****G\n",
      "\n"
     ]
    }
   ],
   "source": [
    "# Test A* algorithm\n",
    "distance = manhattan_distance(m.goal)\n",
    "solution3 = astar(m.start, m.goal_test, m.successors, distance)\n",
    "if solution3 is None:\n",
    "    print(\"No solution found using A*!\")\n",
    "else:\n",
    "    path3 = node_to_path(solution3)\n",
    "    m.mark(path3)\n",
    "    print(m)"
   ]
  },
  {
   "cell_type": "code",
   "execution_count": null,
   "metadata": {},
   "outputs": [],
   "source": []
  }
 ],
 "metadata": {
  "kernelspec": {
   "display_name": "Python 3",
   "language": "python",
   "name": "python3"
  },
  "language_info": {
   "codemirror_mode": {
    "name": "ipython",
    "version": 3
   },
   "file_extension": ".py",
   "mimetype": "text/x-python",
   "name": "python",
   "nbconvert_exporter": "python",
   "pygments_lexer": "ipython3",
   "version": "3.7.3"
  }
 },
 "nbformat": 4,
 "nbformat_minor": 2
}
