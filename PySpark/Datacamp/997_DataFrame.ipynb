{
  "nbformat": 4,
  "nbformat_minor": 0,
  "metadata": {
    "colab": {
      "provenance": []
    },
    "kernelspec": {
      "name": "python3",
      "display_name": "Python 3"
    },
    "language_info": {
      "name": "python"
    }
  },
  "cells": [
    {
      "cell_type": "code",
      "execution_count": 2,
      "metadata": {
        "colab": {
          "base_uri": "https://localhost:8080/"
        },
        "id": "15Idj3xHEmUL",
        "outputId": "812bde1d-bee5-4f79-865b-e1c3a02a308f"
      },
      "outputs": [
        {
          "output_type": "stream",
          "name": "stdout",
          "text": [
            "Collecting pyspark\n",
            "  Downloading pyspark-3.5.0.tar.gz (316.9 MB)\n",
            "\u001b[2K     \u001b[90m━━━━━━━━━━━━━━━━━━━━━━━━━━━━━━━━━━━━━━━━\u001b[0m \u001b[32m316.9/316.9 MB\u001b[0m \u001b[31m4.5 MB/s\u001b[0m eta \u001b[36m0:00:00\u001b[0m\n",
            "\u001b[?25h  Preparing metadata (setup.py) ... \u001b[?25l\u001b[?25hdone\n",
            "Requirement already satisfied: py4j==0.10.9.7 in /usr/local/lib/python3.10/dist-packages (from pyspark) (0.10.9.7)\n",
            "Building wheels for collected packages: pyspark\n",
            "  Building wheel for pyspark (setup.py) ... \u001b[?25l\u001b[?25hdone\n",
            "  Created wheel for pyspark: filename=pyspark-3.5.0-py2.py3-none-any.whl size=317425345 sha256=09bab3b614ca88e8fa3eccd565f97901e6c24d401c1ec24a0e99afb835fde3c0\n",
            "  Stored in directory: /root/.cache/pip/wheels/41/4e/10/c2cf2467f71c678cfc8a6b9ac9241e5e44a01940da8fbb17fc\n",
            "Successfully built pyspark\n",
            "Installing collected packages: pyspark\n",
            "Successfully installed pyspark-3.5.0\n"
          ]
        }
      ],
      "source": [
        "pip install pyspark"
      ]
    },
    {
      "cell_type": "code",
      "source": [
        "from pyspark import SparkContext\n",
        "from pyspark.sql import SparkSession"
      ],
      "metadata": {
        "id": "u5YI7gOyEzwE"
      },
      "execution_count": 1,
      "outputs": []
    },
    {
      "cell_type": "code",
      "source": [
        "sc = SparkContext()\n",
        "spark = SparkSession.builder.getOrCreate()"
      ],
      "metadata": {
        "id": "2LhW_kbrEvUu"
      },
      "execution_count": 2,
      "outputs": []
    },
    {
      "cell_type": "code",
      "source": [
        "sample_list = [('Mona', 20), ('Jennifer', 34), ('John', 20), ('Jim', 26)]\n",
        "# Create an RDD from the list\n",
        "rdd = sc.parallelize(sample_list)\n",
        "# Create a PySpark DataFrame\n",
        "names_df = spark.createDataFrame(rdd, schema=['Name', 'Age'])\n",
        "# Check the type of names_df\n",
        "print(\"The type of names_df is\", type(names_df))"
      ],
      "metadata": {
        "colab": {
          "base_uri": "https://localhost:8080/"
        },
        "id": "nMJK1Ld5TJNJ",
        "outputId": "0cb93856-ac37-4934-9a39-f4221d6d3ae9"
      },
      "execution_count": 3,
      "outputs": [
        {
          "output_type": "stream",
          "name": "stdout",
          "text": [
            "The type of names_df is <class 'pyspark.sql.dataframe.DataFrame'>\n"
          ]
        }
      ]
    },
    {
      "cell_type": "code",
      "source": [
        "file_path = \"datasets/people.csv\"\n",
        "# Create an DataFrame from file_path\n",
        "people_df = spark.read.csv(file_path, header=True, inferSchema=True)\n",
        "# Check the type of people_df\n",
        "print(\"The type of people_df is\", type(people_df))"
      ],
      "metadata": {
        "colab": {
          "base_uri": "https://localhost:8080/"
        },
        "id": "kDpcUvXvTkWw",
        "outputId": "30413a50-0533-4a3f-9740-53d83ee7a077"
      },
      "execution_count": 5,
      "outputs": [
        {
          "output_type": "stream",
          "name": "stdout",
          "text": [
            "The type of people_df is <class 'pyspark.sql.dataframe.DataFrame'>\n"
          ]
        }
      ]
    },
    {
      "cell_type": "markdown",
      "source": [
        "### Transformations and Actions in pyspark dataframe\n",
        "The most common DataFrame Transformations such as **select, filter, groupby, orderby, dropDuplicates, withColumnRenamed**.\n",
        "Some common DataFrame Actions such as **printSchema, show, count, columns, and describe**"
      ],
      "metadata": {
        "id": "_Crs_K4EUSWB"
      }
    },
    {
      "cell_type": "code",
      "source": [
        "# Print the first 3 observations\n",
        "people_df.show(3)\n",
        "# Count the number of rows\n",
        "print(\"There are {} rows in the people_df DataFrame.\".format(people_df.count()))\n",
        "# Count the number of columns and print their names\n",
        "print(\"There are {} columns in the people_df DataFrame and their names are {}\".format(len(people_df.columns), people_df.columns))"
      ],
      "metadata": {
        "colab": {
          "base_uri": "https://localhost:8080/"
        },
        "id": "gaxPuRm5T2nw",
        "outputId": "8c49da23-cb21-488d-ad89-9173822a015f"
      },
      "execution_count": 10,
      "outputs": [
        {
          "output_type": "stream",
          "name": "stdout",
          "text": [
            "+---+---------+--------------+------+-------------------+\n",
            "|_c0|person_id|          name|   sex|      date of birth|\n",
            "+---+---------+--------------+------+-------------------+\n",
            "|  0|      100|Penelope Lewis|female|1990-08-31 00:00:00|\n",
            "|  1|      101| David Anthony|  male|1971-10-14 00:00:00|\n",
            "|  2|      102|     Ida Shipp|female|1962-05-24 00:00:00|\n",
            "+---+---------+--------------+------+-------------------+\n",
            "only showing top 3 rows\n",
            "\n",
            "There are 100000 rows in the people_df DataFrame.\n",
            "There are 5 columns in the people_df DataFrame and their names are ['_c0', 'person_id', 'name', 'sex', 'date of birth']\n"
          ]
        }
      ]
    },
    {
      "cell_type": "code",
      "source": [
        "# Select name, sex and date of birth columns\n",
        "people_df_sub = people_df.select('name', 'sex', 'date of birth')\n",
        "# Print the first 10 observations from people_df_sub\n",
        "people_df_sub.show(3)\n",
        "# Remove duplicate entries from people_df_sub\n",
        "people_df_sub_nodup = people_df_sub.dropDuplicates()\n",
        "# Count the number of rows\n",
        "print(\"There were {} rows before removing duplicates, and {} rows after removing duplicates\".format(people_df_sub.count(), people_df_sub_nodup.count()))"
      ],
      "metadata": {
        "colab": {
          "base_uri": "https://localhost:8080/"
        },
        "id": "XSVPcSbzVsNa",
        "outputId": "f4470503-ae88-4249-f50e-aea856464702"
      },
      "execution_count": 11,
      "outputs": [
        {
          "output_type": "stream",
          "name": "stdout",
          "text": [
            "+--------------+------+-------------------+\n",
            "|          name|   sex|      date of birth|\n",
            "+--------------+------+-------------------+\n",
            "|Penelope Lewis|female|1990-08-31 00:00:00|\n",
            "| David Anthony|  male|1971-10-14 00:00:00|\n",
            "|     Ida Shipp|female|1962-05-24 00:00:00|\n",
            "+--------------+------+-------------------+\n",
            "only showing top 3 rows\n",
            "\n",
            "There were 100000 rows before removing duplicates, and 99998 rows after removing duplicates\n"
          ]
        }
      ]
    },
    {
      "cell_type": "code",
      "source": [
        "# Filter people_df to select females\n",
        "people_df_female = people_df.filter(people_df.sex == \"female\")\n",
        "# Filter people_df to select males\n",
        "people_df_male = people_df.filter(people_df.sex == \"male\")\n",
        "# Count the number of rows\n",
        "print(\"There are {} rows in the people_df_female DataFrame and {} rows in the people_df_male DataFrame\".format(people_df_female.count(), people_df_male.count()))"
      ],
      "metadata": {
        "colab": {
          "base_uri": "https://localhost:8080/"
        },
        "id": "uy2lETe1WDD-",
        "outputId": "69f000ec-ba5c-42cb-adbb-311a31c388e8"
      },
      "execution_count": 12,
      "outputs": [
        {
          "output_type": "stream",
          "name": "stdout",
          "text": [
            "There are 49014 rows in the people_df_female DataFrame and 49066 rows in the people_df_male DataFrame\n"
          ]
        }
      ]
    },
    {
      "cell_type": "markdown",
      "source": [
        "## Pyspark SQL"
      ],
      "metadata": {
        "id": "eoOmbUqBXROo"
      }
    },
    {
      "cell_type": "code",
      "source": [
        "# Create a temporary table \"people\"\n",
        "people_df.createOrReplaceTempView(\"people\")\n",
        "# Construct a query to select the names of the people from the temporary table \"people\"\n",
        "query = '''SELECT name FROM people'''\n",
        "# Assign the result of Spark's query to people_df_names\n",
        "people_df_names = spark.sql(query)\n",
        "# Print the top 10 names of the people\n",
        "people_df_names.show(10)"
      ],
      "metadata": {
        "colab": {
          "base_uri": "https://localhost:8080/"
        },
        "id": "qop-WWE5WNAV",
        "outputId": "4647b422-c5ce-4757-f039-8ae265a3f831"
      },
      "execution_count": 14,
      "outputs": [
        {
          "output_type": "stream",
          "name": "stdout",
          "text": [
            "+----------------+\n",
            "|            name|\n",
            "+----------------+\n",
            "|  Penelope Lewis|\n",
            "|   David Anthony|\n",
            "|       Ida Shipp|\n",
            "|    Joanna Moore|\n",
            "|  Lisandra Ortiz|\n",
            "|   David Simmons|\n",
            "|   Edward Hudson|\n",
            "|    Albert Jones|\n",
            "|Leonard Cavender|\n",
            "|  Everett Vadala|\n",
            "+----------------+\n",
            "only showing top 10 rows\n",
            "\n"
          ]
        }
      ]
    },
    {
      "cell_type": "code",
      "source": [
        "# Filter the people table to select female sex\n",
        "people_female_df = spark.sql('SELECT * FROM people WHERE sex==\"female\"')\n",
        "# Filter the people table DataFrame to select male sex\n",
        "people_male_df = spark.sql('SELECT * FROM people WHERE sex==\"male\"')\n",
        "# Count the number of rows in both people_df_female and people_male_df DataFrames\n",
        "print(\"There are {} rows in the people_female_df and {} rows in the people_male_df DataFrames\".format(people_female_df.count(), people_male_df.count()))"
      ],
      "metadata": {
        "colab": {
          "base_uri": "https://localhost:8080/"
        },
        "id": "BSrfF6D6XQUG",
        "outputId": "f3e73c4e-5be8-4baf-830a-f536c456d3a7"
      },
      "execution_count": 15,
      "outputs": [
        {
          "output_type": "stream",
          "name": "stdout",
          "text": [
            "There are 49014 rows in the people_female_df and 49066 rows in the people_male_df DataFrames\n"
          ]
        }
      ]
    },
    {
      "cell_type": "markdown",
      "source": [
        "## Pandas DataFrame vs PySpark DataFrame\n",
        "It is a single machine tool and constrained by single machine limits. So their size is limited by your server memory, and you will process them with the power of a single server. In contrast, operations on Pyspark DataFrames run parallel on different nodes in the cluster. In pandas DataFrames, we get the result as soon as we apply any operation Whereas operations in PySpark DataFrames are lazy in nature. You can change a Pandas DataFrame using methods. We can’t change a PySpark DataFrame due to its immutable property. Finally, the Pandas API supports more operations than PySpark DataFrames."
      ],
      "metadata": {
        "id": "XE_wdNFtYasV"
      }
    },
    {
      "cell_type": "markdown",
      "source": [
        "## Data Visualization with Pyspark"
      ],
      "metadata": {
        "id": "dkx11K_6Yx-h"
      }
    },
    {
      "cell_type": "code",
      "source": [
        "import matplotlib.pyplot as plt\n",
        "\n",
        "# Check the column names of names_df\n",
        "print(\"The column names of names_df are\", names_df.columns)\n",
        "# Convert to Pandas DataFrame\n",
        "df_pandas = names_df.toPandas()\n",
        "# Create a horizontal bar plot\n",
        "df_pandas.plot(kind='barh', x='Name', y='Age', colormap='winter_r')\n",
        "plt.show()"
      ],
      "metadata": {
        "colab": {
          "base_uri": "https://localhost:8080/",
          "height": 447
        },
        "id": "kPZJnX63YgCQ",
        "outputId": "86ede0b0-987e-4c82-eddb-c18ce5ada998"
      },
      "execution_count": 17,
      "outputs": [
        {
          "output_type": "stream",
          "name": "stdout",
          "text": [
            "The column names of names_df are ['Name', 'Age']\n"
          ]
        },
        {
          "output_type": "display_data",
          "data": {
            "text/plain": [
              "<Figure size 640x480 with 1 Axes>"
            ],
            "image/png": "[encoded data removed]"
          },
          "metadata": {}
        }
      ]
    },
    {
      "cell_type": "code",
      "source": [
        "file_path = \"datasets/Fifa2018_dataset.csv\"\n",
        "# Load the Dataframe\n",
        "fifa_df = spark.read.csv(file_path, header=True, inferSchema=True)\n",
        "# Check the schema of columns\n",
        "fifa_df.printSchema()\n",
        "# Show the first 10 observations\n",
        "fifa_df.show(3)\n",
        "# Print the total number of rows\n",
        "print(\"There are {} rows in the fifa_df DataFrame\".format(fifa_df.count()))"
      ],
      "metadata": {
        "colab": {
          "base_uri": "https://localhost:8080/"
        },
        "id": "BHaL5LMRZHG4",
        "outputId": "a5b6968d-a83a-4f5d-89ea-a85be93a7bf2"
      },
      "execution_count": 18,
      "outputs": [
        {
          "output_type": "stream",
          "name": "stdout",
          "text": [
            "root\n",
            " |-- _c0: integer (nullable = true)\n",
            " |-- Name: string (nullable = true)\n",
            " |-- Age: integer (nullable = true)\n",
            " |-- Photo: string (nullable = true)\n",
            " |-- Nationality: string (nullable = true)\n",
            " |-- Flag: string (nullable = true)\n",
            " |-- Overall: integer (nullable = true)\n",
            " |-- Potential: integer (nullable = true)\n",
            " |-- Club: string (nullable = true)\n",
            " |-- Club Logo: string (nullable = true)\n",
            " |-- Value: string (nullable = true)\n",
            " |-- Wage: string (nullable = true)\n",
            " |-- Special: integer (nullable = true)\n",
            " |-- Acceleration: string (nullable = true)\n",
            " |-- Aggression: string (nullable = true)\n",
            " |-- Agility: string (nullable = true)\n",
            " |-- Balance: string (nullable = true)\n",
            " |-- Ball control: string (nullable = true)\n",
            " |-- Composure: string (nullable = true)\n",
            " |-- Crossing: string (nullable = true)\n",
            " |-- Curve: string (nullable = true)\n",
            " |-- Dribbling: string (nullable = true)\n",
            " |-- Finishing: string (nullable = true)\n",
            " |-- Free kick accuracy: string (nullable = true)\n",
            " |-- GK diving: string (nullable = true)\n",
            " |-- GK handling: string (nullable = true)\n",
            " |-- GK kicking: string (nullable = true)\n",
            " |-- GK positioning: string (nullable = true)\n",
            " |-- GK reflexes: string (nullable = true)\n",
            " |-- Heading accuracy: string (nullable = true)\n",
            " |-- Interceptions: string (nullable = true)\n",
            " |-- Jumping: string (nullable = true)\n",
            " |-- Long passing: string (nullable = true)\n",
            " |-- Long shots: string (nullable = true)\n",
            " |-- Marking: string (nullable = true)\n",
            " |-- Penalties: string (nullable = true)\n",
            " |-- Positioning: string (nullable = true)\n",
            " |-- Reactions: string (nullable = true)\n",
            " |-- Short passing: string (nullable = true)\n",
            " |-- Shot power: string (nullable = true)\n",
            " |-- Sliding tackle: string (nullable = true)\n",
            " |-- Sprint speed: string (nullable = true)\n",
            " |-- Stamina: string (nullable = true)\n",
            " |-- Standing tackle: string (nullable = true)\n",
            " |-- Strength: string (nullable = true)\n",
            " |-- Vision: string (nullable = true)\n",
            " |-- Volleys: string (nullable = true)\n",
            " |-- CAM: double (nullable = true)\n",
            " |-- CB: double (nullable = true)\n",
            " |-- CDM: double (nullable = true)\n",
            " |-- CF: double (nullable = true)\n",
            " |-- CM: double (nullable = true)\n",
            " |-- ID: integer (nullable = true)\n",
            " |-- LAM: double (nullable = true)\n",
            " |-- LB: double (nullable = true)\n",
            " |-- LCB: double (nullable = true)\n",
            " |-- LCM: double (nullable = true)\n",
            " |-- LDM: double (nullable = true)\n",
            " |-- LF: double (nullable = true)\n",
            " |-- LM: double (nullable = true)\n",
            " |-- LS: double (nullable = true)\n",
            " |-- LW: double (nullable = true)\n",
            " |-- LWB: double (nullable = true)\n",
            " |-- Preferred Positions: string (nullable = true)\n",
            " |-- RAM: double (nullable = true)\n",
            " |-- RB: double (nullable = true)\n",
            " |-- RCB: double (nullable = true)\n",
            " |-- RCM: double (nullable = true)\n",
            " |-- RDM: double (nullable = true)\n",
            " |-- RF: double (nullable = true)\n",
            " |-- RM: double (nullable = true)\n",
            " |-- RS: double (nullable = true)\n",
            " |-- RW: double (nullable = true)\n",
            " |-- RWB: double (nullable = true)\n",
            " |-- ST: double (nullable = true)\n",
            "\n",
            "+---+-----------------+---+--------------------+-----------+--------------------+-------+---------+-------------------+--------------------+------+-----+-------+------------+----------+-------+-------+------------+---------+--------+-----+---------+---------+------------------+---------+-----------+----------+--------------+-----------+----------------+-------------+-------+------------+----------+-------+---------+-----------+---------+-------------+----------+--------------+------------+-------+---------------+--------+------+-------+----+----+----+----+----+------+----+----+----+----+----+----+----+----+----+----+-------------------+----+----+----+----+----+----+----+----+----+----+----+\n",
            "|_c0|             Name|Age|               Photo|Nationality|                Flag|Overall|Potential|               Club|           Club Logo| Value| Wage|Special|Acceleration|Aggression|Agility|Balance|Ball control|Composure|Crossing|Curve|Dribbling|Finishing|Free kick accuracy|GK diving|GK handling|GK kicking|GK positioning|GK reflexes|Heading accuracy|Interceptions|Jumping|Long passing|Long shots|Marking|Penalties|Positioning|Reactions|Short passing|Shot power|Sliding tackle|Sprint speed|Stamina|Standing tackle|Strength|Vision|Volleys| CAM|  CB| CDM|  CF|  CM|    ID| LAM|  LB| LCB| LCM| LDM|  LF|  LM|  LS|  LW| LWB|Preferred Positions| RAM|  RB| RCB| RCM| RDM|  RF|  RM|  RS|  RW| RWB|  ST|\n",
            "+---+-----------------+---+--------------------+-----------+--------------------+-------+---------+-------------------+--------------------+------+-----+-------+------------+----------+-------+-------+------------+---------+--------+-----+---------+---------+------------------+---------+-----------+----------+--------------+-----------+----------------+-------------+-------+------------+----------+-------+---------+-----------+---------+-------------+----------+--------------+------------+-------+---------------+--------+------+-------+----+----+----+----+----+------+----+----+----+----+----+----+----+----+----+----+-------------------+----+----+----+----+----+----+----+----+----+----+----+\n",
            "|  0|Cristiano Ronaldo| 32|https://cdn.sofif...|   Portugal|https://cdn.sofif...|     94|       94|     Real Madrid CF|https://cdn.sofif...|€95.5M|€565K|   2228|          89|        63|     89|     63|          93|       95|      85|   81|       91|       94|                76|        7|         11|        15|            14|         11|              88|           29|     95|          77|        92|     22|       85|         95|       96|           83|        94|            23|          91|     92|             31|      80|    85|     88|89.0|53.0|62.0|91.0|82.0| 20801|89.0|61.0|53.0|82.0|62.0|91.0|89.0|92.0|91.0|66.0|             ST LW |89.0|61.0|53.0|82.0|62.0|91.0|89.0|92.0|91.0|66.0|92.0|\n",
            "|  1|         L. Messi| 30|https://cdn.sofif...|  Argentina|https://cdn.sofif...|     93|       93|       FC Barcelona|https://cdn.sofif...| €105M|€565K|   2154|          92|        48|     90|     95|          95|       96|      77|   89|       97|       95|                90|        6|         11|        15|            14|          8|              71|           22|     68|          87|        88|     13|       74|         93|       95|           88|        85|            26|          87|     73|             28|      59|    90|     85|92.0|45.0|59.0|92.0|84.0|158023|92.0|57.0|45.0|84.0|59.0|92.0|90.0|88.0|91.0|62.0|                RW |92.0|57.0|45.0|84.0|59.0|92.0|90.0|88.0|91.0|62.0|88.0|\n",
            "|  2|           Neymar| 25|https://cdn.sofif...|     Brazil|https://cdn.sofif...|     92|       94|Paris Saint-Germain|https://cdn.sofif...| €123M|€280K|   2100|          94|        56|     96|     82|          95|       92|      75|   81|       96|       89|                84|        9|          9|        15|            15|         11|              62|           36|     61|          75|        77|     21|       81|         90|       88|           81|        80|            33|          90|     78|             24|      53|    80|     83|88.0|46.0|59.0|88.0|79.0|190871|88.0|59.0|46.0|79.0|59.0|88.0|87.0|84.0|89.0|64.0|                LW |88.0|59.0|46.0|79.0|59.0|88.0|87.0|84.0|89.0|64.0|84.0|\n",
            "+---+-----------------+---+--------------------+-----------+--------------------+-------+---------+-------------------+--------------------+------+-----+-------+------------+----------+-------+-------+------------+---------+--------+-----+---------+---------+------------------+---------+-----------+----------+--------------+-----------+----------------+-------------+-------+------------+----------+-------+---------+-----------+---------+-------------+----------+--------------+------------+-------+---------------+--------+------+-------+----+----+----+----+----+------+----+----+----+----+----+----+----+----+----+----+-------------------+----+----+----+----+----+----+----+----+----+----+----+\n",
            "only showing top 3 rows\n",
            "\n",
            "There are 17981 rows in the fifa_df DataFrame\n"
          ]
        }
      ]
    },
    {
      "cell_type": "code",
      "source": [
        "# Create a temporary view of fifa_df\n",
        "fifa_df.createOrReplaceTempView('fifa_df_table')\n",
        "# Construct the \"query\"\n",
        "query = '''SELECT Age FROM fifa_df_table WHERE Nationality == \"Germany\"'''\n",
        "# Apply the SQL \"query\"\n",
        "fifa_df_germany_age = spark.sql(query)\n",
        "# Generate basic statistics\n",
        "fifa_df_germany_age.describe().show()"
      ],
      "metadata": {
        "colab": {
          "base_uri": "https://localhost:8080/"
        },
        "id": "jAC9kphtZhW_",
        "outputId": "ebb3d805-e140-4da1-d9ff-3b4730d313a7"
      },
      "execution_count": 19,
      "outputs": [
        {
          "output_type": "stream",
          "name": "stdout",
          "text": [
            "+-------+-----------------+\n",
            "|summary|              Age|\n",
            "+-------+-----------------+\n",
            "|  count|             1140|\n",
            "|   mean|24.20263157894737|\n",
            "| stddev|4.197096712293757|\n",
            "|    min|               16|\n",
            "|    max|               36|\n",
            "+-------+-----------------+\n",
            "\n"
          ]
        }
      ]
    },
    {
      "cell_type": "code",
      "source": [
        "# Convert fifa_df to fifa_df_germany_age_pandas DataFrame\n",
        "fifa_df_germany_age_pandas = fifa_df_germany_age.toPandas()\n",
        "# Plot the 'Age' density of Germany Players\n",
        "fifa_df_germany_age_pandas.plot(kind='density')\n",
        "plt.show()"
      ],
      "metadata": {
        "colab": {
          "base_uri": "https://localhost:8080/",
          "height": 430
        },
        "id": "0ncZODD3ZxJZ",
        "outputId": "ddac0e0e-d84c-436f-b0f1-4e5a7d14b16b"
      },
      "execution_count": 20,
      "outputs": [
        {
          "output_type": "display_data",
          "data": {
            "text/plain": [
              "<Figure size 640x480 with 1 Axes>"
            ],
            "image/png": "[encoded data removed]"
          },
          "metadata": {}
        }
      ]
    },
    {
      "cell_type": "code",
      "source": [],
      "metadata": {
        "id": "z_ul37ybaErD"
      },
      "execution_count": null,
      "outputs": []
    }
  ]
}