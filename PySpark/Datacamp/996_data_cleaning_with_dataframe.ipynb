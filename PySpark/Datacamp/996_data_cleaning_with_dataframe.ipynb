{
  "nbformat": 4,
  "nbformat_minor": 0,
  "metadata": {
    "colab": {
      "provenance": []
    },
    "kernelspec": {
      "name": "python3",
      "display_name": "Python 3"
    },
    "language_info": {
      "name": "python"
    }
  },
  "cells": [
    {
      "cell_type": "code",
      "execution_count": 2,
      "metadata": {
        "colab": {
          "base_uri": "https://localhost:8080/"
        },
        "id": "15Idj3xHEmUL",
        "outputId": "812bde1d-bee5-4f79-865b-e1c3a02a308f"
      },
      "outputs": [
        {
          "output_type": "stream",
          "name": "stdout",
          "text": [
            "Collecting pyspark\n",
            "  Downloading pyspark-3.5.0.tar.gz (316.9 MB)\n",
            "\u001b[2K     \u001b[90m━━━━━━━━━━━━━━━━━━━━━━━━━━━━━━━━━━━━━━━━\u001b[0m \u001b[32m316.9/316.9 MB\u001b[0m \u001b[31m4.5 MB/s\u001b[0m eta \u001b[36m0:00:00\u001b[0m\n",
            "\u001b[?25h  Preparing metadata (setup.py) ... \u001b[?25l\u001b[?25hdone\n",
            "Requirement already satisfied: py4j==0.10.9.7 in /usr/local/lib/python3.10/dist-packages (from pyspark) (0.10.9.7)\n",
            "Building wheels for collected packages: pyspark\n",
            "  Building wheel for pyspark (setup.py) ... \u001b[?25l\u001b[?25hdone\n",
            "  Created wheel for pyspark: filename=pyspark-3.5.0-py2.py3-none-any.whl size=317425345 sha256=09bab3b614ca88e8fa3eccd565f97901e6c24d401c1ec24a0e99afb835fde3c0\n",
            "  Stored in directory: /root/.cache/pip/wheels/41/4e/10/c2cf2467f71c678cfc8a6b9ac9241e5e44a01940da8fbb17fc\n",
            "Successfully built pyspark\n",
            "Installing collected packages: pyspark\n",
            "Successfully installed pyspark-3.5.0\n"
          ]
        }
      ],
      "source": [
        "pip install pyspark"
      ]
    },
    {
      "cell_type": "code",
      "source": [
        "from pyspark import SparkContext\n",
        "from pyspark.sql import SparkSession\n",
        "from pyspark.sql.types import *"
      ],
      "metadata": {
        "id": "u5YI7gOyEzwE"
      },
      "execution_count": 1,
      "outputs": []
    },
    {
      "cell_type": "code",
      "source": [
        "sc = SparkContext()\n",
        "spark = SparkSession.builder.getOrCreate()"
      ],
      "metadata": {
        "id": "yxyeOCdI-KDv"
      },
      "execution_count": 2,
      "outputs": []
    },
    {
      "cell_type": "code",
      "source": [
        "# Define a new schema using the StructType method\n",
        "people_schema = StructType([\n",
        "  # Define a StructField for each field\n",
        "  StructField('name', StringType(), False),\n",
        "  StructField('age', IntegerType(), False),\n",
        "  StructField('city', StringType(), False)\n",
        "])"
      ],
      "metadata": {
        "id": "TMbTYtOx-E7Z"
      },
      "execution_count": 3,
      "outputs": []
    },
    {
      "cell_type": "code",
      "source": [
        "import pyspark.sql.functions as F"
      ],
      "metadata": {
        "id": "8Z-pemmmVk5j"
      },
      "execution_count": 7,
      "outputs": []
    },
    {
      "cell_type": "code",
      "source": [
        "# Load the CSV file\n",
        "aa_dfw_df = spark.read.format('csv').options(Header=True).load('datasets/AA_DFW_2017_Departures_Short.csv.gz')\n",
        "# Add the airport column using the F.lower() method\n",
        "aa_dfw_df = aa_dfw_df.withColumn('airport', F.lower(aa_dfw_df['Destination Airport']))\n",
        "# Drop the Destination Airport column\n",
        "aa_dfw_df = aa_dfw_df.drop(aa_dfw_df['Destination Airport'])\n",
        "# Show the DataFrame\n",
        "aa_dfw_df.show()"
      ],
      "metadata": {
        "colab": {
          "base_uri": "https://localhost:8080/"
        },
        "id": "2LhW_kbrEvUu",
        "outputId": "ff76cb50-2ead-4687-dd90-0bb6f9537c6c"
      },
      "execution_count": 8,
      "outputs": [
        {
          "output_type": "stream",
          "name": "stdout",
          "text": [
            "+-----------------+-------------+-----------------------------+-------+\n",
            "|Date (MM/DD/YYYY)|Flight Number|Actual elapsed time (Minutes)|airport|\n",
            "+-----------------+-------------+-----------------------------+-------+\n",
            "|       01/01/2017|         0005|                          537|    hnl|\n",
            "|       01/01/2017|         0007|                          498|    ogg|\n",
            "|       01/01/2017|         0037|                          241|    sfo|\n",
            "|       01/01/2017|         0043|                          134|    dtw|\n",
            "|       01/01/2017|         0051|                           88|    stl|\n",
            "|       01/01/2017|         0060|                          149|    mia|\n",
            "|       01/01/2017|         0071|                          203|    lax|\n",
            "|       01/01/2017|         0074|                           76|    mem|\n",
            "|       01/01/2017|         0081|                          123|    den|\n",
            "|       01/01/2017|         0089|                          161|    slc|\n",
            "|       01/01/2017|         0096|                           84|    stl|\n",
            "|       01/01/2017|         0103|                          216|    sjc|\n",
            "|       01/01/2017|         0119|                          514|    ogg|\n",
            "|       01/01/2017|         0123|                          529|    hnl|\n",
            "|       01/01/2017|         0126|                          171|    lga|\n",
            "|       01/01/2017|         0132|                          188|    ewr|\n",
            "|       01/01/2017|         0140|                          231|    sjc|\n",
            "|       01/01/2017|         0174|                          145|    rdu|\n",
            "|       01/01/2017|         0176|                          184|    bos|\n",
            "|       01/01/2017|         0190|                           76|    sat|\n",
            "+-----------------+-------------+-----------------------------+-------+\n",
            "only showing top 20 rows\n",
            "\n"
          ]
        }
      ]
    },
    {
      "cell_type": "code",
      "source": [
        "voter_df = spark.read.format('csv').options(Header=True).load('datasets/DallasCouncilVoters.csv.gz')\n",
        "# Show the distinct VOTER_NAME entries\n",
        "voter_df.select(voter_df['VOTER_NAME']).distinct().show(40, truncate=False)\n",
        "# Filter voter_df where the VOTER_NAME is 1-20 characters in length\n",
        "voter_df = voter_df.filter('length(VOTER_NAME) > 0 and length(VOTER_NAME) < 20')\n",
        "# Filter out voter_df where the VOTER_NAME contains an underscore\n",
        "voter_df = voter_df.filter(~ F.col('VOTER_NAME').contains('_'))\n",
        "# Show the distinct VOTER_NAME entries again\n",
        "voter_df.select('VOTER_NAME').distinct().show(40, truncate=False)"
      ],
      "metadata": {
        "colab": {
          "base_uri": "https://localhost:8080/"
        },
        "id": "_pf5VGlS-WGE",
        "outputId": "76d962fe-8808-4ea1-9855-583a05b52328"
      },
      "execution_count": 9,
      "outputs": [
        {
          "output_type": "stream",
          "name": "stdout",
          "text": [
            "+---------------------------------------------------------------------------------------------------------------------------------------------------------------------------------------------------------------------------------------------------------------------------------------------------------------------------------------------------------------------------------------------------------------------------+\n",
            "|VOTER_NAME                                                                                                                                                                                                                                                                                                                                                                                                                 |\n",
            "+---------------------------------------------------------------------------------------------------------------------------------------------------------------------------------------------------------------------------------------------------------------------------------------------------------------------------------------------------------------------------------------------------------------------------+\n",
            "|Tennell Atkins                                                                                                                                                                                                                                                                                                                                                                                                             |\n",
            "|  the  final   2018 Assessment Plan and the 2018 Assessment  Roll  (to  be  kept  on  file  with  the  City  Secretary);  establishing  classifications  for   the   apportionment   of   costs and the methods of assessing special assessments for the services and improvements to property in the District;  closing  the  hearing  and  levying  a  special  assessment  on  property  in  the  District              |\n",
            "|Scott Griggs                                                                                                                                                                                                                                                                                                                                                                                                               |\n",
            "|Scott  Griggs                                                                                                                                                                                                                                                                                                                                                                                                              |\n",
            "|Sandy Greyson                                                                                                                                                                                                                                                                                                                                                                                                              |\n",
            "|Michael S. Rawlings                                                                                                                                                                                                                                                                                                                                                                                                        |\n",
            "| the final 2018 Assessment Plan and the 2018 Assessment  Roll  (to  be  kept  on  file  with  the  City  Secretary);  establishing  classifications  for  the   apportionment   of   costs and  the  methods  of  assessing  special  assessments  on  Dallas  hotels  with    100 or more rooms                                                                                                                           |\n",
            "|Kevin Felder                                                                                                                                                                                                                                                                                                                                                                                                               |\n",
            "|Adam Medrano                                                                                                                                                                                                                                                                                                                                                                                                               |\n",
            "|Casey  Thomas                                                                                                                                                                                                                                                                                                                                                                                                              |\n",
            "|   the   final  2018 Assessment  Plan  and  the  2018 Assessment  Roll  (to  be  kept  on  file   with the City Secretary); establishing classifications  for  the  apportionment  of  costs  and  the  methods  of  assessing  special  assessments  for  the  services  and  improvements  to  property  in  the  District;  closing  the  hearing  and  levying  a special  assessment  on  property  in  the  District |\n",
            "|011018__42                                                                                                                                                                                                                                                                                                                                                                                                                 |\n",
            "|Mark  Clayton                                                                                                                                                                                                                                                                                                                                                                                                              |\n",
            "|Casey Thomas                                                                                                                                                                                                                                                                                                                                                                                                               |\n",
            "|Sandy  Greyson                                                                                                                                                                                                                                                                                                                                                                                                             |\n",
            "|Mark Clayton                                                                                                                                                                                                                                                                                                                                                                                                               |\n",
            "|Jennifer S.  Gates                                                                                                                                                                                                                                                                                                                                                                                                         |\n",
            "|Tiffinni A. Young                                                                                                                                                                                                                                                                                                                                                                                                          |\n",
            "|  the  final  2018 Assessment  Plan   and   the   2018 Assessment   Roll  (to  be  kept  on  file  with  the  City  Secretary);  establishing   classifications  for the apportionment of costs and the  methods  of  assessing  special  assessments for the services and improvements  to  property  in  the  District;  closing the hearing and  levying  a  special  assessment  on  property  in  the  District       |\n",
            "|B. Adam  McGough                                                                                                                                                                                                                                                                                                                                                                                                           |\n",
            "|Omar Narvaez                                                                                                                                                                                                                                                                                                                                                                                                               |\n",
            "|Philip T. Kingston                                                                                                                                                                                                                                                                                                                                                                                                         |\n",
            "|Rickey D. Callahan                                                                                                                                                                                                                                                                                                                                                                                                         |\n",
            "|Dwaine R. Caraway                                                                                                                                                                                                                                                                                                                                                                                                          |\n",
            "|Philip T.  Kingston                                                                                                                                                                                                                                                                                                                                                                                                        |\n",
            "|Jennifer S. Gates                                                                                                                                                                                                                                                                                                                                                                                                          |\n",
            "|Lee M. Kleinman                                                                                                                                                                                                                                                                                                                                                                                                            |\n",
            "|Monica R. Alonzo                                                                                                                                                                                                                                                                                                                                                                                                           |\n",
            "|   the   final  2018 Assessment  Plan  and  the  2018 Assessment  Roll   (to  be  kept  on  file   with the City Secretary); establishing classifications  for  the  apportionment  of  costs  and  the  methods  of  assessing  special  assessments  for  the  services  and  improvements  to  property  in  the  District;  closing  the  hearing  and  levying  a special  assessment  on  property  in  the  District|\n",
            "|Rickey D.  Callahan                                                                                                                                                                                                                                                                                                                                                                                                        |\n",
            "|Carolyn King Arnold                                                                                                                                                                                                                                                                                                                                                                                                        |\n",
            "|  the  final   2018 Assessment Plan and the 2018 Assessment  Roll  (to  be  kept  on  file  with  the  City  Secretary);  establishing  classifications  for  the   apportionment   of   costs and the methods of assessing special assessments for the services and improvements to property in the District;  closing  the  hearing  and  levying  a  special  assessment  on  property  in  the  District               |\n",
            "|Erik Wilson                                                                                                                                                                                                                                                                                                                                                                                                                |\n",
            "|  the  final  2018 Assessment Plan and the 2018 Assessment  Roll  (to  be  kept  on  file  with  the  City  Secretary);  establishing  classifications  for  the   apportionment   of   costs and the methods of assessing special assessments for the services and improvements to property in the District; closing  the  hearing  and  levying  a  special  assessment  on  property  in  the  District                 |\n",
            "|Lee Kleinman                                                                                                                                                                                                                                                                                                                                                                                                               |\n",
            "|NULL                                                                                                                                                                                                                                                                                                                                                                                                                       |\n",
            "+---------------------------------------------------------------------------------------------------------------------------------------------------------------------------------------------------------------------------------------------------------------------------------------------------------------------------------------------------------------------------------------------------------------------------+\n",
            "\n",
            "+-------------------+\n",
            "|VOTER_NAME         |\n",
            "+-------------------+\n",
            "|Tennell Atkins     |\n",
            "|Scott Griggs       |\n",
            "|Scott  Griggs      |\n",
            "|Sandy Greyson      |\n",
            "|Michael S. Rawlings|\n",
            "|Kevin Felder       |\n",
            "|Adam Medrano       |\n",
            "|Casey  Thomas      |\n",
            "|Mark  Clayton      |\n",
            "|Casey Thomas       |\n",
            "|Sandy  Greyson     |\n",
            "|Mark Clayton       |\n",
            "|Jennifer S.  Gates |\n",
            "|Tiffinni A. Young  |\n",
            "|B. Adam  McGough   |\n",
            "|Omar Narvaez       |\n",
            "|Philip T. Kingston |\n",
            "|Rickey D. Callahan |\n",
            "|Dwaine R. Caraway  |\n",
            "|Philip T.  Kingston|\n",
            "|Jennifer S. Gates  |\n",
            "|Lee M. Kleinman    |\n",
            "|Monica R. Alonzo   |\n",
            "|Rickey D.  Callahan|\n",
            "|Carolyn King Arnold|\n",
            "|Erik Wilson        |\n",
            "|Lee Kleinman       |\n",
            "+-------------------+\n",
            "\n"
          ]
        }
      ]
    },
    {
      "cell_type": "code",
      "source": [
        "# Add a new column called splits separated on whitespace\n",
        "voter_df = voter_df.withColumn('splits', F.split(voter_df.VOTER_NAME, '\\s+'))\n",
        "# Create a new column called first_name based on the first item in splits\n",
        "voter_df = voter_df.withColumn('first_name', voter_df.splits.getItem(0))\n",
        "# Get the last entry of the splits list and create a column called last_name\n",
        "voter_df = voter_df.withColumn('last_name', voter_df.splits.getItem(F.size('splits') - 1))\n",
        "# Drop the splits column\n",
        "voter_df = voter_df.drop('splits')\n",
        "# Show the voter_df DataFrame\n",
        "voter_df.show()"
      ],
      "metadata": {
        "colab": {
          "base_uri": "https://localhost:8080/"
        },
        "id": "7rek2aSxYuHt",
        "outputId": "dd0f8cfb-f53d-4079-84c2-43a6eca3167e"
      },
      "execution_count": 10,
      "outputs": [
        {
          "output_type": "stream",
          "name": "stderr",
          "text": [
            "/usr/local/lib/python3.10/dist-packages/pyspark/sql/column.py:460: FutureWarning: A column as 'key' in getItem is deprecated as of Spark 3.0, and will not be supported in the future release. Use `column[key]` or `column.key` syntax instead.\n",
            "  warnings.warn(\n"
          ]
        },
        {
          "output_type": "stream",
          "name": "stdout",
          "text": [
            "+----------+-------------+-------------------+----------+---------+\n",
            "|      DATE|        TITLE|         VOTER_NAME|first_name|last_name|\n",
            "+----------+-------------+-------------------+----------+---------+\n",
            "|02/08/2017|Councilmember|  Jennifer S. Gates|  Jennifer|    Gates|\n",
            "|02/08/2017|Councilmember| Philip T. Kingston|    Philip| Kingston|\n",
            "|02/08/2017|        Mayor|Michael S. Rawlings|   Michael| Rawlings|\n",
            "|02/08/2017|Councilmember|       Adam Medrano|      Adam|  Medrano|\n",
            "|02/08/2017|Councilmember|       Casey Thomas|     Casey|   Thomas|\n",
            "|02/08/2017|Councilmember|Carolyn King Arnold|   Carolyn|   Arnold|\n",
            "|02/08/2017|Councilmember|       Scott Griggs|     Scott|   Griggs|\n",
            "|02/08/2017|Councilmember|   B. Adam  McGough|        B.|  McGough|\n",
            "|02/08/2017|Councilmember|       Lee Kleinman|       Lee| Kleinman|\n",
            "|02/08/2017|Councilmember|      Sandy Greyson|     Sandy|  Greyson|\n",
            "|02/08/2017|Councilmember|  Jennifer S. Gates|  Jennifer|    Gates|\n",
            "|02/08/2017|Councilmember| Philip T. Kingston|    Philip| Kingston|\n",
            "|02/08/2017|        Mayor|Michael S. Rawlings|   Michael| Rawlings|\n",
            "|02/08/2017|Councilmember|       Adam Medrano|      Adam|  Medrano|\n",
            "|02/08/2017|Councilmember|       Casey Thomas|     Casey|   Thomas|\n",
            "|02/08/2017|Councilmember|Carolyn King Arnold|   Carolyn|   Arnold|\n",
            "|02/08/2017|Councilmember| Rickey D. Callahan|    Rickey| Callahan|\n",
            "|01/11/2017|Councilmember|  Jennifer S. Gates|  Jennifer|    Gates|\n",
            "|04/25/2018|Councilmember|     Sandy  Greyson|     Sandy|  Greyson|\n",
            "|04/25/2018|Councilmember| Jennifer S.  Gates|  Jennifer|    Gates|\n",
            "+----------+-------------+-------------------+----------+---------+\n",
            "only showing top 20 rows\n",
            "\n"
          ]
        }
      ]
    },
    {
      "cell_type": "code",
      "source": [
        "# Add a column to voter_df for any voter with the title **Councilmember**\n",
        "voter_df = voter_df.withColumn('random_val',\n",
        "                               F.when(voter_df.TITLE == 'Councilmember', F.rand()))\n",
        "\n",
        "# Show some of the DataFrame rows, noting whether the when clause worked\n",
        "voter_df.show()"
      ],
      "metadata": {
        "colab": {
          "base_uri": "https://localhost:8080/"
        },
        "id": "PdolGPZLZMdL",
        "outputId": "01b2bde1-bd18-429b-b085-d860e2eeb128"
      },
      "execution_count": 11,
      "outputs": [
        {
          "output_type": "stream",
          "name": "stdout",
          "text": [
            "+----------+-------------+-------------------+----------+---------+-------------------+\n",
            "|      DATE|        TITLE|         VOTER_NAME|first_name|last_name|         random_val|\n",
            "+----------+-------------+-------------------+----------+---------+-------------------+\n",
            "|02/08/2017|Councilmember|  Jennifer S. Gates|  Jennifer|    Gates| 0.3198006787350782|\n",
            "|02/08/2017|Councilmember| Philip T. Kingston|    Philip| Kingston| 0.7466085702470885|\n",
            "|02/08/2017|        Mayor|Michael S. Rawlings|   Michael| Rawlings|               NULL|\n",
            "|02/08/2017|Councilmember|       Adam Medrano|      Adam|  Medrano|0.45234619991076186|\n",
            "|02/08/2017|Councilmember|       Casey Thomas|     Casey|   Thomas|0.04437005228010882|\n",
            "|02/08/2017|Councilmember|Carolyn King Arnold|   Carolyn|   Arnold| 0.9433366262058406|\n",
            "|02/08/2017|Councilmember|       Scott Griggs|     Scott|   Griggs| 0.4872337959508103|\n",
            "|02/08/2017|Councilmember|   B. Adam  McGough|        B.|  McGough|0.01775645608006582|\n",
            "|02/08/2017|Councilmember|       Lee Kleinman|       Lee| Kleinman| 0.8797121285279362|\n",
            "|02/08/2017|Councilmember|      Sandy Greyson|     Sandy|  Greyson| 0.1303074177730391|\n",
            "|02/08/2017|Councilmember|  Jennifer S. Gates|  Jennifer|    Gates|0.40255731243272097|\n",
            "|02/08/2017|Councilmember| Philip T. Kingston|    Philip| Kingston| 0.5536352848110367|\n",
            "|02/08/2017|        Mayor|Michael S. Rawlings|   Michael| Rawlings|               NULL|\n",
            "|02/08/2017|Councilmember|       Adam Medrano|      Adam|  Medrano|  0.746792973989224|\n",
            "|02/08/2017|Councilmember|       Casey Thomas|     Casey|   Thomas|0.03417521797387768|\n",
            "|02/08/2017|Councilmember|Carolyn King Arnold|   Carolyn|   Arnold| 0.7072413598822835|\n",
            "|02/08/2017|Councilmember| Rickey D. Callahan|    Rickey| Callahan|0.09984136028296864|\n",
            "|01/11/2017|Councilmember|  Jennifer S. Gates|  Jennifer|    Gates| 0.3407481530824492|\n",
            "|04/25/2018|Councilmember|     Sandy  Greyson|     Sandy|  Greyson|0.43284519613274375|\n",
            "|04/25/2018|Councilmember| Jennifer S.  Gates|  Jennifer|    Gates| 0.4680105320981429|\n",
            "+----------+-------------+-------------------+----------+---------+-------------------+\n",
            "only showing top 20 rows\n",
            "\n"
          ]
        }
      ]
    },
    {
      "cell_type": "code",
      "source": [
        "# Add a column to voter_df for a voter based on their position\n",
        "voter_df = voter_df.withColumn('random_val',\n",
        "                               F.when(voter_df.TITLE == 'Councilmember', F.rand())\n",
        "                               .when(voter_df.TITLE == 'Mayor', 2)\n",
        "                               .otherwise(0))\n",
        "# Show some of the DataFrame rows\n",
        "voter_df.show()\n",
        "# Use the .filter() clause with random_val\n",
        "voter_df.filter(voter_df.random_val == 0).show()"
      ],
      "metadata": {
        "colab": {
          "base_uri": "https://localhost:8080/"
        },
        "id": "xved7AtFZjpA",
        "outputId": "124c1a25-2776-422e-f427-bb28f2995255"
      },
      "execution_count": 12,
      "outputs": [
        {
          "output_type": "stream",
          "name": "stdout",
          "text": [
            "+----------+-------------+-------------------+----------+---------+-------------------+\n",
            "|      DATE|        TITLE|         VOTER_NAME|first_name|last_name|         random_val|\n",
            "+----------+-------------+-------------------+----------+---------+-------------------+\n",
            "|02/08/2017|Councilmember|  Jennifer S. Gates|  Jennifer|    Gates| 0.5717951778605277|\n",
            "|02/08/2017|Councilmember| Philip T. Kingston|    Philip| Kingston| 0.6116554426582629|\n",
            "|02/08/2017|        Mayor|Michael S. Rawlings|   Michael| Rawlings|                2.0|\n",
            "|02/08/2017|Councilmember|       Adam Medrano|      Adam|  Medrano| 0.4573399173410966|\n",
            "|02/08/2017|Councilmember|       Casey Thomas|     Casey|   Thomas| 0.8421075695814174|\n",
            "|02/08/2017|Councilmember|Carolyn King Arnold|   Carolyn|   Arnold| 0.9995747506526824|\n",
            "|02/08/2017|Councilmember|       Scott Griggs|     Scott|   Griggs| 0.7159039422500618|\n",
            "|02/08/2017|Councilmember|   B. Adam  McGough|        B.|  McGough| 0.3190018537509385|\n",
            "|02/08/2017|Councilmember|       Lee Kleinman|       Lee| Kleinman|0.29997740825275876|\n",
            "|02/08/2017|Councilmember|      Sandy Greyson|     Sandy|  Greyson|0.35342222949953483|\n",
            "|02/08/2017|Councilmember|  Jennifer S. Gates|  Jennifer|    Gates|  0.757454033250372|\n",
            "|02/08/2017|Councilmember| Philip T. Kingston|    Philip| Kingston|0.10764895694151055|\n",
            "|02/08/2017|        Mayor|Michael S. Rawlings|   Michael| Rawlings|                2.0|\n",
            "|02/08/2017|Councilmember|       Adam Medrano|      Adam|  Medrano| 0.5703977088959526|\n",
            "|02/08/2017|Councilmember|       Casey Thomas|     Casey|   Thomas| 0.1152477368117103|\n",
            "|02/08/2017|Councilmember|Carolyn King Arnold|   Carolyn|   Arnold|0.16254112704923795|\n",
            "|02/08/2017|Councilmember| Rickey D. Callahan|    Rickey| Callahan|  0.796342579850045|\n",
            "|01/11/2017|Councilmember|  Jennifer S. Gates|  Jennifer|    Gates| 0.5957156648045694|\n",
            "|04/25/2018|Councilmember|     Sandy  Greyson|     Sandy|  Greyson| 0.3502650781112472|\n",
            "|04/25/2018|Councilmember| Jennifer S.  Gates|  Jennifer|    Gates| 0.8099233854798962|\n",
            "+----------+-------------+-------------------+----------+---------+-------------------+\n",
            "only showing top 20 rows\n",
            "\n",
            "+----------+--------------------+-----------------+----------+---------+----------+\n",
            "|      DATE|               TITLE|       VOTER_NAME|first_name|last_name|random_val|\n",
            "+----------+--------------------+-----------------+----------+---------+----------+\n",
            "|04/25/2018|Deputy Mayor Pro Tem|     Adam Medrano|      Adam|  Medrano|       0.0|\n",
            "|04/25/2018|       Mayor Pro Tem|Dwaine R. Caraway|    Dwaine|  Caraway|       0.0|\n",
            "|06/20/2018|Deputy Mayor Pro Tem|     Adam Medrano|      Adam|  Medrano|       0.0|\n",
            "|06/20/2018|       Mayor Pro Tem|Dwaine R. Caraway|    Dwaine|  Caraway|       0.0|\n",
            "|06/20/2018|Deputy Mayor Pro Tem|     Adam Medrano|      Adam|  Medrano|       0.0|\n",
            "|06/20/2018|       Mayor Pro Tem|Dwaine R. Caraway|    Dwaine|  Caraway|       0.0|\n",
            "|08/15/2018|Deputy Mayor Pro Tem|     Adam Medrano|      Adam|  Medrano|       0.0|\n",
            "|08/15/2018|Deputy Mayor Pro Tem|     Adam Medrano|      Adam|  Medrano|       0.0|\n",
            "|09/18/2018|Deputy Mayor Pro Tem|     Adam Medrano|      Adam|  Medrano|       0.0|\n",
            "|09/18/2018|       Mayor Pro Tem|    Casey  Thomas|     Casey|   Thomas|       0.0|\n",
            "|04/25/2018|Deputy Mayor Pro Tem|     Adam Medrano|      Adam|  Medrano|       0.0|\n",
            "|04/25/2018|       Mayor Pro Tem|Dwaine R. Caraway|    Dwaine|  Caraway|       0.0|\n",
            "|04/11/2018|       Mayor Pro Tem|Dwaine R. Caraway|    Dwaine|  Caraway|       0.0|\n",
            "|04/11/2018|Deputy Mayor Pro Tem|     Adam Medrano|      Adam|  Medrano|       0.0|\n",
            "|04/11/2018|       Mayor Pro Tem|Dwaine R. Caraway|    Dwaine|  Caraway|       0.0|\n",
            "|04/11/2018|Deputy Mayor Pro Tem|     Adam Medrano|      Adam|  Medrano|       0.0|\n",
            "|04/11/2018|       Mayor Pro Tem|Dwaine R. Caraway|    Dwaine|  Caraway|       0.0|\n",
            "|06/13/2018|Deputy Mayor Pro Tem|     Adam Medrano|      Adam|  Medrano|       0.0|\n",
            "|06/13/2018|       Mayor Pro Tem|Dwaine R. Caraway|    Dwaine|  Caraway|       0.0|\n",
            "|04/11/2018|Deputy Mayor Pro Tem|     Adam Medrano|      Adam|  Medrano|       0.0|\n",
            "+----------+--------------------+-----------------+----------+---------+----------+\n",
            "only showing top 20 rows\n",
            "\n"
          ]
        }
      ]
    },
    {
      "cell_type": "code",
      "source": [
        "def getFirstAndMiddle(names):\n",
        "  # Return a space separated string of names\n",
        "  return ' '.join(names[:-1])\n",
        "# Define the method as a UDF\n",
        "udfFirstAndMiddle = F.udf(getFirstAndMiddle, StringType())\n",
        "# Create a new column using your UDF\n",
        "voter_df = voter_df.withColumn('first_and_middle_name', udfFirstAndMiddle(voter_df.VOTER_NAME))\n",
        "# Show the DataFrame\n",
        "voter_df.show()"
      ],
      "metadata": {
        "colab": {
          "base_uri": "https://localhost:8080/"
        },
        "id": "LuZgmq7iZrq2",
        "outputId": "1b5193d5-54f6-44eb-f51d-934a974f21c0"
      },
      "execution_count": 14,
      "outputs": [
        {
          "output_type": "stream",
          "name": "stdout",
          "text": [
            "+----------+-------------+-------------------+----------+---------+-------------------+---------------------+\n",
            "|      DATE|        TITLE|         VOTER_NAME|first_name|last_name|         random_val|first_and_middle_name|\n",
            "+----------+-------------+-------------------+----------+---------+-------------------+---------------------+\n",
            "|02/08/2017|Councilmember|  Jennifer S. Gates|  Jennifer|    Gates| 0.5717951778605277| J e n n i f e r  ...|\n",
            "|02/08/2017|Councilmember| Philip T. Kingston|    Philip| Kingston| 0.6116554426582629| P h i l i p   T ....|\n",
            "|02/08/2017|        Mayor|Michael S. Rawlings|   Michael| Rawlings|                2.0| M i c h a e l   S...|\n",
            "|02/08/2017|Councilmember|       Adam Medrano|      Adam|  Medrano| 0.4573399173410966| A d a m   M e d r...|\n",
            "|02/08/2017|Councilmember|       Casey Thomas|     Casey|   Thomas| 0.8421075695814174| C a s e y   T h o...|\n",
            "|02/08/2017|Councilmember|Carolyn King Arnold|   Carolyn|   Arnold| 0.9995747506526824| C a r o l y n   K...|\n",
            "|02/08/2017|Councilmember|       Scott Griggs|     Scott|   Griggs| 0.7159039422500618| S c o t t   G r i...|\n",
            "|02/08/2017|Councilmember|   B. Adam  McGough|        B.|  McGough| 0.3190018537509385| B .   A d a m    ...|\n",
            "|02/08/2017|Councilmember|       Lee Kleinman|       Lee| Kleinman|0.29997740825275876| L e e   K l e i n...|\n",
            "|02/08/2017|Councilmember|      Sandy Greyson|     Sandy|  Greyson|0.35342222949953483| S a n d y   G r e...|\n",
            "|02/08/2017|Councilmember|  Jennifer S. Gates|  Jennifer|    Gates|  0.757454033250372| J e n n i f e r  ...|\n",
            "|02/08/2017|Councilmember| Philip T. Kingston|    Philip| Kingston|0.10764895694151055| P h i l i p   T ....|\n",
            "|02/08/2017|        Mayor|Michael S. Rawlings|   Michael| Rawlings|                2.0| M i c h a e l   S...|\n",
            "|02/08/2017|Councilmember|       Adam Medrano|      Adam|  Medrano| 0.5703977088959526| A d a m   M e d r...|\n",
            "|02/08/2017|Councilmember|       Casey Thomas|     Casey|   Thomas| 0.1152477368117103| C a s e y   T h o...|\n",
            "|02/08/2017|Councilmember|Carolyn King Arnold|   Carolyn|   Arnold|0.16254112704923795| C a r o l y n   K...|\n",
            "|02/08/2017|Councilmember| Rickey D. Callahan|    Rickey| Callahan|  0.796342579850045| R i c k e y   D ....|\n",
            "|01/11/2017|Councilmember|  Jennifer S. Gates|  Jennifer|    Gates| 0.5957156648045694| J e n n i f e r  ...|\n",
            "|04/25/2018|Councilmember|     Sandy  Greyson|     Sandy|  Greyson| 0.3502650781112472| S a n d y     G r...|\n",
            "|04/25/2018|Councilmember| Jennifer S.  Gates|  Jennifer|    Gates| 0.8099233854798962| J e n n i f e r  ...|\n",
            "+----------+-------------+-------------------+----------+---------+-------------------+---------------------+\n",
            "only showing top 20 rows\n",
            "\n"
          ]
        }
      ]
    },
    {
      "cell_type": "code",
      "source": [
        "# Select all the unique council voters\n",
        "voter_df = voter_df.select(voter_df[\"VOTER_NAME\"]).distinct()\n",
        "# Count the rows in voter_df\n",
        "print(\"\\nThere are %d rows in the voter_df DataFrame.\\n\" % voter_df.count())\n",
        "# Add a ROW_ID\n",
        "voter_df = voter_df.withColumn('ROW_ID', F.monotonically_increasing_id())\n",
        "# Show the rows with 10 highest IDs in the set\n",
        "voter_df.orderBy(voter_df.ROW_ID.desc()).show(10)"
      ],
      "metadata": {
        "colab": {
          "base_uri": "https://localhost:8080/"
        },
        "id": "QixNeEslaDLC",
        "outputId": "7d1765fc-3ba5-4a5b-b59b-3222cdaf5b83"
      },
      "execution_count": 16,
      "outputs": [
        {
          "output_type": "stream",
          "name": "stdout",
          "text": [
            "\n",
            "There are 27 rows in the voter_df DataFrame.\n",
            "\n",
            "+-------------------+------+\n",
            "|         VOTER_NAME|ROW_ID|\n",
            "+-------------------+------+\n",
            "|       Lee Kleinman|    26|\n",
            "|        Erik Wilson|    25|\n",
            "|Carolyn King Arnold|    24|\n",
            "|Rickey D.  Callahan|    23|\n",
            "|   Monica R. Alonzo|    22|\n",
            "|    Lee M. Kleinman|    21|\n",
            "|  Jennifer S. Gates|    20|\n",
            "|Philip T.  Kingston|    19|\n",
            "|  Dwaine R. Caraway|    18|\n",
            "| Rickey D. Callahan|    17|\n",
            "+-------------------+------+\n",
            "only showing top 10 rows\n",
            "\n"
          ]
        }
      ]
    },
    {
      "cell_type": "code",
      "source": [
        "# Print the number of partitions in each DataFrame\n",
        "print(\"\\nThere are %d partitions in the voter_df DataFrame.\\n\" % voter_df.rdd.getNumPartitions())\n",
        "print(\"\\nThere are %d partitions in the voter_df_single DataFrame.\\n\" % voter_df_single.rdd.getNumPartitions())\n",
        "\n",
        "# Add a ROW_ID field to each DataFrame\n",
        "voter_df = voter_df.withColumn('ROW_ID', F.monotonically_increasing_id())\n",
        "voter_df_single = voter_df_single.withColumn('ROW_ID', F.monotonically_increasing_id())\n",
        "\n",
        "# Show the top 10 IDs in each DataFrame\n",
        "voter_df.orderBy(voter_df.ROW_ID.desc()).show(10)\n",
        "voter_df_single.orderBy(voter_df_single.ROW_ID.desc()).show(10)"
      ],
      "metadata": {
        "id": "9NWn15tIbIlJ"
      },
      "execution_count": null,
      "outputs": []
    },
    {
      "cell_type": "code",
      "source": [
        "# Determine the highest ROW_ID and save it in previous_max_ID\n",
        "previous_max_ID = voter_df_march.select('ROW_ID').rdd.max()[0]\n",
        "\n",
        "# Add a ROW_ID column to voter_df_april starting at the desired value\n",
        "voter_df_april = voter_df_april.withColumn('ROW_ID', F.monotonically_increasing_id() + previous_max_ID)\n",
        "\n",
        "# Show the ROW_ID from both DataFrames and compare\n",
        "voter_df_march.select('ROW_ID').show()\n",
        "voter_df_april.select('ROW_ID').show()"
      ],
      "metadata": {
        "id": "PmlXe5lBbkXG"
      },
      "execution_count": null,
      "outputs": []
    }
  ]
}