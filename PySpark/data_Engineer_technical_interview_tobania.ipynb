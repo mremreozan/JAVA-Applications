{
  "cells": [
    {
      "cell_type": "code",
      "execution_count": 1,
      "id": "3b65e877",
      "metadata": {
        "colab": {
          "base_uri": "https://localhost:8080/",
          "height": 0
        },
        "id": "3b65e877",
        "outputId": "456077cf-884a-4dcc-f7c0-c6875cf431af"
      },
      "outputs": [
        {
          "output_type": "stream",
          "name": "stdout",
          "text": [
            "Collecting pyspark\n",
            "  Downloading pyspark-3.5.0.tar.gz (316.9 MB)\n",
            "\u001b[2K     \u001b[90m━━━━━━━━━━━━━━━━━━━━━━━━━━━━━━━━━━━━━━━━\u001b[0m \u001b[32m316.9/316.9 MB\u001b[0m \u001b[31m3.3 MB/s\u001b[0m eta \u001b[36m0:00:00\u001b[0m\n",
            "\u001b[?25h  Preparing metadata (setup.py) ... \u001b[?25l\u001b[?25hdone\n",
            "Requirement already satisfied: py4j==0.10.9.7 in /usr/local/lib/python3.10/dist-packages (from pyspark) (0.10.9.7)\n",
            "Building wheels for collected packages: pyspark\n",
            "  Building wheel for pyspark (setup.py) ... \u001b[?25l\u001b[?25hdone\n",
            "  Created wheel for pyspark: filename=pyspark-3.5.0-py2.py3-none-any.whl size=317425344 sha256=ee38ec6925a9e2e153e10b0fed61c76944d71f1387a4a7a8f3ce26cbc0f54771\n",
            "  Stored in directory: /root/.cache/pip/wheels/41/4e/10/c2cf2467f71c678cfc8a6b9ac9241e5e44a01940da8fbb17fc\n",
            "Successfully built pyspark\n",
            "Installing collected packages: pyspark\n",
            "Successfully installed pyspark-3.5.0\n"
          ]
        }
      ],
      "source": [
        "!pip install pyspark"
      ]
    },
    {
      "cell_type": "code",
      "source": [
        "from pyspark.sql import SparkSession"
      ],
      "metadata": {
        "id": "BdGYlgUeqnwG"
      },
      "id": "BdGYlgUeqnwG",
      "execution_count": 1,
      "outputs": []
    },
    {
      "cell_type": "code",
      "source": [
        "spark = SparkSession.builder.appName(\"TransformOpenAQData\").config(\"spark.jars\", \"/content/postgresql-42.6.0.jar\").getOrCreate()"
      ],
      "metadata": {
        "id": "UX8kf18GqvOA"
      },
      "id": "UX8kf18GqvOA",
      "execution_count": 2,
      "outputs": []
    },
    {
      "cell_type": "markdown",
      "source": [
        "# 0) Test database connection with pyspark"
      ],
      "metadata": {
        "id": "Ow16Ufgyq-8-"
      },
      "id": "Ow16Ufgyq-8-"
    },
    {
      "cell_type": "code",
      "source": [
        "url = \"jdbc:postgresql://b9t5hul4bx.ff2skdqvke.tsdb.cloud.timescale.com:34391/tsdb\"\n",
        "\n",
        "properties = {\n",
        "    \"user\": \"tsdbadmin\",\n",
        "    \"password\": \"d9x6um9xy1sv5h6w\",\n",
        "    \"driver\": \"org.postgresql.Driver\"\n",
        "}"
      ],
      "metadata": {
        "id": "-WiB15lYq0T_"
      },
      "id": "-WiB15lYq0T_",
      "execution_count": 3,
      "outputs": []
    },
    {
      "cell_type": "code",
      "source": [
        "table_name = \"airpollution\"\n",
        "query = f\"(SELECT * FROM {table_name} LIMIT 1) AS subquery\"\n",
        "df = spark.read.jdbc(url=url, table=query, properties=properties)\n",
        "df.show()"
      ],
      "metadata": {
        "colab": {
          "base_uri": "https://localhost:8080/",
          "height": 0
        },
        "id": "OdIXD5wsrFPL",
        "outputId": "bdb3353b-451d-4b1f-8c64-5ba246a23bb7"
      },
      "id": "OdIXD5wsrFPL",
      "execution_count": 5,
      "outputs": [
        {
          "output_type": "stream",
          "name": "stdout",
          "text": [
            "+---+-------+----+---------+--------+----------+---------------+\n",
            "| id|country|city|parameter|utc_time|local_time|rolling_24h_avg|\n",
            "+---+-------+----+---------+--------+----------+---------------+\n",
            "+---+-------+----+---------+--------+----------+---------------+\n",
            "\n"
          ]
        }
      ]
    },
    {
      "cell_type": "markdown",
      "source": [
        "### Everything is normal, db is empty"
      ],
      "metadata": {
        "id": "baxgtprUrt3E"
      },
      "id": "baxgtprUrt3E"
    },
    {
      "cell_type": "markdown",
      "id": "557efeaa",
      "metadata": {
        "id": "557efeaa"
      },
      "source": [
        "# 1) Read Data"
      ]
    },
    {
      "cell_type": "code",
      "execution_count": 8,
      "id": "2b184c86",
      "metadata": {
        "id": "2b184c86"
      },
      "outputs": [],
      "source": [
        "ndjson_file_path = \"datasets/*.ndjson\"\n",
        "\n",
        "# Read the NDJSON file into a DataFrame\n",
        "airpollution = spark.read.json(ndjson_file_path)"
      ]
    },
    {
      "cell_type": "markdown",
      "id": "56f88c64",
      "metadata": {
        "id": "56f88c64"
      },
      "source": [
        "# 2) Data Exploration"
      ]
    },
    {
      "cell_type": "code",
      "execution_count": 9,
      "id": "e84ee106",
      "metadata": {
        "colab": {
          "base_uri": "https://localhost:8080/",
          "height": 0
        },
        "id": "e84ee106",
        "outputId": "fe91a392-0339-42ca-dc5a-643627921967"
      },
      "outputs": [
        {
          "output_type": "stream",
          "name": "stdout",
          "text": [
            "root\n",
            " |-- attribution: array (nullable = true)\n",
            " |    |-- element: struct (containsNull = true)\n",
            " |    |    |-- name: string (nullable = true)\n",
            " |    |    |-- url: string (nullable = true)\n",
            " |-- averagingPeriod: struct (nullable = true)\n",
            " |    |-- unit: string (nullable = true)\n",
            " |    |-- value: double (nullable = true)\n",
            " |-- city: string (nullable = true)\n",
            " |-- coordinates: struct (nullable = true)\n",
            " |    |-- latitude: double (nullable = true)\n",
            " |    |-- longitude: double (nullable = true)\n",
            " |-- country: string (nullable = true)\n",
            " |-- date: struct (nullable = true)\n",
            " |    |-- local: string (nullable = true)\n",
            " |    |-- utc: string (nullable = true)\n",
            " |-- location: string (nullable = true)\n",
            " |-- mobile: boolean (nullable = true)\n",
            " |-- parameter: string (nullable = true)\n",
            " |-- sourceName: string (nullable = true)\n",
            " |-- sourceType: string (nullable = true)\n",
            " |-- unit: string (nullable = true)\n",
            " |-- value: double (nullable = true)\n",
            "\n"
          ]
        }
      ],
      "source": [
        "airpollution.printSchema()"
      ]
    },
    {
      "cell_type": "code",
      "execution_count": 10,
      "id": "be2f5401",
      "metadata": {
        "colab": {
          "base_uri": "https://localhost:8080/",
          "height": 0
        },
        "id": "be2f5401",
        "outputId": "e7ebb29b-eab1-47fb-f304-ee730d3471e1"
      },
      "outputs": [
        {
          "output_type": "execute_result",
          "data": {
            "text/plain": [
              "[Row(attribution=[Row(name='EPA AirNow DOS', url='http://airnow.gov/index.cfm?action=airnow.global_summary')], averagingPeriod=Row(unit='hours', value=1.0), city='Kabul', coordinates=Row(latitude=34.535812, longitude=69.190514), country='AF', date=Row(local='2021-08-15T20:00:00+04:30', utc='2021-08-15T15:30:00.000Z'), location='US Diplomatic Post: Kabul', mobile=False, parameter='pm25', sourceName='StateAir_Kabul', sourceType='government', unit='µg/m³', value=-999.0),\n",
              " Row(attribution=[Row(name='EPA AirNow DOS', url='http://airnow.gov/index.cfm?action=airnow.global_summary')], averagingPeriod=Row(unit='hours', value=1.0), city='Kabul', coordinates=Row(latitude=34.535812, longitude=69.190514), country='AF', date=Row(local='2021-08-15T21:00:00+04:30', utc='2021-08-15T16:30:00.000Z'), location='US Diplomatic Post: Kabul', mobile=False, parameter='pm25', sourceName='StateAir_Kabul', sourceType='government', unit='µg/m³', value=-999.0)]"
            ]
          },
          "metadata": {},
          "execution_count": 10
        }
      ],
      "source": [
        "airpollution.head(2)"
      ]
    },
    {
      "cell_type": "code",
      "execution_count": 11,
      "id": "f32b6cf3",
      "metadata": {
        "colab": {
          "base_uri": "https://localhost:8080/",
          "height": 0
        },
        "id": "f32b6cf3",
        "outputId": "f2b76320-3552-4f8c-deb6-eb5c9779bd91"
      },
      "outputs": [
        {
          "output_type": "execute_result",
          "data": {
            "text/plain": [
              "[Row(attribution=[Row(name='EEA', url='http://www.eea.europa.eu/themes/air/air-quality')], averagingPeriod=Row(unit='hours', value=1.0), city='Latina', coordinates=Row(latitude=41.531389, longitude=12.946111), country='IT', date=Row(local='2021-10-06T16:00:00+02:00', utc='2021-10-06T14:00:00.000Z'), location='IT1184A', mobile=False, parameter='no2', sourceName='EEA Italy', sourceType='government', unit='µg/m³', value=23.0),\n",
              " Row(attribution=[Row(name='EEA', url='http://www.eea.europa.eu/themes/air/air-quality')], averagingPeriod=Row(unit='hours', value=1.0), city='Napoli', coordinates=Row(latitude=40.85361, longitude=14.27167), country='IT', date=Row(local='2021-10-06T16:00:00+02:00', utc='2021-10-06T14:00:00.000Z'), location='IT1491A', mobile=False, parameter='no2', sourceName='EEA Italy', sourceType='government', unit='µg/m³', value=43.41)]"
            ]
          },
          "metadata": {},
          "execution_count": 11
        }
      ],
      "source": [
        "airpollution.tail(2)"
      ]
    },
    {
      "cell_type": "code",
      "execution_count": 12,
      "id": "2f16e443",
      "metadata": {
        "colab": {
          "base_uri": "https://localhost:8080/",
          "height": 0
        },
        "id": "2f16e443",
        "outputId": "27374831-b670-4ab9-8c27-0a4185cd1ef2"
      },
      "outputs": [
        {
          "output_type": "stream",
          "name": "stdout",
          "text": [
            "Number of rows: 77273\n"
          ]
        }
      ],
      "source": [
        "row_count = airpollution.count()\n",
        "print(\"Number of rows:\", row_count)"
      ]
    },
    {
      "cell_type": "code",
      "execution_count": 13,
      "id": "0fd59232",
      "metadata": {
        "colab": {
          "base_uri": "https://localhost:8080/",
          "height": 0
        },
        "id": "0fd59232",
        "outputId": "231d587a-66ce-42c4-dd6f-11c48e5d013d"
      },
      "outputs": [
        {
          "output_type": "stream",
          "name": "stdout",
          "text": [
            "Number of columns: 13\n"
          ]
        }
      ],
      "source": [
        "num_columns = len(airpollution.columns)\n",
        "print(\"Number of columns:\", num_columns)"
      ]
    },
    {
      "cell_type": "code",
      "execution_count": 14,
      "id": "a3fb6adc",
      "metadata": {
        "colab": {
          "base_uri": "https://localhost:8080/",
          "height": 0
        },
        "id": "a3fb6adc",
        "outputId": "7c195921-e93d-4e29-c998-6d39e7337e23"
      },
      "outputs": [
        {
          "output_type": "stream",
          "name": "stdout",
          "text": [
            "Column names: ['attribution', 'averagingPeriod', 'city', 'coordinates', 'country', 'date', 'location', 'mobile', 'parameter', 'sourceName', 'sourceType', 'unit', 'value']\n"
          ]
        }
      ],
      "source": [
        "column_names = airpollution.columns\n",
        "print(\"Column names:\", column_names)"
      ]
    },
    {
      "cell_type": "code",
      "execution_count": 15,
      "id": "c44e4e06",
      "metadata": {
        "colab": {
          "base_uri": "https://localhost:8080/",
          "height": 0
        },
        "id": "c44e4e06",
        "outputId": "ded7576f-69cd-4ce8-8acf-d6699cd70ddb"
      },
      "outputs": [
        {
          "output_type": "stream",
          "name": "stdout",
          "text": [
            "Column data types:\n"
          ]
        },
        {
          "output_type": "execute_result",
          "data": {
            "text/plain": [
              "[('attribution', 'array<struct<name:string,url:string>>'),\n",
              " ('averagingPeriod', 'struct<unit:string,value:double>'),\n",
              " ('city', 'string'),\n",
              " ('coordinates', 'struct<latitude:double,longitude:double>'),\n",
              " ('country', 'string'),\n",
              " ('date', 'struct<local:string,utc:string>'),\n",
              " ('location', 'string'),\n",
              " ('mobile', 'boolean'),\n",
              " ('parameter', 'string'),\n",
              " ('sourceName', 'string'),\n",
              " ('sourceType', 'string'),\n",
              " ('unit', 'string'),\n",
              " ('value', 'double')]"
            ]
          },
          "metadata": {},
          "execution_count": 15
        }
      ],
      "source": [
        "print(\"Column data types:\")\n",
        "airpollution.dtypes"
      ]
    },
    {
      "cell_type": "markdown",
      "id": "b1aed338",
      "metadata": {
        "id": "b1aed338"
      },
      "source": [
        "# 3) Filter the Data\n",
        "## Filter some countries like Great Britain (GB), France (FR), Netherlands(NL)\n",
        "## Filter some columns"
      ]
    },
    {
      "cell_type": "code",
      "execution_count": 16,
      "id": "a53cc4e4",
      "metadata": {
        "id": "a53cc4e4"
      },
      "outputs": [],
      "source": [
        "selected_columns = [\"country\", \"city\", \"date\", \"parameter\", \"value\", \"averagingPeriod\", \"mobile\", \"unit\"]\n",
        "condition1 = (airpollution[\"country\"] == \"GB\")\n",
        "condition2 = (airpollution[\"country\"] == \"FR\")\n",
        "condition3 = (airpollution[\"country\"] == \"NL\")\n",
        "combined_condition = condition1 | condition2 | condition3"
      ]
    },
    {
      "cell_type": "code",
      "execution_count": 17,
      "id": "350915bc",
      "metadata": {
        "id": "350915bc"
      },
      "outputs": [],
      "source": [
        "airpollution_some = airpollution.filter(combined_condition).select(selected_columns)"
      ]
    },
    {
      "cell_type": "code",
      "execution_count": 18,
      "id": "a15b000c",
      "metadata": {
        "colab": {
          "base_uri": "https://localhost:8080/",
          "height": 0
        },
        "id": "a15b000c",
        "outputId": "8de58ac3-bc08-4ee3-f80f-19848cde5e04"
      },
      "outputs": [
        {
          "output_type": "stream",
          "name": "stdout",
          "text": [
            "Number of rows: 22959\n"
          ]
        }
      ],
      "source": [
        "row_count = airpollution_some.count()\n",
        "print(\"Number of rows:\", row_count)"
      ]
    },
    {
      "cell_type": "code",
      "execution_count": 19,
      "id": "f86bf097",
      "metadata": {
        "colab": {
          "base_uri": "https://localhost:8080/",
          "height": 0
        },
        "id": "f86bf097",
        "outputId": "766af351-af0e-4443-921f-941b53f79dd9"
      },
      "outputs": [
        {
          "output_type": "stream",
          "name": "stdout",
          "text": [
            "root\n",
            " |-- country: string (nullable = true)\n",
            " |-- city: string (nullable = true)\n",
            " |-- date: struct (nullable = true)\n",
            " |    |-- local: string (nullable = true)\n",
            " |    |-- utc: string (nullable = true)\n",
            " |-- parameter: string (nullable = true)\n",
            " |-- value: double (nullable = true)\n",
            " |-- averagingPeriod: struct (nullable = true)\n",
            " |    |-- unit: string (nullable = true)\n",
            " |    |-- value: double (nullable = true)\n",
            " |-- mobile: boolean (nullable = true)\n",
            " |-- unit: string (nullable = true)\n",
            "\n"
          ]
        }
      ],
      "source": [
        "airpollution_some.printSchema()"
      ]
    },
    {
      "cell_type": "markdown",
      "id": "fc2f402d",
      "metadata": {
        "id": "fc2f402d"
      },
      "source": [
        "# 4) Data Manipulation"
      ]
    },
    {
      "cell_type": "code",
      "execution_count": 20,
      "id": "4a6e7a3c",
      "metadata": {
        "id": "4a6e7a3c"
      },
      "outputs": [],
      "source": [
        "from pyspark.sql.functions import col, count"
      ]
    },
    {
      "cell_type": "code",
      "execution_count": 21,
      "id": "e9512983",
      "metadata": {
        "id": "e9512983"
      },
      "outputs": [],
      "source": [
        "airpollution_some = airpollution_some.withColumn(\"utc_time\", col(\"date.utc\"))\n",
        "airpollution_some = airpollution_some.withColumn(\"local_time\", col(\"date.local\"))\n",
        "airpollution_some = airpollution_some.drop(\"date\")"
      ]
    },
    {
      "cell_type": "code",
      "execution_count": 22,
      "id": "895ffc80",
      "metadata": {
        "id": "895ffc80"
      },
      "outputs": [],
      "source": [
        "airpollution_some = airpollution_some.withColumn(\"time_unit\", col(\"averagingPeriod.unit\"))\n",
        "airpollution_some = airpollution_some.withColumn(\"time_value\", col(\"averagingPeriod.value\"))\n",
        "airpollution_some = airpollution_some.drop(\"averagingPeriod\")"
      ]
    },
    {
      "cell_type": "markdown",
      "id": "f2e42baf",
      "metadata": {
        "id": "f2e42baf"
      },
      "source": [
        "Before grouping data by country, city and parameter, we need to check if there are more distinct values than 1 for;  \n",
        "1.   **time_unit**\n",
        "2.   **time_value**\n",
        "3.   **mobile**\n",
        "4.   **unit**\n",
        "\n",
        "If there are more options, we couldn't make a group from different type of units while computing the 24h average."
      ]
    },
    {
      "cell_type": "markdown",
      "id": "09885b41",
      "metadata": {
        "id": "09885b41"
      },
      "source": [
        "### 1. time_unit and 2. time_value"
      ]
    },
    {
      "cell_type": "code",
      "execution_count": 23,
      "id": "fa85a0c2",
      "metadata": {
        "colab": {
          "base_uri": "https://localhost:8080/",
          "height": 0
        },
        "id": "fa85a0c2",
        "outputId": "bd3813a3-8cad-4bce-85b0-0d72893c451f"
      },
      "outputs": [
        {
          "output_type": "stream",
          "name": "stdout",
          "text": [
            "Distinct time_unit Values\n",
            "+-------+----------------+---------+---------+---------+\n",
            "|country|            city|parameter|time_unit|time_unit|\n",
            "+-------+----------------+---------+---------+---------+\n",
            "|     GB|    Fort William|      no2|    hours|        5|\n",
            "|     GB|          Bexley|      so2|    hours|       80|\n",
            "|     FR|   Pas-de-Calais|      so2|    hours|       10|\n",
            "|     FR|    Haute-Savoie|     pm10|    hours|       62|\n",
            "|     FR|   French Guiana|       o3|    hours|       21|\n",
            "|     GB|         Hackney|       o3|    hours|       76|\n",
            "|     NL|       Hoogvliet|       o3|    hours|        2|\n",
            "|     GB|      Eastbourne|     pm25|    hours|       81|\n",
            "|     GB|          Harrow|      no2|    hours|      155|\n",
            "|     FR|             Ain|      no2|    hours|       22|\n",
            "|     FR|           Marne|     pm25|    hours|       12|\n",
            "|     GB|      Sunderland|     pm10|    hours|        5|\n",
            "|     GB|      Manchester|     pm10|    hours|       10|\n",
            "|     GB|         Bromley|     pm25|    hours|       35|\n",
            "|     GB|     Westminster|      no2|    hours|      101|\n",
            "|     FR|            Nord|       o3|    hours|       91|\n",
            "|     FR|           Marne|     pm10|    hours|       26|\n",
            "|     FR|Bouches-du-Rhône|     pm10|    hours|       59|\n",
            "|     FR|           Loire|      no2|    hours|       47|\n",
            "|     FR|  Hauts-de-Seine|     pm25|    hours|       12|\n",
            "+-------+----------------+---------+---------+---------+\n",
            "only showing top 20 rows\n",
            "\n"
          ]
        }
      ],
      "source": [
        "time_unit_values = airpollution_some.groupBy(\"country\", \"city\", \"parameter\", \"time_unit\").agg(count(\"time_unit\").alias(\"time_unit\"))\n",
        "print(\"Distinct time_unit Values\")\n",
        "time_unit_values.show()"
      ]
    },
    {
      "cell_type": "code",
      "execution_count": 24,
      "id": "2b07a7bd",
      "metadata": {
        "colab": {
          "base_uri": "https://localhost:8080/",
          "height": 0
        },
        "id": "2b07a7bd",
        "outputId": "282510bd-77a4-4726-92ef-54558e78838c"
      },
      "outputs": [
        {
          "output_type": "stream",
          "name": "stdout",
          "text": [
            "Distinct time_value Values\n",
            "+-------+--------------------+---------+----------+----------+\n",
            "|country|                city|parameter|time_value|time_value|\n",
            "+-------+--------------------+---------+----------+----------+\n",
            "|     GB|              London|     pm10|      24.0|        55|\n",
            "|     GB|           Ballymena|      no2|       1.0|         5|\n",
            "|     FR|            Bas-Rhin|      no2|       1.0|        49|\n",
            "|     FR|               Somme|     pm10|       1.0|        14|\n",
            "|     NL|            Eibergen|      no2|       1.0|         2|\n",
            "|     GB|             Norwich|     pm25|      24.0|         5|\n",
            "|     GB|             Chatham|     pm10|      24.0|         5|\n",
            "|     GB|         Port Talbot|     pm10|      24.0|         5|\n",
            "|     FR|               Isère|      no2|       1.0|       120|\n",
            "|     FR|Pyrénées-Atlantiques|     pm10|       1.0|        31|\n",
            "|     FR|                 Ain|     pm25|       1.0|        10|\n",
            "|     GB|            Lewisham|      no2|       1.0|       294|\n",
            "|     FR|       Haute-Garonne|       o3|       1.0|        40|\n",
            "|     NL|             Haarlem|      no2|       1.0|         2|\n",
            "|     GB|           Edinburgh|     pm10|      24.0|         5|\n",
            "|     FR|                Jura|      no2|       1.0|        20|\n",
            "|     FR|                Aube|     pm25|       1.0|         6|\n",
            "|     FR|        Hautes-Alpes|      no2|       1.0|        10|\n",
            "|     NL|            Nijmegen|     pm25|      24.0|         4|\n",
            "|     NL|            IJmuiden|      so2|       1.0|         2|\n",
            "+-------+--------------------+---------+----------+----------+\n",
            "only showing top 20 rows\n",
            "\n"
          ]
        }
      ],
      "source": [
        "time_value_values = airpollution_some.groupBy(\"country\", \"city\", \"parameter\", \"time_value\").agg(count(\"time_value\").alias(\"time_value\"))\n",
        "print(\"Distinct time_value Values\")\n",
        "time_value_values.show()"
      ]
    },
    {
      "cell_type": "markdown",
      "id": "29578680",
      "metadata": {
        "id": "29578680"
      },
      "source": [
        "There is no different type of **time_unit** and **time_value** in the same city we can **drop** them from the dataframe."
      ]
    },
    {
      "cell_type": "code",
      "execution_count": 25,
      "id": "5cdbd08d",
      "metadata": {
        "id": "5cdbd08d"
      },
      "outputs": [],
      "source": [
        "airpollution_some = airpollution_some.drop(\"time_unit\")\n",
        "airpollution_some = airpollution_some.drop(\"time_value\")"
      ]
    },
    {
      "cell_type": "markdown",
      "id": "9d695a72",
      "metadata": {
        "id": "9d695a72"
      },
      "source": [
        "### 3. mobile"
      ]
    },
    {
      "cell_type": "code",
      "execution_count": 26,
      "id": "c463e151",
      "metadata": {
        "colab": {
          "base_uri": "https://localhost:8080/",
          "height": 0
        },
        "id": "c463e151",
        "outputId": "849fe879-48cd-449b-daba-ce47f54e0a1c"
      },
      "outputs": [
        {
          "output_type": "stream",
          "name": "stdout",
          "text": [
            "Distinct mobile Values\n",
            "+-------+----------------+---------+------+------+\n",
            "|country|            city|parameter|mobile|mobile|\n",
            "+-------+----------------+---------+------+------+\n",
            "|     GB|Stanford-le-Hope|     pm25| false|     5|\n",
            "|     GB|       Liverpool|      so2| false|     5|\n",
            "|     GB|      Scunthorpe|      so2| false|     5|\n",
            "|     GB|          Ealing|     pm10| false|   298|\n",
            "|     GB|          Harrow|     pm10| false|   150|\n",
            "|     NL|          Cabauw|     pm10| false|     2|\n",
            "|     GB|          London|     pm25| false|    45|\n",
            "|     GB|         Chatham|     pm10| false|     5|\n",
            "|     GB|         Lambeth|     pm10| false|   223|\n",
            "|     FR|           Meuse|       o3| false|     8|\n",
            "|     GB|   West Midlands|      no2| false|    10|\n",
            "|     GB|        Richmond|     pm10| false|    98|\n",
            "|     FR|   Pas-de-Calais|      so2| false|    10|\n",
            "|     FR|         Essonne|      no2| false|    34|\n",
            "|     FR|     Haute-Corse|     pm10| false|     6|\n",
            "|     NL|         Utrecht|      no2| false|     6|\n",
            "|     NL|        Eibergen|      no2| false|     2|\n",
            "|     NL|    Wijnandsrade|      so2| false|     2|\n",
            "|     FR|        Vaucluse|      no2| false|     9|\n",
            "|     FR|          Creuse|       o3| false|    22|\n",
            "+-------+----------------+---------+------+------+\n",
            "only showing top 20 rows\n",
            "\n"
          ]
        }
      ],
      "source": [
        "mobile_values = airpollution_some.groupBy(\"country\", \"city\", \"parameter\", \"mobile\").agg(count(\"mobile\").alias(\"mobile\"))\n",
        "print(\"Distinct mobile Values\")\n",
        "mobile_values.show()"
      ]
    },
    {
      "cell_type": "markdown",
      "id": "e44f59d4",
      "metadata": {
        "id": "e44f59d4"
      },
      "source": [
        "There is **no mobile 'true version'** in the same city we can drop it from the dataframe."
      ]
    },
    {
      "cell_type": "code",
      "execution_count": 27,
      "id": "d35b33df",
      "metadata": {
        "id": "d35b33df"
      },
      "outputs": [],
      "source": [
        "airpollution_some = airpollution_some.drop(\"mobile\")"
      ]
    },
    {
      "cell_type": "markdown",
      "id": "37ca0658",
      "metadata": {
        "id": "37ca0658"
      },
      "source": [
        "### 4. unit"
      ]
    },
    {
      "cell_type": "code",
      "execution_count": 28,
      "id": "8aa70323",
      "metadata": {
        "colab": {
          "base_uri": "https://localhost:8080/",
          "height": 0
        },
        "id": "8aa70323",
        "outputId": "903196bf-ce77-48b9-e099-5b9fb9ab64b2"
      },
      "outputs": [
        {
          "output_type": "stream",
          "name": "stdout",
          "text": [
            "Distinct unit Values\n",
            "+-------+--------------------+---------+-----+----+\n",
            "|country|                city|parameter| unit|unit|\n",
            "+-------+--------------------+---------+-----+----+\n",
            "|     FR|        Haute-Vienne|     pm10|µg/m³|  17|\n",
            "|     NL|           Rotterdam|     pm10|µg/m³|   4|\n",
            "|     GB|           Sheffield|       o3|µg/m³|   5|\n",
            "|     NL|           Oude Meer|      no2|µg/m³|   2|\n",
            "|     GB|             Wrexham|      no2|µg/m³|   5|\n",
            "|     FR|       Pas-de-Calais|     pm25|µg/m³|  28|\n",
            "|     FR|               Yonne|       o3|µg/m³|  28|\n",
            "|     FR|            Calvados|     pm10|µg/m³|  18|\n",
            "|     GB|           Edinburgh|     pm10|µg/m³|   5|\n",
            "|     GB|           Liverpool|       o3|µg/m³|  10|\n",
            "|     GB|Barking and Dagenham|      so2|µg/m³|  93|\n",
            "|     GB|           Greenwich|      no2|µg/m³| 671|\n",
            "|     GB|       Tower Hamlets|     pm25|µg/m³|   8|\n",
            "|     FR|           Haut-Rhin|      so2|µg/m³|  20|\n",
            "|     FR|       Haute-Garonne|       o3|µg/m³|  40|\n",
            "|     FR|               Loire|     pm10|µg/m³|  39|\n",
            "|     FR|        Saint-Pierre|       co|µg/m³|   4|\n",
            "|     NL|            Nijmegen|      no2|µg/m³|   4|\n",
            "|     FR|         Haute-Saône|       o3|µg/m³|  12|\n",
            "|     NL|            Eibergen|       o3|µg/m³|   2|\n",
            "+-------+--------------------+---------+-----+----+\n",
            "only showing top 20 rows\n",
            "\n"
          ]
        }
      ],
      "source": [
        "unit_values = airpollution_some.groupBy(\"country\", \"city\", \"parameter\", \"unit\").agg(count(\"unit\").alias(\"unit\"))\n",
        "print(\"Distinct unit Values\")\n",
        "unit_values.show()"
      ]
    },
    {
      "cell_type": "markdown",
      "id": "f0409b9e",
      "metadata": {
        "id": "f0409b9e"
      },
      "source": [
        "There is **no different type of unit** in the same city we can drop it from the dataframe."
      ]
    },
    {
      "cell_type": "code",
      "execution_count": 29,
      "id": "40340298",
      "metadata": {
        "id": "40340298"
      },
      "outputs": [],
      "source": [
        "airpollution_some = airpollution_some.drop(\"unit\")"
      ]
    },
    {
      "cell_type": "markdown",
      "id": "130dc3ee",
      "metadata": {
        "id": "130dc3ee"
      },
      "source": [
        "## Parameter Values and Data Modelling\n",
        "Parameter is the important key in the data because we compute the 24h average of the parameters' values. I will decide how to design data in the database according to relations among parameters."
      ]
    },
    {
      "cell_type": "code",
      "execution_count": 30,
      "id": "8d4c8ff7",
      "metadata": {
        "colab": {
          "base_uri": "https://localhost:8080/",
          "height": 0
        },
        "id": "8d4c8ff7",
        "outputId": "8ea74759-31c2-43ea-95bd-0de7409a384c"
      },
      "outputs": [
        {
          "output_type": "stream",
          "name": "stdout",
          "text": [
            "Distinct Parameter Values\n",
            "+---------+---------+\n",
            "|parameter|parameter|\n",
            "+---------+---------+\n",
            "|      so2|      863|\n",
            "|       co|      177|\n",
            "|       o3|     3541|\n",
            "|     pm10|     6180|\n",
            "|      no2|     9303|\n",
            "|     pm25|     2895|\n",
            "+---------+---------+\n",
            "\n"
          ]
        }
      ],
      "source": [
        "parameter_values = airpollution_some.groupBy(\"parameter\").agg(count(\"parameter\").alias(\"parameter\"))\n",
        "print(\"Distinct Parameter Values\")\n",
        "parameter_values.show()"
      ]
    },
    {
      "cell_type": "markdown",
      "id": "db412f60",
      "metadata": {
        "id": "db412f60"
      },
      "source": [
        "I would like to merge data by creating a column for each different sensor. Afterwards, I can store different parameters' values in the same row. And so I can show the data with simpler queries in a dashboard without needing filters and joins. But line 50 tells us that different sensors (so2, co etc.) collect data in different datetime. If we merge different sensor data at the same datetime, our data will be sparse data. Finally sparse data will not be a good option interms of storage efficiency.\n",
        "However we don't need to create a table for different sensor data. We will create a single table in the database for all different sensor data to fecth data with simpler queries."
      ]
    },
    {
      "cell_type": "markdown",
      "id": "527c9187",
      "metadata": {
        "id": "527c9187"
      },
      "source": [
        "### Final Data Schema"
      ]
    },
    {
      "cell_type": "code",
      "execution_count": 31,
      "id": "6735cd54",
      "metadata": {
        "colab": {
          "base_uri": "https://localhost:8080/",
          "height": 0
        },
        "id": "6735cd54",
        "outputId": "d1e08ada-1b5e-40fd-bdee-d5875781b8cc"
      },
      "outputs": [
        {
          "output_type": "stream",
          "name": "stdout",
          "text": [
            "root\n",
            " |-- country: string (nullable = true)\n",
            " |-- city: string (nullable = true)\n",
            " |-- parameter: string (nullable = true)\n",
            " |-- value: double (nullable = true)\n",
            " |-- utc_time: string (nullable = true)\n",
            " |-- local_time: string (nullable = true)\n",
            "\n"
          ]
        }
      ],
      "source": [
        "airpollution_some.printSchema()"
      ]
    },
    {
      "cell_type": "markdown",
      "id": "0a6249a7",
      "metadata": {
        "id": "0a6249a7"
      },
      "source": [
        "# 5) Data Aggregation\n",
        "### A. Compute the 24hr rolling average for the value over utc_time grouped by country and city."
      ]
    },
    {
      "cell_type": "code",
      "execution_count": 32,
      "id": "3fdce055",
      "metadata": {
        "id": "3fdce055"
      },
      "outputs": [],
      "source": [
        "from pyspark.sql.window import Window\n",
        "from pyspark.sql.functions import avg"
      ]
    },
    {
      "cell_type": "code",
      "execution_count": 33,
      "id": "13f1b484",
      "metadata": {
        "id": "13f1b484"
      },
      "outputs": [],
      "source": [
        "# Define the window specification for the 24-hour rolling average\n",
        "window_spec = Window.partitionBy(\"country\", \"city\", \"parameter\").orderBy(\"utc_time\").rowsBetween(-23, 0)"
      ]
    },
    {
      "cell_type": "code",
      "execution_count": 34,
      "id": "7f5e3e33",
      "metadata": {
        "id": "7f5e3e33"
      },
      "outputs": [],
      "source": [
        "# Compute the 24-hour rolling average\n",
        "airpollution_some = airpollution_some.withColumn(\"rolling_24h_avg\", avg(col(\"value\")).over(window_spec))"
      ]
    },
    {
      "cell_type": "code",
      "source": [
        "airpollution_some.first()"
      ],
      "metadata": {
        "colab": {
          "base_uri": "https://localhost:8080/",
          "height": 0
        },
        "id": "0MuBNXxpvrE7",
        "outputId": "152864fe-c4ce-44fe-fa18-cf703245e4ec"
      },
      "id": "0MuBNXxpvrE7",
      "execution_count": 48,
      "outputs": [
        {
          "output_type": "execute_result",
          "data": {
            "text/plain": [
              "Row(country='FR', city='Ain', parameter='no2', value=7.9, utc_time='2021-10-06T09:00:00.000Z', local_time='2021-10-06T11:00:00+02:00', rolling_24h_avg=7.9)"
            ]
          },
          "metadata": {},
          "execution_count": 48
        }
      ]
    },
    {
      "cell_type": "code",
      "source": [
        "from pyspark.sql.functions import to_timestamp\n",
        "\n",
        "airpollution_some = airpollution_some.withColumn(\"utc_time\", to_timestamp(\"utc_time\", \"yyyy-MM-dd'T'HH:mm:ss.SSS'Z'\"))"
      ],
      "metadata": {
        "id": "QAYj4mYPvgJJ"
      },
      "id": "QAYj4mYPvgJJ",
      "execution_count": 49,
      "outputs": []
    },
    {
      "cell_type": "code",
      "execution_count": 50,
      "id": "15c7b3fc",
      "metadata": {
        "colab": {
          "base_uri": "https://localhost:8080/",
          "height": 0
        },
        "id": "15c7b3fc",
        "outputId": "621c22c5-6647-4ca8-fc15-c9c074dffa0a"
      },
      "outputs": [
        {
          "output_type": "stream",
          "name": "stdout",
          "text": [
            "root\n",
            " |-- country: string (nullable = true)\n",
            " |-- city: string (nullable = true)\n",
            " |-- parameter: string (nullable = true)\n",
            " |-- value: double (nullable = true)\n",
            " |-- utc_time: timestamp (nullable = true)\n",
            " |-- local_time: string (nullable = true)\n",
            " |-- rolling_24h_avg: double (nullable = true)\n",
            "\n"
          ]
        }
      ],
      "source": [
        "airpollution_some.printSchema()"
      ]
    },
    {
      "cell_type": "code",
      "execution_count": 73,
      "id": "5b493bf5",
      "metadata": {
        "id": "5b493bf5"
      },
      "outputs": [],
      "source": [
        "first_table = airpollution_some.drop(\"value\")"
      ]
    },
    {
      "cell_type": "markdown",
      "source": [
        "### Create id column for new data"
      ],
      "metadata": {
        "id": "ow2ZavkD05GC"
      },
      "id": "ow2ZavkD05GC"
    },
    {
      "cell_type": "code",
      "source": [
        "table_name = \"airpollution\"\n",
        "query = f\"(SELECT * FROM {table_name} LIMIT 1) AS subquery\"\n",
        "df = spark.read.jdbc(url=url, table=query, properties=properties)\n",
        "df.show()"
      ],
      "metadata": {
        "colab": {
          "base_uri": "https://localhost:8080/",
          "height": 0
        },
        "id": "iFftf6qbs3QI",
        "outputId": "d87055f4-2c6e-405f-ec84-74cf397cd05b"
      },
      "id": "iFftf6qbs3QI",
      "execution_count": 74,
      "outputs": [
        {
          "output_type": "stream",
          "name": "stdout",
          "text": [
            "+--------+--------------+-------+----+---------+----------+---------------+\n",
            "|utc_time|measurement_id|country|city|parameter|local_time|rolling_24h_avg|\n",
            "+--------+--------------+-------+----+---------+----------+---------------+\n",
            "+--------+--------------+-------+----+---------+----------+---------------+\n",
            "\n"
          ]
        }
      ]
    },
    {
      "cell_type": "code",
      "source": [
        "# Find the maximum ID in the DataFrame\n",
        "max_id = df.selectExpr(\"MAX(measurement_id)\").first()[0]\n",
        "# Calculate the offset for generating new IDs\n",
        "offset = max_id + 1 if max_id is not None else 1"
      ],
      "metadata": {
        "id": "XO9P8jWDtC7E"
      },
      "id": "XO9P8jWDtC7E",
      "execution_count": 77,
      "outputs": []
    },
    {
      "cell_type": "code",
      "source": [
        "from pyspark.sql.functions import monotonically_increasing_id, col, lit\n",
        "\n",
        "# Generate new IDs with the offset\n",
        "first_table = first_table.withColumn(\"measurement_id\", monotonically_increasing_id() + lit(offset))"
      ],
      "metadata": {
        "id": "3VPjOiZAs3Xa"
      },
      "id": "3VPjOiZAs3Xa",
      "execution_count": 78,
      "outputs": []
    },
    {
      "cell_type": "code",
      "source": [
        "first_table.show(3)"
      ],
      "metadata": {
        "colab": {
          "base_uri": "https://localhost:8080/",
          "height": 0
        },
        "id": "uU_iGII0tqeB",
        "outputId": "f59dfb79-20bd-495d-f173-d8ca0fc2ff69"
      },
      "id": "uU_iGII0tqeB",
      "execution_count": 79,
      "outputs": [
        {
          "output_type": "stream",
          "name": "stdout",
          "text": [
            "+-------+----+---------+-------------------+--------------------+-----------------+--------------+\n",
            "|country|city|parameter|           utc_time|          local_time|  rolling_24h_avg|measurement_id|\n",
            "+-------+----+---------+-------------------+--------------------+-----------------+--------------+\n",
            "|     FR| Ain|      no2|2021-10-06 09:00:00|2021-10-06T11:00:...|              7.9|             1|\n",
            "|     FR| Ain|      no2|2021-10-06 09:00:00|2021-10-06T11:00:...|              9.4|             2|\n",
            "|     FR| Ain|      no2|2021-10-06 10:00:00|2021-10-06T12:00:...|9.299999999999999|             3|\n",
            "+-------+----+---------+-------------------+--------------------+-----------------+--------------+\n",
            "only showing top 3 rows\n",
            "\n"
          ]
        }
      ]
    },
    {
      "cell_type": "markdown",
      "source": [
        "### Insert the first table into TimescaleDB"
      ],
      "metadata": {
        "id": "5JVY7XmK0seK"
      },
      "id": "5JVY7XmK0seK"
    },
    {
      "cell_type": "code",
      "source": [
        "mode = \"append\"\n",
        "first_table.write.jdbc(url=url, table=\"airpollution\", mode=mode, properties=properties)"
      ],
      "metadata": {
        "id": "S9d1POgztVzl"
      },
      "id": "S9d1POgztVzl",
      "execution_count": 80,
      "outputs": []
    },
    {
      "cell_type": "markdown",
      "id": "47522f52",
      "metadata": {
        "id": "47522f52"
      },
      "source": [
        "### B. Compute Air Quality index for PM2.5 and PM10"
      ]
    },
    {
      "cell_type": "code",
      "execution_count": 81,
      "id": "86d5805d",
      "metadata": {
        "id": "86d5805d"
      },
      "outputs": [],
      "source": [
        "from pyspark.sql.functions import udf, expr, lit, collect_list\n",
        "from pyspark.sql.types import FloatType"
      ]
    },
    {
      "cell_type": "code",
      "execution_count": 82,
      "id": "64213dd8",
      "metadata": {
        "id": "64213dd8"
      },
      "outputs": [],
      "source": [
        "pm25aqi_index = [{\"aqi_low\": 0, \"aqi_high\": 50, \"breakpoint_low\": 0, \"breakpoint_high\": 12},\n",
        "                {\"aqi_low\": 51, \"aqi_high\": 100, \"breakpoint_low\": 12.1, \"breakpoint_high\": 35.4},\n",
        "                {\"aqi_low\": 101, \"aqi_high\": 150, \"breakpoint_low\": 35.5, \"breakpoint_high\": 55.4},\n",
        "                {\"aqi_low\": 151, \"aqi_high\": 200, \"breakpoint_low\": 55.5, \"breakpoint_high\": 150.4},\n",
        "                {\"aqi_low\": 201, \"aqi_high\": 300, \"breakpoint_low\": 150.5, \"breakpoint_high\": 250.4},\n",
        "                {\"aqi_low\": 301, \"aqi_high\": 400, \"breakpoint_low\": 250.5, \"breakpoint_high\": 350.4},\n",
        "                {\"aqi_low\": 401, \"aqi_high\": 500, \"breakpoint_low\": 350.5, \"breakpoint_high\": 500.4},\n",
        "                {\"aqi_low\": 501, \"aqi_high\": 999, \"breakpoint_low\": 500.5, \"breakpoint_high\": 99999.9},\n",
        "                ]"
      ]
    },
    {
      "cell_type": "code",
      "execution_count": 83,
      "id": "1a646096",
      "metadata": {
        "id": "1a646096"
      },
      "outputs": [],
      "source": [
        "pm10aqi_index = [{\"aqi_low\": 0, \"aqi_high\": 50, \"breakpoint_low\": 0, \"breakpoint_high\": 12},\n",
        "                {\"aqi_low\": 51, \"aqi_high\": 100, \"breakpoint_low\": 55.0, \"breakpoint_high\": 154.0},\n",
        "                {\"aqi_low\": 101, \"aqi_high\": 150, \"breakpoint_low\": 155.0, \"breakpoint_high\": 254.0},\n",
        "                {\"aqi_low\": 151, \"aqi_high\": 200, \"breakpoint_low\": 255.0, \"breakpoint_high\": 354.0},\n",
        "                {\"aqi_low\": 201, \"aqi_high\": 300, \"breakpoint_low\": 355.0, \"breakpoint_high\": 424.0},\n",
        "                {\"aqi_low\": 301, \"aqi_high\": 400, \"breakpoint_low\": 425.0, \"breakpoint_high\": 504.0},\n",
        "                {\"aqi_low\": 401, \"aqi_high\": 500, \"breakpoint_low\": 505.0, \"breakpoint_high\": 604.0},\n",
        "                {\"aqi_low\": 501, \"aqi_high\": 999, \"breakpoint_low\": 604.0, \"breakpoint_high\": 99999.9},\n",
        "                ]"
      ]
    },
    {
      "cell_type": "code",
      "execution_count": 84,
      "id": "d5490fa6",
      "metadata": {
        "id": "d5490fa6"
      },
      "outputs": [],
      "source": [
        "def compute_aqi(pm24h: float, pm_type: str):\n",
        "    aqi_high = None\n",
        "    if pm_type==\"pm10\":\n",
        "        score_table = pm10aqi_index\n",
        "    elif pm_type==\"pm25\":\n",
        "        score_table = pm25aqi_index\n",
        "    else:\n",
        "        print(f\"There is no type like {type}\")\n",
        "        return None\n",
        "    for max_and_min in score_table:\n",
        "        if pm24h > max_and_min[\"breakpoint_low\"] and pm24h < max_and_min[\"breakpoint_high\"]:\n",
        "            aqi_high = max_and_min[\"aqi_high\"]\n",
        "            aqi_low = max_and_min[\"aqi_low\"]\n",
        "            breakpoint_high = max_and_min[\"breakpoint_high\"]\n",
        "            breakpoint_low = max_and_min[\"breakpoint_low\"]\n",
        "            break\n",
        "    if aqi_high is None:\n",
        "        return None\n",
        "    aqi = (aqi_high - aqi_low)/(breakpoint_high - breakpoint_low) * (pm24h - breakpoint_low) + aqi_low\n",
        "    return aqi"
      ]
    },
    {
      "cell_type": "code",
      "source": [
        "# List of columns to drop\n",
        "columns_to_drop = [\"country\", \"city\", \"utc_time\", \"local_time\"]\n",
        "\n",
        "# Drop the specified columns\n",
        "pm_airpollution = first_table.drop(*columns_to_drop)"
      ],
      "metadata": {
        "id": "L4lkYtD3z87D"
      },
      "id": "L4lkYtD3z87D",
      "execution_count": 85,
      "outputs": []
    },
    {
      "cell_type": "code",
      "execution_count": 86,
      "id": "e2430bcc",
      "metadata": {
        "id": "e2430bcc"
      },
      "outputs": [],
      "source": [
        "condition1 = (first_table[\"parameter\"] == \"pm25\")\n",
        "condition2 = (first_table[\"parameter\"] == \"pm10\")\n",
        "combined_condition = condition1 | condition2"
      ]
    },
    {
      "cell_type": "code",
      "execution_count": 87,
      "id": "5bc7f2af",
      "metadata": {
        "id": "5bc7f2af"
      },
      "outputs": [],
      "source": [
        "pm_airpollution = pm_airpollution.filter(combined_condition)"
      ]
    },
    {
      "cell_type": "code",
      "execution_count": 88,
      "id": "0522d62c",
      "metadata": {
        "id": "0522d62c"
      },
      "outputs": [],
      "source": [
        "custom_udf = udf(compute_aqi, FloatType())\n",
        "\n",
        "# Apply the UDF to a DataFrame column\n",
        "pm_airpollution = pm_airpollution.withColumn(\"air_quality_index\", custom_udf(pm_airpollution[\"rolling_24h_avg\"], pm_airpollution[\"parameter\"]))"
      ]
    },
    {
      "cell_type": "code",
      "source": [
        "# List of columns to drop\n",
        "columns_to_drop = [\"parameter\", \"rolling_24h_avg\"]\n",
        "\n",
        "# Drop the specified columns\n",
        "second_table = pm_airpollution.drop(*columns_to_drop)"
      ],
      "metadata": {
        "id": "lTR_R0TO0I5K"
      },
      "id": "lTR_R0TO0I5K",
      "execution_count": 89,
      "outputs": []
    },
    {
      "cell_type": "code",
      "source": [
        "second_table.show(2)"
      ],
      "metadata": {
        "colab": {
          "base_uri": "https://localhost:8080/",
          "height": 0
        },
        "id": "hlw9PUqxwzbp",
        "outputId": "475a258c-a4bd-47f2-e50e-d66c03f0e446"
      },
      "id": "hlw9PUqxwzbp",
      "execution_count": 90,
      "outputs": [
        {
          "output_type": "stream",
          "name": "stdout",
          "text": [
            "+--------------+-----------------+\n",
            "|measurement_id|air_quality_index|\n",
            "+--------------+-----------------+\n",
            "|            45|        35.833332|\n",
            "|            46|        30.833334|\n",
            "+--------------+-----------------+\n",
            "only showing top 2 rows\n",
            "\n"
          ]
        }
      ]
    },
    {
      "cell_type": "markdown",
      "id": "6ed13d64",
      "metadata": {
        "id": "6ed13d64"
      },
      "source": [
        "### Insert the second table into TimescaleDB"
      ]
    },
    {
      "cell_type": "code",
      "execution_count": 91,
      "id": "a9b8a840",
      "metadata": {
        "id": "a9b8a840"
      },
      "outputs": [],
      "source": [
        "mode = \"append\"\n",
        "second_table.write.jdbc(url=url, table=\"air_quality_score\", mode=mode, properties=properties)"
      ]
    },
    {
      "cell_type": "code",
      "source": [],
      "metadata": {
        "id": "pS9dhPhg0kG0"
      },
      "id": "pS9dhPhg0kG0",
      "execution_count": null,
      "outputs": []
    }
  ],
  "metadata": {
    "kernelspec": {
      "display_name": "PySpark",
      "language": "python",
      "name": "pyspark"
    },
    "language_info": {
      "codemirror_mode": {
        "name": "ipython",
        "version": 3
      },
      "file_extension": ".py",
      "mimetype": "text/x-python",
      "name": "python",
      "nbconvert_exporter": "python",
      "pygments_lexer": "ipython3",
      "version": "3.10.8"
    },
    "colab": {
      "provenance": []
    }
  },
  "nbformat": 4,
  "nbformat_minor": 5
}